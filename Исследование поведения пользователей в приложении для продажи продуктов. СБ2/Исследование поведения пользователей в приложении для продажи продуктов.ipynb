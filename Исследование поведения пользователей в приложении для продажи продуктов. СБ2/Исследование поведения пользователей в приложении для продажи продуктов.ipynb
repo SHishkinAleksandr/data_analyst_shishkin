{
 "cells": [
  {
   "cell_type": "markdown",
   "id": "6d99cfe9-5a3d-4cb6-9bdc-34dbe7a09d81",
   "metadata": {},
   "source": [
    "# Исследование поведения пользователей в приложении для продажи продуктов"
   ]
  },
  {
   "cell_type": "markdown",
   "id": "a58c1c34-7517-446a-bb8b-ecf1df643361",
   "metadata": {
    "slideshow": {
     "slide_type": ""
    },
    "tags": []
   },
   "source": [
    "# Введение\n",
    "\n",
    "**Цель проекта** - изучить поведение пользователей в приложении для продажи продуктов. <br>А именно:\n",
    "* *Изучить воронки продаж для определения пути пользователей до покупки и возможных мест \"застревания\", препятствующих совершению покупки;*\n",
    "* *Изучить влияние разных шрифтов на привлечение пользователей. Для этого необходимо разбить данные на 3 группы: 2 контрольные со старыми шрифтами и одну экспериментальную — с новыми. Провести A/A/B-эксперимент и выяснить, какой шрифт лучше.*\n",
    "\n",
    "**Описание данных**\n",
    "<br>Каждая запись в логе — это действие пользователя, или событие.\n",
    "- `EventName` — название события;\n",
    "- `DeviceIDHash` — уникальный идентификатор пользователя;\n",
    "- `EventTimestamp` — время события;\n",
    "- `ExpId` — номер эксперимен 246 и 247 - контрольные группы, 248 - экспериментальная.\n",
    "\n",
    "Проект будет выполнен по плану, представленному ниже."
   ]
  },
  {
   "cell_type": "markdown",
   "id": "f809e512-ed73-42f4-be80-4fa56a818dcd",
   "metadata": {},
   "source": [
    "# План работы\n",
    "\n",
    "1. [**Загрузка данных.**](#1-bullet)\n",
    "\n",
    "2. [**Подготовка данных.**](#2-bullet)\n",
    "\n",
    "3. [**Исследовательский анализ данных.**](#3-bullet)\n",
    "   \n",
    "4. [**Изучение воронки событий.**](#4-bullet)\n",
    "   \n",
    "5. [**Изучение результатов эксперимента.**](#5-bullet)\n",
    "\n",
    "6. [**Общий вывод.**](#6-bullet)"
   ]
  },
  {
   "cell_type": "markdown",
   "id": "1a7e82ac-46a1-4175-adcb-ed1f4ac3fbf8",
   "metadata": {},
   "source": [
    "**Импортируем необходимые библиотеки.**"
   ]
  },
  {
   "cell_type": "code",
   "execution_count": 1,
   "id": "fd61e264-73fc-423c-b52a-c4ccf8cf2eb7",
   "metadata": {},
   "outputs": [],
   "source": [
    "import pandas as pd\n",
    "\n",
    "import matplotlib.pyplot as plt\n",
    "\n",
    "import warnings\n",
    "\n",
    "import numpy as np\n",
    "\n",
    "import plotly as pl\n",
    "\n",
    "import seaborn as sns\n",
    "\n",
    "from scipy import stats as st\n",
    "\n",
    "import datetime as dt\n",
    "\n",
    "import plotly.express as px\n",
    "\n",
    "from statsmodels.stats.proportion import proportions_ztest\n",
    "\n",
    "from plotly import graph_objects as go"
   ]
  },
  {
   "cell_type": "code",
   "execution_count": 2,
   "id": "e55447bd-f692-469d-a53a-0b6601091c58",
   "metadata": {},
   "outputs": [],
   "source": [
    "warnings.filterwarnings(\"ignore\")"
   ]
  },
  {
   "cell_type": "code",
   "execution_count": 3,
   "id": "383f926b-6745-4dab-9392-103d3aad1101",
   "metadata": {},
   "outputs": [],
   "source": [
    "pd.set_option('display.max_colwidth', 500) "
   ]
  },
  {
   "cell_type": "markdown",
   "id": "a62f8a8b-e4a6-414c-8eb9-e38edfbd085a",
   "metadata": {},
   "source": [
    "<a class='anchor' id='1-bullet'></a>\n",
    "## Загрузка данных"
   ]
  },
  {
   "cell_type": "code",
   "execution_count": 4,
   "id": "11e33150-b284-4b73-b816-2b350703bde0",
   "metadata": {},
   "outputs": [],
   "source": [
    "# считаем данные и поместим в переменную 'data'\n",
    "try:\n",
    "    data = pd.read_csv('/datasets/logs_exp.csv', sep='\\t')\n",
    "except:\n",
    "    data = pd.read_csv(r\"C:\\Users\\Александр\\Desktop\\Аналитика данных\\ПРОЕКТЫ\\СБОРНЫЙ ПРОЕКТ 2\\logs_exp.csv\", sep='\\t')"
   ]
  },
  {
   "cell_type": "code",
   "execution_count": 5,
   "id": "c369811a-3fc5-4d32-9f4d-32ed8974634f",
   "metadata": {},
   "outputs": [
    {
     "data": {
      "text/html": [
       "<div>\n",
       "<style scoped>\n",
       "    .dataframe tbody tr th:only-of-type {\n",
       "        vertical-align: middle;\n",
       "    }\n",
       "\n",
       "    .dataframe tbody tr th {\n",
       "        vertical-align: top;\n",
       "    }\n",
       "\n",
       "    .dataframe thead th {\n",
       "        text-align: right;\n",
       "    }\n",
       "</style>\n",
       "<table border=\"1\" class=\"dataframe\">\n",
       "  <thead>\n",
       "    <tr style=\"text-align: right;\">\n",
       "      <th></th>\n",
       "      <th>EventName</th>\n",
       "      <th>DeviceIDHash</th>\n",
       "      <th>EventTimestamp</th>\n",
       "      <th>ExpId</th>\n",
       "    </tr>\n",
       "  </thead>\n",
       "  <tbody>\n",
       "    <tr>\n",
       "      <th>0</th>\n",
       "      <td>MainScreenAppear</td>\n",
       "      <td>4575588528974610257</td>\n",
       "      <td>1564029816</td>\n",
       "      <td>246</td>\n",
       "    </tr>\n",
       "    <tr>\n",
       "      <th>1</th>\n",
       "      <td>MainScreenAppear</td>\n",
       "      <td>7416695313311560658</td>\n",
       "      <td>1564053102</td>\n",
       "      <td>246</td>\n",
       "    </tr>\n",
       "    <tr>\n",
       "      <th>2</th>\n",
       "      <td>PaymentScreenSuccessful</td>\n",
       "      <td>3518123091307005509</td>\n",
       "      <td>1564054127</td>\n",
       "      <td>248</td>\n",
       "    </tr>\n",
       "    <tr>\n",
       "      <th>3</th>\n",
       "      <td>CartScreenAppear</td>\n",
       "      <td>3518123091307005509</td>\n",
       "      <td>1564054127</td>\n",
       "      <td>248</td>\n",
       "    </tr>\n",
       "    <tr>\n",
       "      <th>4</th>\n",
       "      <td>PaymentScreenSuccessful</td>\n",
       "      <td>6217807653094995999</td>\n",
       "      <td>1564055322</td>\n",
       "      <td>248</td>\n",
       "    </tr>\n",
       "    <tr>\n",
       "      <th>5</th>\n",
       "      <td>CartScreenAppear</td>\n",
       "      <td>6217807653094995999</td>\n",
       "      <td>1564055323</td>\n",
       "      <td>248</td>\n",
       "    </tr>\n",
       "    <tr>\n",
       "      <th>6</th>\n",
       "      <td>OffersScreenAppear</td>\n",
       "      <td>8351860793733343758</td>\n",
       "      <td>1564066242</td>\n",
       "      <td>246</td>\n",
       "    </tr>\n",
       "    <tr>\n",
       "      <th>7</th>\n",
       "      <td>MainScreenAppear</td>\n",
       "      <td>5682100281902512875</td>\n",
       "      <td>1564085677</td>\n",
       "      <td>246</td>\n",
       "    </tr>\n",
       "    <tr>\n",
       "      <th>8</th>\n",
       "      <td>MainScreenAppear</td>\n",
       "      <td>1850981295691852772</td>\n",
       "      <td>1564086702</td>\n",
       "      <td>247</td>\n",
       "    </tr>\n",
       "    <tr>\n",
       "      <th>9</th>\n",
       "      <td>MainScreenAppear</td>\n",
       "      <td>5407636962369102641</td>\n",
       "      <td>1564112112</td>\n",
       "      <td>246</td>\n",
       "    </tr>\n",
       "  </tbody>\n",
       "</table>\n",
       "</div>"
      ],
      "text/plain": [
       "                 EventName         DeviceIDHash  EventTimestamp  ExpId\n",
       "0         MainScreenAppear  4575588528974610257      1564029816    246\n",
       "1         MainScreenAppear  7416695313311560658      1564053102    246\n",
       "2  PaymentScreenSuccessful  3518123091307005509      1564054127    248\n",
       "3         CartScreenAppear  3518123091307005509      1564054127    248\n",
       "4  PaymentScreenSuccessful  6217807653094995999      1564055322    248\n",
       "5         CartScreenAppear  6217807653094995999      1564055323    248\n",
       "6       OffersScreenAppear  8351860793733343758      1564066242    246\n",
       "7         MainScreenAppear  5682100281902512875      1564085677    246\n",
       "8         MainScreenAppear  1850981295691852772      1564086702    247\n",
       "9         MainScreenAppear  5407636962369102641      1564112112    246"
      ]
     },
     "execution_count": 5,
     "metadata": {},
     "output_type": "execute_result"
    }
   ],
   "source": [
    "# выведем первые 10 строк датафрейма\n",
    "data.head(10)"
   ]
  },
  {
   "cell_type": "code",
   "execution_count": 6,
   "id": "68fbda77-9889-4834-977f-2945100e7ee8",
   "metadata": {},
   "outputs": [
    {
     "name": "stdout",
     "output_type": "stream",
     "text": [
      "<class 'pandas.core.frame.DataFrame'>\n",
      "RangeIndex: 244126 entries, 0 to 244125\n",
      "Data columns (total 4 columns):\n",
      " #   Column          Non-Null Count   Dtype \n",
      "---  ------          --------------   ----- \n",
      " 0   EventName       244126 non-null  object\n",
      " 1   DeviceIDHash    244126 non-null  int64 \n",
      " 2   EventTimestamp  244126 non-null  int64 \n",
      " 3   ExpId           244126 non-null  int64 \n",
      "dtypes: int64(3), object(1)\n",
      "memory usage: 7.5+ MB\n"
     ]
    }
   ],
   "source": [
    "# выведем общую информацию\n",
    "data.info()"
   ]
  },
  {
   "cell_type": "markdown",
   "id": "78e7f1e0-c773-443c-a9d7-aace4ae3ead8",
   "metadata": {},
   "source": [
    "**Вывод 1**\n",
    "\n",
    "В датафрейме 244126 строк и 4 столбца.  Типы данных - *object* и *int64*.\n",
    "\n",
    "Во всех столбцах данные полные, пропусков не наблюдается."
   ]
  },
  {
   "cell_type": "markdown",
   "id": "f30ab810-192d-4c18-9c83-fa0c1d9e7b0e",
   "metadata": {},
   "source": [
    "<a class='anchor' id='2-bullet'></a>\n",
    "## Подготовка данных"
   ]
  },
  {
   "cell_type": "markdown",
   "id": "302f97bd-4618-4c89-9768-4b5968a95717",
   "metadata": {},
   "source": [
    "### Заменим названия столбцов (переименуем и приведем к нижнему регистру)."
   ]
  },
  {
   "cell_type": "code",
   "execution_count": 7,
   "id": "a52de6a9-fd48-4497-b443-842c1f0c07e2",
   "metadata": {},
   "outputs": [],
   "source": [
    "# переименуем столбцы на более привычные в нижнем регистре\n",
    "data = data.rename(columns = {'EventName': 'event_name', 'DeviceIDHash': 'device_id_hash', 'EventTimestamp': 'event_timestamp', 'ExpId': 'exp_id'})"
   ]
  },
  {
   "cell_type": "markdown",
   "id": "5214e273-937d-45f4-a6ee-bca28cc2050d",
   "metadata": {},
   "source": [
    "*Вывод 2.1*\n",
    "\n",
    "Столбцы успешно переименованы и приведены к удобному виду."
   ]
  },
  {
   "cell_type": "markdown",
   "id": "e7ed3c41-92da-420d-b8fe-80e712a53d41",
   "metadata": {},
   "source": [
    "### Преобразуем типы данных и добавим новые столбцы.\n",
    "\n",
    "* Преобразуем столбец *\"event_timestamp\"* в формат даты времени \"datetime\" из формата \"unix time\";\n",
    "* Добавим столбец *\"event_date\"*, содержащий дату."
   ]
  },
  {
   "cell_type": "code",
   "execution_count": 8,
   "id": "7e1f5b63-8cdc-4112-8306-b7572619fc73",
   "metadata": {},
   "outputs": [
    {
     "data": {
      "text/html": [
       "<div>\n",
       "<style scoped>\n",
       "    .dataframe tbody tr th:only-of-type {\n",
       "        vertical-align: middle;\n",
       "    }\n",
       "\n",
       "    .dataframe tbody tr th {\n",
       "        vertical-align: top;\n",
       "    }\n",
       "\n",
       "    .dataframe thead th {\n",
       "        text-align: right;\n",
       "    }\n",
       "</style>\n",
       "<table border=\"1\" class=\"dataframe\">\n",
       "  <thead>\n",
       "    <tr style=\"text-align: right;\">\n",
       "      <th></th>\n",
       "      <th>event_name</th>\n",
       "      <th>device_id_hash</th>\n",
       "      <th>event_timestamp</th>\n",
       "      <th>exp_id</th>\n",
       "      <th>event_date</th>\n",
       "    </tr>\n",
       "  </thead>\n",
       "  <tbody>\n",
       "    <tr>\n",
       "      <th>0</th>\n",
       "      <td>MainScreenAppear</td>\n",
       "      <td>4575588528974610257</td>\n",
       "      <td>2019-07-25 04:43:36</td>\n",
       "      <td>246</td>\n",
       "      <td>2019-07-25</td>\n",
       "    </tr>\n",
       "    <tr>\n",
       "      <th>1</th>\n",
       "      <td>MainScreenAppear</td>\n",
       "      <td>7416695313311560658</td>\n",
       "      <td>2019-07-25 11:11:42</td>\n",
       "      <td>246</td>\n",
       "      <td>2019-07-25</td>\n",
       "    </tr>\n",
       "    <tr>\n",
       "      <th>2</th>\n",
       "      <td>PaymentScreenSuccessful</td>\n",
       "      <td>3518123091307005509</td>\n",
       "      <td>2019-07-25 11:28:47</td>\n",
       "      <td>248</td>\n",
       "      <td>2019-07-25</td>\n",
       "    </tr>\n",
       "    <tr>\n",
       "      <th>3</th>\n",
       "      <td>CartScreenAppear</td>\n",
       "      <td>3518123091307005509</td>\n",
       "      <td>2019-07-25 11:28:47</td>\n",
       "      <td>248</td>\n",
       "      <td>2019-07-25</td>\n",
       "    </tr>\n",
       "    <tr>\n",
       "      <th>4</th>\n",
       "      <td>PaymentScreenSuccessful</td>\n",
       "      <td>6217807653094995999</td>\n",
       "      <td>2019-07-25 11:48:42</td>\n",
       "      <td>248</td>\n",
       "      <td>2019-07-25</td>\n",
       "    </tr>\n",
       "  </tbody>\n",
       "</table>\n",
       "</div>"
      ],
      "text/plain": [
       "                event_name       device_id_hash     event_timestamp  exp_id  \\\n",
       "0         MainScreenAppear  4575588528974610257 2019-07-25 04:43:36     246   \n",
       "1         MainScreenAppear  7416695313311560658 2019-07-25 11:11:42     246   \n",
       "2  PaymentScreenSuccessful  3518123091307005509 2019-07-25 11:28:47     248   \n",
       "3         CartScreenAppear  3518123091307005509 2019-07-25 11:28:47     248   \n",
       "4  PaymentScreenSuccessful  6217807653094995999 2019-07-25 11:48:42     248   \n",
       "\n",
       "   event_date  \n",
       "0  2019-07-25  \n",
       "1  2019-07-25  \n",
       "2  2019-07-25  \n",
       "3  2019-07-25  \n",
       "4  2019-07-25  "
      ]
     },
     "execution_count": 8,
     "metadata": {},
     "output_type": "execute_result"
    }
   ],
   "source": [
    "# преобразуем тип данных столбца \"event_timestamp\" в \"datetime\" из \"unix time\"\n",
    "data['event_timestamp'] = pd.to_datetime(data['event_timestamp'], unit='s')\n",
    "# добавим столбец \"event_date\" с датой\n",
    "data['event_date'] = data['event_timestamp'].dt.date\n",
    "\n",
    "# выведем первые 5 строк\n",
    "data.head(5)"
   ]
  },
  {
   "cell_type": "markdown",
   "id": "03f26fd5-8f1c-49ba-be73-239b122165f0",
   "metadata": {},
   "source": [
    "*Вывод 2.2*\n",
    "\n",
    "Столбцы с датой и временем (*\"event_timestamp\"*) и усеченной датой (*\"event_date\"*) добавлены успешно."
   ]
  },
  {
   "cell_type": "markdown",
   "id": "39b4cce5-a474-4365-8f1d-6f7c803776d0",
   "metadata": {},
   "source": [
    "### Обработка пропусков."
   ]
  },
  {
   "cell_type": "code",
   "execution_count": 9,
   "id": "d9af997d-dce6-43b1-bddd-a719ee019b38",
   "metadata": {},
   "outputs": [
    {
     "data": {
      "text/plain": [
       "event_name         0\n",
       "device_id_hash     0\n",
       "event_timestamp    0\n",
       "exp_id             0\n",
       "event_date         0\n",
       "dtype: int64"
      ]
     },
     "execution_count": 9,
     "metadata": {},
     "output_type": "execute_result"
    }
   ],
   "source": [
    "# выведем данные о пропусках\n",
    "data.isna().sum()"
   ]
  },
  {
   "cell_type": "markdown",
   "id": "d2c3ab81-ce10-4555-81c7-2a63eab882d0",
   "metadata": {},
   "source": [
    "*Вывод 2.3*\n",
    "\n",
    "Пропусков в датафрейме не нашлось."
   ]
  },
  {
   "cell_type": "markdown",
   "id": "26bbe75e-42b1-4e53-ac49-5e7a24bcd869",
   "metadata": {},
   "source": [
    "### Обработка дубликатов."
   ]
  },
  {
   "cell_type": "code",
   "execution_count": 10,
   "id": "d28aeb5c-e7b7-42df-946c-812c942162b0",
   "metadata": {},
   "outputs": [
    {
     "name": "stdout",
     "output_type": "stream",
     "text": [
      "Количество полных дубликатов 413\n",
      "Данное количество составляет 0.169% от общего объема данных.\n"
     ]
    }
   ],
   "source": [
    "# выведем количество явных дубликатов\n",
    "cnt_dup = data.duplicated().sum()\n",
    "\n",
    "print(f'''Количество полных дубликатов {cnt_dup}\n",
    "Данное количество составляет {cnt_dup/data.shape[0]:.3%} от общего объема данных.''')"
   ]
  },
  {
   "cell_type": "code",
   "execution_count": 11,
   "id": "89c9f5b8-0b8d-4a1d-9ddf-0bafc730664d",
   "metadata": {},
   "outputs": [],
   "source": [
    "# удалим полные дубликаты\n",
    "data = data.drop_duplicates().reset_index(drop=True)"
   ]
  },
  {
   "cell_type": "markdown",
   "id": "b0a239c0-bada-4dc3-9297-6149d019aa48",
   "metadata": {},
   "source": [
    "**Проверим группы на присутствие одних и тех же пользователей в разных группах.**"
   ]
  },
  {
   "cell_type": "code",
   "execution_count": 12,
   "id": "cbb51a18-ae4e-49ba-9590-97edc815f764",
   "metadata": {},
   "outputs": [],
   "source": [
    "# создадим список уникальных пользователей для группы 246\n",
    "group_246 = data['device_id_hash'].loc[data['exp_id'] == 246].unique()\n",
    "# создадим список уникальных пользователей для группы 247\n",
    "group_247 = data['device_id_hash'].loc[data['exp_id'] == 247].unique()\n",
    "# создадим список уникальных пользователей для группы 248\n",
    "group_248 = data['device_id_hash'].loc[data['exp_id'] == 248].unique()"
   ]
  },
  {
   "cell_type": "code",
   "execution_count": 13,
   "id": "f0566855-bc0c-4e44-8802-eacddc12ac71",
   "metadata": {},
   "outputs": [
    {
     "name": "stdout",
     "output_type": "stream",
     "text": [
      "Количество пересечений между группой 246 и 247 составляет 0\n",
      "Количество пересечений между группой 246 и 248 составляет 0\n",
      "Количество пересечений между группой 247 и 248 составляет 0\n"
     ]
    }
   ],
   "source": [
    "# проверим пересекающихся пользователей\n",
    "print(f'Количество пересечений между группой 246 и 247 составляет {len(np.intersect1d(group_246, group_247))}')\n",
    "print(f'Количество пересечений между группой 246 и 248 составляет {len(np.intersect1d(group_246, group_248))}')\n",
    "print(f'Количество пересечений между группой 247 и 248 составляет {len(np.intersect1d(group_247, group_248))}')"
   ]
  },
  {
   "cell_type": "code",
   "execution_count": 14,
   "id": "d9d62622-fc91-4b25-8a32-91feb88c7b83",
   "metadata": {},
   "outputs": [
    {
     "data": {
      "text/html": [
       "<div>\n",
       "<style scoped>\n",
       "    .dataframe tbody tr th:only-of-type {\n",
       "        vertical-align: middle;\n",
       "    }\n",
       "\n",
       "    .dataframe tbody tr th {\n",
       "        vertical-align: top;\n",
       "    }\n",
       "\n",
       "    .dataframe thead th {\n",
       "        text-align: right;\n",
       "    }\n",
       "</style>\n",
       "<table border=\"1\" class=\"dataframe\">\n",
       "  <thead>\n",
       "    <tr style=\"text-align: right;\">\n",
       "      <th></th>\n",
       "      <th>device_id_hash</th>\n",
       "      <th>exp_id</th>\n",
       "    </tr>\n",
       "  </thead>\n",
       "  <tbody>\n",
       "  </tbody>\n",
       "</table>\n",
       "</div>"
      ],
      "text/plain": [
       "Empty DataFrame\n",
       "Columns: [device_id_hash, exp_id]\n",
       "Index: []"
      ]
     },
     "execution_count": 14,
     "metadata": {},
     "output_type": "execute_result"
    }
   ],
   "source": [
    "# проведем дополнительную проверку на наличие пересекающихся пользователей в разных выборках\n",
    "data.groupby('device_id_hash')['exp_id'].nunique().reset_index().query('exp_id > 1')"
   ]
  },
  {
   "cell_type": "markdown",
   "id": "52645b89-169e-48c4-95e6-6bb1fc4e32c9",
   "metadata": {},
   "source": [
    "**ВЫВОД 2**\n",
    "\n",
    "1. Переименовали названия столбцов на более удобные.\n",
    "2. Преобразовали тип данных с \"unix time\" на \"datetime\", тем самым поместив в столбец \"event_timestamp\" данные о дате и времени. Также добавили столбец \"event_day\" с датой.\n",
    "3. Проверили данные на наличие пропусков. Пропусков не оказалось.\n",
    "4. Проверили данные на наличие полных дубликатов. Их оказалось 413, что составило всего 0.169% от общего объема данных. Удалили данные дубликаты.\n",
    "5. Проверили группы 246, 247 и 248 на наличие пересекающихся значений в столбце \"device_id_hash\". Таковых не оказалось."
   ]
  },
  {
   "cell_type": "markdown",
   "id": "106be0d8-71b4-4c16-9bb3-4c17ba36ab49",
   "metadata": {},
   "source": [
    "<a class='anchor' id='3-bullet'></a>\n",
    "## Исследовательский анализ данных"
   ]
  },
  {
   "cell_type": "markdown",
   "id": "10fe8f61-ef8b-451f-b3e9-2deb76d12157",
   "metadata": {},
   "source": [
    "### Выведем данные о количестве событий и пользователей"
   ]
  },
  {
   "cell_type": "code",
   "execution_count": 15,
   "id": "e1294844-a07e-4c34-b648-5930583e03e1",
   "metadata": {},
   "outputs": [
    {
     "name": "stdout",
     "output_type": "stream",
     "text": [
      "Общее количество событий в логе составляет 243713\n",
      "Количество уникальных событий составляет 5\n",
      "Общее количество уникальных пользователей составляет 7551\n",
      "В среднем на пользователя приходится 32.3 событий\n"
     ]
    }
   ],
   "source": [
    "# подсчитаем количество событий и пользователей в логе\n",
    "events = data['event_name']\n",
    "users = data['device_id_hash']\n",
    "\n",
    "print(f'Общее количество событий в логе составляет {len(events)}')\n",
    "print(f'Количество уникальных событий составляет {events.nunique()}')\n",
    "print(f'Общее количество уникальных пользователей составляет {users.nunique()}')\n",
    "print(f'В среднем на пользователя приходится {len(events) / users.nunique():.1f} событий')"
   ]
  },
  {
   "cell_type": "markdown",
   "id": "a976ea86-6665-4739-8404-c89a2d9d0575",
   "metadata": {},
   "source": [
    "**Исследуем количество событий на пользователя.**"
   ]
  },
  {
   "cell_type": "code",
   "execution_count": 16,
   "id": "918b57bb-766f-49ac-a6a5-b6ecb7986fad",
   "metadata": {},
   "outputs": [
    {
     "name": "stdout",
     "output_type": "stream",
     "text": [
      "count    7551.000000\n",
      "mean       32.275593\n",
      "std        65.154219\n",
      "min         1.000000\n",
      "25%         9.000000\n",
      "50%        20.000000\n",
      "75%        37.000000\n",
      "max      2307.000000\n",
      "Name: event_name, dtype: float64\n"
     ]
    },
    {
     "data": {
      "image/png": "[encoded data removed]",
      "text/plain": [
       "<Figure size 640x480 with 1 Axes>"
      ]
     },
     "metadata": {},
     "output_type": "display_data"
    }
   ],
   "source": [
    "# посчитаем количество событий, сгруппированное на пользователя\n",
    "user_cnt_event = data.groupby('device_id_hash')['event_name'].count().sort_values()\n",
    "print(user_cnt_event.describe())\n",
    "\n",
    "# построим диаграмму размаха\n",
    "plt.ylim(0, 100)\n",
    "user_cnt_event.plot.box()\n",
    "plt.grid(True, linestyle='--', color='grey')\n",
    "plt.ylabel('Количество событий на одного пользователя')\n",
    "\n",
    "plt.show()"
   ]
  },
  {
   "cell_type": "code",
   "execution_count": 17,
   "id": "72b84c02-7b6f-447d-a797-1af0955dc938",
   "metadata": {},
   "outputs": [
    {
     "data": {
      "image/png": "[encoded data removed]",
      "text/plain": [
       "<Figure size 640x480 with 1 Axes>"
      ]
     },
     "metadata": {},
     "output_type": "display_data"
    }
   ],
   "source": [
    "user_cnt_event.plot.hist(range = (0, 150), bins = 10)\n",
    "plt.grid(True, linestyle='--')\n",
    "plt.xlabel('Колчичество событий')\n",
    "plt.ylabel('Количество пользователей')\n",
    "\n",
    "plt.show()"
   ]
  },
  {
   "cell_type": "markdown",
   "id": "1c0760bb-dbd5-4924-a144-901b9199f705",
   "metadata": {},
   "source": [
    "*Описание данных о количестве событий на одного пользователя, а также построение диаграммы размаха и гистограммы распределения показали, что медианное значение находитя на отметке в 20 событий на одного пользователя.* **При этом, подавляющее большинство пользователей совершают до 40 событий. Однако, нормальным значением можем признать границу в 80 событий. Значения количества событий, превышающие 80 событий признаем аномальным.**"
   ]
  },
  {
   "cell_type": "markdown",
   "id": "87c1af1b-7ac1-440e-986e-427b55c9e711",
   "metadata": {},
   "source": [
    "### Построим графики количества событий и пользователей по группам"
   ]
  },
  {
   "cell_type": "code",
   "execution_count": 18,
   "id": "ef730fb1-30a5-4838-8c77-c1dd3ad041ae",
   "metadata": {},
   "outputs": [
    {
     "data": {
      "image/png": "[encoded data removed]",
      "text/plain": [
       "<Figure size 600x600 with 1 Axes>"
      ]
     },
     "metadata": {},
     "output_type": "display_data"
    }
   ],
   "source": [
    "# Построим столбчатую диаграмму с количеством событий по группам\n",
    "event_group = data.groupby('exp_id', as_index=False).agg({'event_name': 'count'})\n",
    "\n",
    "plt.figure(figsize=(6, 6))\n",
    "splot=sns.barplot(data=event_group, x=\"exp_id\", y=\"event_name\", hue='exp_id')\n",
    "for p in splot.patches:\n",
    "    splot.annotate(format(p.get_height(), '.1f'), \n",
    "                   (p.get_x() + p.get_width() / 2., p.get_height()), \n",
    "                   ha = 'center', va = 'center', \n",
    "                   xytext = (0, 9), \n",
    "                   textcoords = 'offset points')\n",
    "\n",
    "plt.grid(axis='y', linestyle='--', alpha=0.7)\n",
    "plt.title('Количество событий по группам')\n",
    "plt.ylabel('Количество событий')\n",
    "plt.xlabel('Группа')\n",
    "\n",
    "plt.show()"
   ]
  },
  {
   "cell_type": "code",
   "execution_count": 19,
   "id": "d4222c57-b8b5-4fa6-8914-599ebb637c2a",
   "metadata": {},
   "outputs": [
    {
     "data": {
      "image/png": "[encoded data removed]",
      "text/plain": [
       "<Figure size 600x600 with 1 Axes>"
      ]
     },
     "metadata": {},
     "output_type": "display_data"
    }
   ],
   "source": [
    "# Построим столбчатую диаграмму с количеством пользователей по группам\n",
    "users_group = data.groupby('exp_id', as_index=False).agg({'device_id_hash': 'nunique'})\n",
    "\n",
    "plt.figure(figsize=(6, 6))\n",
    "splot=sns.barplot(data=users_group, x=\"exp_id\", y=\"device_id_hash\", hue='exp_id')\n",
    "for p in splot.patches:\n",
    "    splot.annotate(format(p.get_height(), '.1f'), \n",
    "                   (p.get_x() + p.get_width() / 2., p.get_height()), \n",
    "                   ha = 'center', va = 'center', \n",
    "                   xytext = (0, 9), \n",
    "                   textcoords = 'offset points')\n",
    "\n",
    "plt.grid(axis='y', linestyle='--', alpha=0.7)\n",
    "plt.title('Количество пользователей по группам')\n",
    "plt.ylabel('Количество пользователей')\n",
    "plt.xlabel('Группа')\n",
    "plt.legend(loc='center right')\n",
    "\n",
    "plt.show()"
   ]
  },
  {
   "cell_type": "code",
   "execution_count": 20,
   "id": "e25ae884-774a-4fca-9223-eb301d0e668f",
   "metadata": {},
   "outputs": [
    {
     "data": {
      "image/png": "[encoded data removed]",
      "text/plain": [
       "<Figure size 600x500 with 1 Axes>"
      ]
     },
     "metadata": {},
     "output_type": "display_data"
    }
   ],
   "source": [
    "# построим столбчатую диаграмму количества событий на пользователя по группам\n",
    "e_u_group = event_group.merge(users_group, on='exp_id')\n",
    "e_u_group['event_per_user'] = np.round(e_u_group['event_name'] / e_u_group['device_id_hash'], 1)\n",
    "\n",
    "plt.figure(figsize=(6, 5))\n",
    "splot=sns.barplot(data=e_u_group, x=\"exp_id\", y=\"event_per_user\", hue='exp_id')\n",
    "for p in splot.patches:\n",
    "    splot.annotate(format(p.get_height(), '.1f'), \n",
    "                   (p.get_x() + p.get_width() / 2., p.get_height()), \n",
    "                   ha = 'center', va = 'center', \n",
    "                   xytext = (0, 5), \n",
    "                   textcoords = 'offset points')\n",
    "\n",
    "plt.grid(axis='y', linestyle='--', alpha=0.7)\n",
    "plt.title('Количество событий на пользователя по группам')\n",
    "plt.ylabel('Количество событий')\n",
    "plt.xlabel('Группа')\n",
    "plt.legend(loc='lower right')\n",
    "\n",
    "plt.show()"
   ]
  },
  {
   "cell_type": "markdown",
   "id": "02f875f5-1db2-4ad6-bdd6-1fe5f66fc385",
   "metadata": {},
   "source": [
    "### Исследуем динамику изменения количества данных с течением времени"
   ]
  },
  {
   "cell_type": "code",
   "execution_count": 21,
   "id": "295213f3-83ac-4d9a-a0c1-94e8b549e513",
   "metadata": {},
   "outputs": [
    {
     "name": "stdout",
     "output_type": "stream",
     "text": [
      "Минимальная дата: 2019-07-25 04:43:36\n",
      "Максимальная дата: 2019-08-07 21:15:17\n"
     ]
    }
   ],
   "source": [
    "# Выведем минимальную и максимальную даты\n",
    "min_date = data['event_timestamp'].min()\n",
    "max_date = data['event_timestamp'].max()\n",
    "print(\"Минимальная дата:\", min_date)\n",
    "print(\"Максимальная дата:\", max_date)"
   ]
  },
  {
   "cell_type": "code",
   "execution_count": 22,
   "id": "a8e7176d-3274-4805-bf8d-be386e428835",
   "metadata": {},
   "outputs": [
    {
     "data": {
      "text/html": [
       "<div>\n",
       "<style scoped>\n",
       "    .dataframe tbody tr th:only-of-type {\n",
       "        vertical-align: middle;\n",
       "    }\n",
       "\n",
       "    .dataframe tbody tr th {\n",
       "        vertical-align: top;\n",
       "    }\n",
       "\n",
       "    .dataframe thead th {\n",
       "        text-align: right;\n",
       "    }\n",
       "</style>\n",
       "<table border=\"1\" class=\"dataframe\">\n",
       "  <thead>\n",
       "    <tr style=\"text-align: right;\">\n",
       "      <th></th>\n",
       "      <th>246</th>\n",
       "      <th>247</th>\n",
       "      <th>248</th>\n",
       "    </tr>\n",
       "    <tr>\n",
       "      <th>event_date</th>\n",
       "      <th></th>\n",
       "      <th></th>\n",
       "      <th></th>\n",
       "    </tr>\n",
       "  </thead>\n",
       "  <tbody>\n",
       "    <tr>\n",
       "      <th>2019-07-25</th>\n",
       "      <td>4</td>\n",
       "      <td>1</td>\n",
       "      <td>4</td>\n",
       "    </tr>\n",
       "    <tr>\n",
       "      <th>2019-07-26</th>\n",
       "      <td>14</td>\n",
       "      <td>8</td>\n",
       "      <td>9</td>\n",
       "    </tr>\n",
       "    <tr>\n",
       "      <th>2019-07-27</th>\n",
       "      <td>24</td>\n",
       "      <td>23</td>\n",
       "      <td>8</td>\n",
       "    </tr>\n",
       "    <tr>\n",
       "      <th>2019-07-28</th>\n",
       "      <td>33</td>\n",
       "      <td>36</td>\n",
       "      <td>36</td>\n",
       "    </tr>\n",
       "    <tr>\n",
       "      <th>2019-07-29</th>\n",
       "      <td>55</td>\n",
       "      <td>58</td>\n",
       "      <td>71</td>\n",
       "    </tr>\n",
       "  </tbody>\n",
       "</table>\n",
       "</div>"
      ],
      "text/plain": [
       "            246  247  248\n",
       "event_date               \n",
       "2019-07-25    4    1    4\n",
       "2019-07-26   14    8    9\n",
       "2019-07-27   24   23    8\n",
       "2019-07-28   33   36   36\n",
       "2019-07-29   55   58   71"
      ]
     },
     "execution_count": 22,
     "metadata": {},
     "output_type": "execute_result"
    }
   ],
   "source": [
    "# создадим датафрейм с количеством событий по группам и датам\n",
    "events_per_day = data.groupby(['event_date', 'exp_id']).agg({'exp_id': 'count'}).unstack()\n",
    "events_per_day.columns = [246, 247, 248]\n",
    "events_per_day.head(5)"
   ]
  },
  {
   "cell_type": "code",
   "execution_count": 23,
   "id": "e0b89308-f470-47bd-9a95-b87f7d4a61d3",
   "metadata": {},
   "outputs": [
    {
     "data": {
      "image/png": "[encoded data removed]",
      "text/plain": [
       "<Figure size 1000x400 with 1 Axes>"
      ]
     },
     "metadata": {},
     "output_type": "display_data"
    }
   ],
   "source": [
    "# построим столбчатую диаграмму с изменением количества событий по времени в разраезе групп\n",
    "events_per_day.plot(kind='bar',  stacked=True, figsize=(10, 4))\n",
    "plt.title(\"Количество событий по дням и группам\")\n",
    "plt.xlabel(\"Дата\")\n",
    "plt.ylabel(\"Количество событий\")\n",
    "plt.legend(title=\"Группа\")\n",
    "plt.xticks(rotation=45)\n",
    "plt.show()"
   ]
  },
  {
   "cell_type": "markdown",
   "id": "ba2eb74d-5162-4be2-82b4-62f886fae1ff",
   "metadata": {},
   "source": [
    "**Диаграмма показала, что данные начинают отличаться полнотой с 01.08.2019. Отсечем данные за предыдущий промежуток времени.**"
   ]
  },
  {
   "cell_type": "code",
   "execution_count": 24,
   "id": "3f92217c-afd5-45c3-94c4-aa3da8cc85b3",
   "metadata": {},
   "outputs": [
    {
     "name": "stdout",
     "output_type": "stream",
     "text": [
      "<class 'pandas.core.frame.DataFrame'>\n",
      "Index: 240887 entries, 2826 to 243712\n",
      "Data columns (total 5 columns):\n",
      " #   Column           Non-Null Count   Dtype         \n",
      "---  ------           --------------   -----         \n",
      " 0   event_name       240887 non-null  object        \n",
      " 1   device_id_hash   240887 non-null  int64         \n",
      " 2   event_timestamp  240887 non-null  datetime64[ns]\n",
      " 3   exp_id           240887 non-null  int64         \n",
      " 4   event_date       240887 non-null  datetime64[ns]\n",
      "dtypes: datetime64[ns](2), int64(2), object(1)\n",
      "memory usage: 11.0+ MB\n"
     ]
    }
   ],
   "source": [
    "# создадим датафрейм \"data_full\" с данными от 01-08-2019\n",
    "data['event_date'] = pd.to_datetime(data['event_date'])\n",
    "data_full = data[data['event_date'] >= pd.to_datetime('2019-08-01')]\n",
    "data_full.info()"
   ]
  },
  {
   "cell_type": "code",
   "execution_count": 25,
   "id": "062e8c99-f1cd-43c1-b383-a12c8477c526",
   "metadata": {},
   "outputs": [
    {
     "name": "stdout",
     "output_type": "stream",
     "text": [
      "После отсечения событий, произошедших до 01-08-2019 количество данных сократилось на 2826 события или на 1.16%.\n",
      "А количество потерянных пользователей равно 17\n"
     ]
    }
   ],
   "source": [
    "# подсчитаем количество потерянных событий и пользователей после отсечения\n",
    "cnt_poter_events = data.shape[0] - data_full.shape[0]\n",
    "cnt_poter_users = data['device_id_hash'].nunique() - data_full['device_id_hash'].nunique()\n",
    "\n",
    "print(f'''После отсечения событий, произошедших до 01-08-2019 количество данных сократилось на {cnt_poter_events} события\\\n",
    " или на {cnt_poter_events / data.shape[0]:.2%}.\n",
    "А количество потерянных пользователей равно {cnt_poter_users}''')"
   ]
  },
  {
   "cell_type": "code",
   "execution_count": 26,
   "id": "ea2a04b5-b8a3-4acc-b64f-5a8727f1f14f",
   "metadata": {},
   "outputs": [
    {
     "data": {
      "text/plain": [
       "exp_id\n",
       "246    2484\n",
       "247    2513\n",
       "248    2537\n",
       "Name: device_id_hash, dtype: int64"
      ]
     },
     "execution_count": 26,
     "metadata": {},
     "output_type": "execute_result"
    }
   ],
   "source": [
    "# проверим наличие пользователей из всех 3 групп\n",
    "data_full.groupby('exp_id')['device_id_hash'].nunique()"
   ]
  },
  {
   "cell_type": "markdown",
   "id": "30f735d7-5a91-45ea-afd8-c1506360799a",
   "metadata": {},
   "source": [
    "### Построим столбчатые графики после очистки данных"
   ]
  },
  {
   "cell_type": "code",
   "execution_count": 27,
   "id": "bcebd745-306d-4133-8f97-d772b9590e9f",
   "metadata": {},
   "outputs": [
    {
     "data": {
      "image/png": "[encoded data removed]",
      "text/plain": [
       "<Figure size 600x600 with 1 Axes>"
      ]
     },
     "metadata": {},
     "output_type": "display_data"
    }
   ],
   "source": [
    "# Построим столбчатую диаграмму с количеством событий по группам после очистки данных\n",
    "event_group_full = data_full.groupby('exp_id', as_index=False).agg({'event_name': 'count'})\n",
    "\n",
    "plt.figure(figsize=(6, 6))\n",
    "splot=sns.barplot(data=event_group_full, x=\"exp_id\", y=\"event_name\", hue='exp_id')\n",
    "for p in splot.patches:\n",
    "    splot.annotate(format(p.get_height(), '.1f'), \n",
    "                   (p.get_x() + p.get_width() / 2., p.get_height()), \n",
    "                   ha = 'center', va = 'center', \n",
    "                   xytext = (0, 9), \n",
    "                   textcoords = 'offset points')\n",
    "\n",
    "plt.grid(axis='y', linestyle='--', alpha=0.7)\n",
    "plt.title('Количество событий по группам после очистки данных')\n",
    "plt.ylabel('Количество событий')\n",
    "plt.xlabel('Группа')\n",
    "\n",
    "plt.show()"
   ]
  },
  {
   "cell_type": "code",
   "execution_count": 28,
   "id": "24c325cc-0793-4a36-bd83-c6c05390c9e7",
   "metadata": {},
   "outputs": [
    {
     "data": {
      "image/png": "[encoded data removed]",
      "text/plain": [
       "<Figure size 600x600 with 1 Axes>"
      ]
     },
     "metadata": {},
     "output_type": "display_data"
    }
   ],
   "source": [
    "# Построим столбчатую диаграмму с количеством пользователей по группам после очистки данных\n",
    "users_group_full = data_full.groupby('exp_id', as_index=False).agg({'device_id_hash': 'nunique'})\n",
    "\n",
    "plt.figure(figsize=(6, 6))\n",
    "splot=sns.barplot(data=users_group_full, x=\"exp_id\", y=\"device_id_hash\", hue='exp_id')\n",
    "for p in splot.patches:\n",
    "    splot.annotate(format(p.get_height(), '.1f'), \n",
    "                   (p.get_x() + p.get_width() / 2., p.get_height()), \n",
    "                   ha = 'center', va = 'center', \n",
    "                   xytext = (0, 9), \n",
    "                   textcoords = 'offset points')\n",
    "\n",
    "plt.grid(axis='y', linestyle='--', alpha=0.7)\n",
    "plt.title('Количество пользователей по группам после очистки данных')\n",
    "plt.ylabel('Количество пользователей')\n",
    "plt.xlabel('Группа')\n",
    "plt.legend(loc='center right')\n",
    "\n",
    "plt.show()"
   ]
  },
  {
   "cell_type": "code",
   "execution_count": 29,
   "id": "cd5ae3d7-d7ec-4bda-ae64-b93d9ebadf73",
   "metadata": {},
   "outputs": [
    {
     "data": {
      "image/png": "[encoded data removed]",
      "text/plain": [
       "<Figure size 600x500 with 1 Axes>"
      ]
     },
     "metadata": {},
     "output_type": "display_data"
    }
   ],
   "source": [
    "# построим столбчатую диаграмму количества событий на пользователя по группам после очистки данных\n",
    "e_u_group_full = event_group_full.merge(users_group_full, on='exp_id')\n",
    "e_u_group_full['event_per_user'] = np.round(e_u_group_full['event_name'] / e_u_group_full['device_id_hash'], 1)\n",
    "\n",
    "plt.figure(figsize=(6, 5))\n",
    "splot=sns.barplot(data=e_u_group_full, x=\"exp_id\", y=\"event_per_user\", hue='exp_id')\n",
    "for p in splot.patches:\n",
    "    splot.annotate(format(p.get_height(), '.1f'), \n",
    "                   (p.get_x() + p.get_width() / 2., p.get_height()), \n",
    "                   ha = 'center', va = 'center', \n",
    "                   xytext = (0, 5), \n",
    "                   textcoords = 'offset points')\n",
    "\n",
    "plt.grid(axis='y', linestyle='--', alpha=0.7)\n",
    "plt.title('Количество событий на пользователя по группам после очистки данных')\n",
    "plt.ylabel('Количество событий')\n",
    "plt.xlabel('Группа')\n",
    "plt.legend(loc='lower right')\n",
    "\n",
    "plt.show()"
   ]
  },
  {
   "cell_type": "markdown",
   "id": "fdae7de4-dc28-465f-b060-beaa34b6a4c5",
   "metadata": {},
   "source": [
    "**ВЫВОД 3**\n",
    "\n",
    "В данном разделе был проведен исследовательский анализ данных\n",
    ".\n",
    "1. *Стало известно следующее:*\n",
    "   * Начальные данные охватывают период с 25-07-2019 по 07-08-2019. \n",
    "   * Общее количество событий в логе составляет 243713\n",
    "   * Количество уникальных событий составляет 5\n",
    "   * Общее количество уникальных пользователей составляет 7551\n",
    "   * В среднем на пользователя приходится 32.3 событий\n",
    "   * Медианное значение количества событий на пользователя равно 20\n",
    "   * Нормальным диапазоном значений количества событий на пользователя признан следующий: от 1 до 80 событий.\n",
    "3. *Построение столбчатых графиков показало:*\n",
    "   * Количество событий распределено практически равномерно по группам. Однако, группа 248 отличается наибольшим количеством событий (85582), за ней расположилась группа 246 (80181 событий) и 247 (77950) - самая немногочисленная.\n",
    "   * По количеству пользователей на первом месте также группа 248 (2542 пользователя), затем группа 247 (2520) и 246 (2489 пользователей).\n",
    "   * По количеству событий на пользователя лидирует группа 248 (33.7), затем группа 246 (32.2) и 247 (30.9).\n",
    "4. *Столбчатый график динамики изменения количества событий по дням и группам показал*, что полнота данных начинается лишь с 01-08-2019. По этой причине мы отсекли события, предшествующие этой дате, тем самым \"потеряв\" 2826 событий (лишь 1.16% данных) и 17 пользователей.\n",
    "5. *Построение столбчатых графиков после очистки данных* также подтвердило равномерность удаленных данных, так как распределение мест по количеству событий, пользователей и событий, приходящихся на пользователей осталось прежним.\n",
    "\n",
    "**Итог**\n",
    "\n",
    "**Мы избавились от неполных данных, при этом никак не повлияв на прежнее распределение данных. Нынешний промежуток наблюдений - с 01-08-2019 по 07-08-2019.  Теперь можно смело приступать к дальнейшим исследованиям.**"
   ]
  },
  {
   "cell_type": "markdown",
   "id": "39497384-9a33-49d6-a827-8c53681e9380",
   "metadata": {},
   "source": [
    "<a class='anchor' id='4-bullet'></a>\n",
    "## Изучение воронки событий"
   ]
  },
  {
   "cell_type": "markdown",
   "id": "b4696f6c-d4d0-4c1e-bfde-010484f8a481",
   "metadata": {},
   "source": [
    "### Изучим события в логах"
   ]
  },
  {
   "cell_type": "code",
   "execution_count": 30,
   "id": "8a509b5a-f3f0-49f4-a57b-d10f932d5b70",
   "metadata": {},
   "outputs": [
    {
     "data": {
      "text/html": [
       "<div>\n",
       "<style scoped>\n",
       "    .dataframe tbody tr th:only-of-type {\n",
       "        vertical-align: middle;\n",
       "    }\n",
       "\n",
       "    .dataframe tbody tr th {\n",
       "        vertical-align: top;\n",
       "    }\n",
       "\n",
       "    .dataframe thead th {\n",
       "        text-align: right;\n",
       "    }\n",
       "</style>\n",
       "<table border=\"1\" class=\"dataframe\">\n",
       "  <thead>\n",
       "    <tr style=\"text-align: right;\">\n",
       "      <th></th>\n",
       "      <th>event_name</th>\n",
       "      <th>device_id_hash</th>\n",
       "      <th>event_timestamp</th>\n",
       "      <th>exp_id</th>\n",
       "      <th>event_date</th>\n",
       "    </tr>\n",
       "  </thead>\n",
       "  <tbody>\n",
       "    <tr>\n",
       "      <th>2826</th>\n",
       "      <td>Tutorial</td>\n",
       "      <td>3737462046622621720</td>\n",
       "      <td>2019-08-01 00:07:28</td>\n",
       "      <td>246</td>\n",
       "      <td>2019-08-01</td>\n",
       "    </tr>\n",
       "    <tr>\n",
       "      <th>2827</th>\n",
       "      <td>MainScreenAppear</td>\n",
       "      <td>3737462046622621720</td>\n",
       "      <td>2019-08-01 00:08:00</td>\n",
       "      <td>246</td>\n",
       "      <td>2019-08-01</td>\n",
       "    </tr>\n",
       "    <tr>\n",
       "      <th>2828</th>\n",
       "      <td>MainScreenAppear</td>\n",
       "      <td>3737462046622621720</td>\n",
       "      <td>2019-08-01 00:08:55</td>\n",
       "      <td>246</td>\n",
       "      <td>2019-08-01</td>\n",
       "    </tr>\n",
       "    <tr>\n",
       "      <th>2829</th>\n",
       "      <td>OffersScreenAppear</td>\n",
       "      <td>3737462046622621720</td>\n",
       "      <td>2019-08-01 00:08:58</td>\n",
       "      <td>246</td>\n",
       "      <td>2019-08-01</td>\n",
       "    </tr>\n",
       "    <tr>\n",
       "      <th>2830</th>\n",
       "      <td>MainScreenAppear</td>\n",
       "      <td>1433840883824088890</td>\n",
       "      <td>2019-08-01 00:08:59</td>\n",
       "      <td>247</td>\n",
       "      <td>2019-08-01</td>\n",
       "    </tr>\n",
       "  </tbody>\n",
       "</table>\n",
       "</div>"
      ],
      "text/plain": [
       "              event_name       device_id_hash     event_timestamp  exp_id  \\\n",
       "2826            Tutorial  3737462046622621720 2019-08-01 00:07:28     246   \n",
       "2827    MainScreenAppear  3737462046622621720 2019-08-01 00:08:00     246   \n",
       "2828    MainScreenAppear  3737462046622621720 2019-08-01 00:08:55     246   \n",
       "2829  OffersScreenAppear  3737462046622621720 2019-08-01 00:08:58     246   \n",
       "2830    MainScreenAppear  1433840883824088890 2019-08-01 00:08:59     247   \n",
       "\n",
       "     event_date  \n",
       "2826 2019-08-01  \n",
       "2827 2019-08-01  \n",
       "2828 2019-08-01  \n",
       "2829 2019-08-01  \n",
       "2830 2019-08-01  "
      ]
     },
     "execution_count": 30,
     "metadata": {},
     "output_type": "execute_result"
    }
   ],
   "source": [
    "data_full.head()"
   ]
  },
  {
   "cell_type": "code",
   "execution_count": 31,
   "id": "f6c24218-2c9d-4040-9a14-81f92d4e2265",
   "metadata": {},
   "outputs": [
    {
     "name": "stdout",
     "output_type": "stream",
     "text": [
      "Частота событий\n"
     ]
    },
    {
     "data": {
      "text/html": [
       "<div>\n",
       "<style scoped>\n",
       "    .dataframe tbody tr th:only-of-type {\n",
       "        vertical-align: middle;\n",
       "    }\n",
       "\n",
       "    .dataframe tbody tr th {\n",
       "        vertical-align: top;\n",
       "    }\n",
       "\n",
       "    .dataframe thead th {\n",
       "        text-align: right;\n",
       "    }\n",
       "</style>\n",
       "<table border=\"1\" class=\"dataframe\">\n",
       "  <thead>\n",
       "    <tr style=\"text-align: right;\">\n",
       "      <th></th>\n",
       "      <th>event_name</th>\n",
       "      <th>size</th>\n",
       "    </tr>\n",
       "  </thead>\n",
       "  <tbody>\n",
       "    <tr>\n",
       "      <th>1</th>\n",
       "      <td>MainScreenAppear</td>\n",
       "      <td>117328</td>\n",
       "    </tr>\n",
       "    <tr>\n",
       "      <th>2</th>\n",
       "      <td>OffersScreenAppear</td>\n",
       "      <td>46333</td>\n",
       "    </tr>\n",
       "    <tr>\n",
       "      <th>0</th>\n",
       "      <td>CartScreenAppear</td>\n",
       "      <td>42303</td>\n",
       "    </tr>\n",
       "    <tr>\n",
       "      <th>3</th>\n",
       "      <td>PaymentScreenSuccessful</td>\n",
       "      <td>33918</td>\n",
       "    </tr>\n",
       "    <tr>\n",
       "      <th>4</th>\n",
       "      <td>Tutorial</td>\n",
       "      <td>1005</td>\n",
       "    </tr>\n",
       "  </tbody>\n",
       "</table>\n",
       "</div>"
      ],
      "text/plain": [
       "                event_name    size\n",
       "1         MainScreenAppear  117328\n",
       "2       OffersScreenAppear   46333\n",
       "0         CartScreenAppear   42303\n",
       "3  PaymentScreenSuccessful   33918\n",
       "4                 Tutorial    1005"
      ]
     },
     "execution_count": 31,
     "metadata": {},
     "output_type": "execute_result"
    }
   ],
   "source": [
    "# посчитаем частоту событий\n",
    "events_cnt = data_full.groupby('event_name', as_index=False).size().sort_values(by='size', ascending=False)\n",
    "print('Частота событий')\n",
    "events_cnt"
   ]
  },
  {
   "cell_type": "code",
   "execution_count": 32,
   "id": "700cf954-31b2-46ff-81b1-3b14616116fa",
   "metadata": {},
   "outputs": [
    {
     "name": "stdout",
     "output_type": "stream",
     "text": [
      "Количество пользователей в каждом событии\n"
     ]
    },
    {
     "data": {
      "text/plain": [
       "event_name\n",
       "MainScreenAppear           7419\n",
       "OffersScreenAppear         4593\n",
       "CartScreenAppear           3734\n",
       "PaymentScreenSuccessful    3539\n",
       "Tutorial                    840\n",
       "Name: device_id_hash, dtype: int64"
      ]
     },
     "execution_count": 32,
     "metadata": {},
     "output_type": "execute_result"
    }
   ],
   "source": [
    "# посчитаем количество пользователей, участвовавших в событиях\n",
    "events_user_cnt = data_full.groupby('event_name')['device_id_hash'].nunique().sort_values(ascending=False)\n",
    "print('Количество пользователей в каждом событии')\n",
    "events_user_cnt"
   ]
  },
  {
   "cell_type": "code",
   "execution_count": 33,
   "id": "dd6a6ead-2721-4d50-8044-db388e6ef9dd",
   "metadata": {},
   "outputs": [
    {
     "name": "stdout",
     "output_type": "stream",
     "text": [
      "Доля пользователей участвовавших в каждом событии относительно первоначального общего количества пользователей.\n"
     ]
    },
    {
     "data": {
      "text/plain": [
       "event_name\n",
       "MainScreenAppear           0.984736\n",
       "OffersScreenAppear         0.609636\n",
       "CartScreenAppear           0.495620\n",
       "PaymentScreenSuccessful    0.469737\n",
       "Tutorial                   0.111495\n",
       "Name: device_id_hash, dtype: float64"
      ]
     },
     "execution_count": 33,
     "metadata": {},
     "output_type": "execute_result"
    }
   ],
   "source": [
    "# посчитаем долю пользователей хоть раз совершавших событие\n",
    "user_cnt = data_full['device_id_hash'].nunique()\n",
    "events_user_ratio = (events_user_cnt / user_cnt).sort_values(ascending=False)\n",
    "print('Доля пользователей участвовавших в каждом событии относительно первоначального общего количества пользователей.')\n",
    "events_user_ratio"
   ]
  },
  {
   "cell_type": "markdown",
   "id": "dcf413ca-d0af-49bf-ba80-ea05e4ec02bd",
   "metadata": {},
   "source": [
    "**На основании рассчитанной частоты событий можно сделать предположение о последовательности событий:**\n",
    "1. *MainScreenAppear* - Основной экран приложения. Об этом говорит и доля пользователей, равная 98% от обшего числа. Недостающие 2%, скорее всего приходятся на сбои в работе приложения, либо его закрытие, без достижения полной прогрузки.\n",
    "2. *OffersScreenAppear* - Экран с товарами. На него переходят уже с основного экрана, что является логичным и последовательным событием. Доля в 61% это подтверждает.\n",
    "3. *CartScreenAppear* - Экран корзины. После просмотра товаров пользователь добавляет какие-то из них в корзину. Процент снова уменьшился и равняется почти 50%.\n",
    "4. *PaymentScreenSuccessful* - Экран успешной оплаты. Это событие происходит с 47% пользователей. Не все совершают покупки даже после добавления в корзину.\n",
    "5. *Tutorial* - Обучение. Доля совсем мала и составляет чуть более 11%. Скорее всего это инструкция к пользованию приложением. Большая часть пользователей это событие пропускают.\n",
    "\n",
    "Частота событий выглядит логичной. \"Tutorial\" исключим из последовательности сразу, так как данное событие не вписывается в логику последовательности совершения покупки. По итогу наша последовательность будет выглядеть так:\n",
    "1. MainScreenAppear\n",
    "2. \n",
    "OffersScreenAppea\n",
    "3. CartScreenAppear\n",
    "4. PaymentScreenSuccessful\n",
    "\n",
    "А вот 2%, которые, как бы потерялись уже на первом экране, рискнем объяснить тем, что пользователям дается выбор после скачивания приложения о переходе на главный экран, либо сразу к товарам. Либо же в какой-то из дней пытались поднять продажи, сразу представляя пользователю экран с товарами, чтобы сократить путь до покупки."
   ]
  },
  {
   "cell_type": "markdown",
   "id": "e8b1a8d3-b775-4609-bc45-c4875fb18bf0",
   "metadata": {},
   "source": [
    "**Построим воронку для последовательности событий с количеством уникальных пользователей**"
   ]
  },
  {
   "cell_type": "code",
   "execution_count": 36,
   "id": "2208ab03",
   "metadata": {},
   "outputs": [
    {
     "data": {
      "application/vnd.plotly.v1+json": {
       "config": {
        "plotlyServerURL": "https://plot.ly"
       },
       "data": [
        {
         "hovertemplate": "number=%{x}<br>stage=%{y}<extra></extra>",
         "legendgroup": "",
         "marker": {
          "color": "#636efa"
         },
         "name": "",
         "orientation": "h",
         "showlegend": false,
         "type": "funnel",
         "x": [
          7419,
          4593,
          3734,
          3539
         ],
         "xaxis": "x",
         "y": [
          "MainScreenAppear",
          "OffersScreenAppear",
          "CartScreenAppear",
          "PaymentScreenSuccessful"
         ],
         "yaxis": "y"
        }
       ],
       "layout": {
        "autosize": true,
        "legend": {
         "tracegroupgap": 0
        },
        "template": {
         "data": {
          "bar": [
           {
            "error_x": {
             "color": "#2a3f5f"
            },
            "error_y": {
             "color": "#2a3f5f"
            },
            "marker": {
             "line": {
              "color": "#E5ECF6",
              "width": 0.5
             },
             "pattern": {
              "fillmode": "overlay",
              "size": 10,
              "solidity": 0.2
             }
            },
            "type": "bar"
           }
          ],
          "barpolar": [
           {
            "marker": {
             "line": {
              "color": "#E5ECF6",
              "width": 0.5
             },
             "pattern": {
              "fillmode": "overlay",
              "size": 10,
              "solidity": 0.2
             }
            },
            "type": "barpolar"
           }
          ],
          "carpet": [
           {
            "aaxis": {
             "endlinecolor": "#2a3f5f",
             "gridcolor": "white",
             "linecolor": "white",
             "minorgridcolor": "white",
             "startlinecolor": "#2a3f5f"
            },
            "baxis": {
             "endlinecolor": "#2a3f5f",
             "gridcolor": "white",
             "linecolor": "white",
             "minorgridcolor": "white",
             "startlinecolor": "#2a3f5f"
            },
            "type": "carpet"
           }
          ],
          "choropleth": [
           {
            "colorbar": {
             "outlinewidth": 0,
             "ticks": ""
            },
            "type": "choropleth"
           }
          ],
          "contour": [
           {
            "colorbar": {
             "outlinewidth": 0,
             "ticks": ""
            },
            "colorscale": [
             [
              0,
              "#0d0887"
             ],
             [
              0.1111111111111111,
              "#46039f"
             ],
             [
              0.2222222222222222,
              "#7201a8"
             ],
             [
              0.3333333333333333,
              "#9c179e"
             ],
             [
              0.4444444444444444,
              "#bd3786"
             ],
             [
              0.5555555555555556,
              "#d8576b"
             ],
             [
              0.6666666666666666,
              "#ed7953"
             ],
             [
              0.7777777777777778,
              "#fb9f3a"
             ],
             [
              0.8888888888888888,
              "#fdca26"
             ],
             [
              1,
              "#f0f921"
             ]
            ],
            "type": "contour"
           }
          ],
          "contourcarpet": [
           {
            "colorbar": {
             "outlinewidth": 0,
             "ticks": ""
            },
            "type": "contourcarpet"
           }
          ],
          "heatmap": [
           {
            "colorbar": {
             "outlinewidth": 0,
             "ticks": ""
            },
            "colorscale": [
             [
              0,
              "#0d0887"
             ],
             [
              0.1111111111111111,
              "#46039f"
             ],
             [
              0.2222222222222222,
              "#7201a8"
             ],
             [
              0.3333333333333333,
              "#9c179e"
             ],
             [
              0.4444444444444444,
              "#bd3786"
             ],
             [
              0.5555555555555556,
              "#d8576b"
             ],
             [
              0.6666666666666666,
              "#ed7953"
             ],
             [
              0.7777777777777778,
              "#fb9f3a"
             ],
             [
              0.8888888888888888,
              "#fdca26"
             ],
             [
              1,
              "#f0f921"
             ]
            ],
            "type": "heatmap"
           }
          ],
          "heatmapgl": [
           {
            "colorbar": {
             "outlinewidth": 0,
             "ticks": ""
            },
            "colorscale": [
             [
              0,
              "#0d0887"
             ],
             [
              0.1111111111111111,
              "#46039f"
             ],
             [
              0.2222222222222222,
              "#7201a8"
             ],
             [
              0.3333333333333333,
              "#9c179e"
             ],
             [
              0.4444444444444444,
              "#bd3786"
             ],
             [
              0.5555555555555556,
              "#d8576b"
             ],
             [
              0.6666666666666666,
              "#ed7953"
             ],
             [
              0.7777777777777778,
              "#fb9f3a"
             ],
             [
              0.8888888888888888,
              "#fdca26"
             ],
             [
              1,
              "#f0f921"
             ]
            ],
            "type": "heatmapgl"
           }
          ],
          "histogram": [
           {
            "marker": {
             "pattern": {
              "fillmode": "overlay",
              "size": 10,
              "solidity": 0.2
             }
            },
            "type": "histogram"
           }
          ],
          "histogram2d": [
           {
            "colorbar": {
             "outlinewidth": 0,
             "ticks": ""
            },
            "colorscale": [
             [
              0,
              "#0d0887"
             ],
             [
              0.1111111111111111,
              "#46039f"
             ],
             [
              0.2222222222222222,
              "#7201a8"
             ],
             [
              0.3333333333333333,
              "#9c179e"
             ],
             [
              0.4444444444444444,
              "#bd3786"
             ],
             [
              0.5555555555555556,
              "#d8576b"
             ],
             [
              0.6666666666666666,
              "#ed7953"
             ],
             [
              0.7777777777777778,
              "#fb9f3a"
             ],
             [
              0.8888888888888888,
              "#fdca26"
             ],
             [
              1,
              "#f0f921"
             ]
            ],
            "type": "histogram2d"
           }
          ],
          "histogram2dcontour": [
           {
            "colorbar": {
             "outlinewidth": 0,
             "ticks": ""
            },
            "colorscale": [
             [
              0,
              "#0d0887"
             ],
             [
              0.1111111111111111,
              "#46039f"
             ],
             [
              0.2222222222222222,
              "#7201a8"
             ],
             [
              0.3333333333333333,
              "#9c179e"
             ],
             [
              0.4444444444444444,
              "#bd3786"
             ],
             [
              0.5555555555555556,
              "#d8576b"
             ],
             [
              0.6666666666666666,
              "#ed7953"
             ],
             [
              0.7777777777777778,
              "#fb9f3a"
             ],
             [
              0.8888888888888888,
              "#fdca26"
             ],
             [
              1,
              "#f0f921"
             ]
            ],
            "type": "histogram2dcontour"
           }
          ],
          "mesh3d": [
           {
            "colorbar": {
             "outlinewidth": 0,
             "ticks": ""
            },
            "type": "mesh3d"
           }
          ],
          "parcoords": [
           {
            "line": {
             "colorbar": {
              "outlinewidth": 0,
              "ticks": ""
             }
            },
            "type": "parcoords"
           }
          ],
          "pie": [
           {
            "automargin": true,
            "type": "pie"
           }
          ],
          "scatter": [
           {
            "fillpattern": {
             "fillmode": "overlay",
             "size": 10,
             "solidity": 0.2
            },
            "type": "scatter"
           }
          ],
          "scatter3d": [
           {
            "line": {
             "colorbar": {
              "outlinewidth": 0,
              "ticks": ""
             }
            },
            "marker": {
             "colorbar": {
              "outlinewidth": 0,
              "ticks": ""
             }
            },
            "type": "scatter3d"
           }
          ],
          "scattercarpet": [
           {
            "marker": {
             "colorbar": {
              "outlinewidth": 0,
              "ticks": ""
             }
            },
            "type": "scattercarpet"
           }
          ],
          "scattergeo": [
           {
            "marker": {
             "colorbar": {
              "outlinewidth": 0,
              "ticks": ""
             }
            },
            "type": "scattergeo"
           }
          ],
          "scattergl": [
           {
            "marker": {
             "colorbar": {
              "outlinewidth": 0,
              "ticks": ""
             }
            },
            "type": "scattergl"
           }
          ],
          "scattermapbox": [
           {
            "marker": {
             "colorbar": {
              "outlinewidth": 0,
              "ticks": ""
             }
            },
            "type": "scattermapbox"
           }
          ],
          "scatterpolar": [
           {
            "marker": {
             "colorbar": {
              "outlinewidth": 0,
              "ticks": ""
             }
            },
            "type": "scatterpolar"
           }
          ],
          "scatterpolargl": [
           {
            "marker": {
             "colorbar": {
              "outlinewidth": 0,
              "ticks": ""
             }
            },
            "type": "scatterpolargl"
           }
          ],
          "scatterternary": [
           {
            "marker": {
             "colorbar": {
              "outlinewidth": 0,
              "ticks": ""
             }
            },
            "type": "scatterternary"
           }
          ],
          "surface": [
           {
            "colorbar": {
             "outlinewidth": 0,
             "ticks": ""
            },
            "colorscale": [
             [
              0,
              "#0d0887"
             ],
             [
              0.1111111111111111,
              "#46039f"
             ],
             [
              0.2222222222222222,
              "#7201a8"
             ],
             [
              0.3333333333333333,
              "#9c179e"
             ],
             [
              0.4444444444444444,
              "#bd3786"
             ],
             [
              0.5555555555555556,
              "#d8576b"
             ],
             [
              0.6666666666666666,
              "#ed7953"
             ],
             [
              0.7777777777777778,
              "#fb9f3a"
             ],
             [
              0.8888888888888888,
              "#fdca26"
             ],
             [
              1,
              "#f0f921"
             ]
            ],
            "type": "surface"
           }
          ],
          "table": [
           {
            "cells": {
             "fill": {
              "color": "#EBF0F8"
             },
             "line": {
              "color": "white"
             }
            },
            "header": {
             "fill": {
              "color": "#C8D4E3"
             },
             "line": {
              "color": "white"
             }
            },
            "type": "table"
           }
          ]
         },
         "layout": {
          "annotationdefaults": {
           "arrowcolor": "#2a3f5f",
           "arrowhead": 0,
           "arrowwidth": 1
          },
          "autotypenumbers": "strict",
          "coloraxis": {
           "colorbar": {
            "outlinewidth": 0,
            "ticks": ""
           }
          },
          "colorscale": {
           "diverging": [
            [
             0,
             "#8e0152"
            ],
            [
             0.1,
             "#c51b7d"
            ],
            [
             0.2,
             "#de77ae"
            ],
            [
             0.3,
             "#f1b6da"
            ],
            [
             0.4,
             "#fde0ef"
            ],
            [
             0.5,
             "#f7f7f7"
            ],
            [
             0.6,
             "#e6f5d0"
            ],
            [
             0.7,
             "#b8e186"
            ],
            [
             0.8,
             "#7fbc41"
            ],
            [
             0.9,
             "#4d9221"
            ],
            [
             1,
             "#276419"
            ]
           ],
           "sequential": [
            [
             0,
             "#0d0887"
            ],
            [
             0.1111111111111111,
             "#46039f"
            ],
            [
             0.2222222222222222,
             "#7201a8"
            ],
            [
             0.3333333333333333,
             "#9c179e"
            ],
            [
             0.4444444444444444,
             "#bd3786"
            ],
            [
             0.5555555555555556,
             "#d8576b"
            ],
            [
             0.6666666666666666,
             "#ed7953"
            ],
            [
             0.7777777777777778,
             "#fb9f3a"
            ],
            [
             0.8888888888888888,
             "#fdca26"
            ],
            [
             1,
             "#f0f921"
            ]
           ],
           "sequentialminus": [
            [
             0,
             "#0d0887"
            ],
            [
             0.1111111111111111,
             "#46039f"
            ],
            [
             0.2222222222222222,
             "#7201a8"
            ],
            [
             0.3333333333333333,
             "#9c179e"
            ],
            [
             0.4444444444444444,
             "#bd3786"
            ],
            [
             0.5555555555555556,
             "#d8576b"
            ],
            [
             0.6666666666666666,
             "#ed7953"
            ],
            [
             0.7777777777777778,
             "#fb9f3a"
            ],
            [
             0.8888888888888888,
             "#fdca26"
            ],
            [
             1,
             "#f0f921"
            ]
           ]
          },
          "colorway": [
           "#636efa",
           "#EF553B",
           "#00cc96",
           "#ab63fa",
           "#FFA15A",
           "#19d3f3",
           "#FF6692",
           "#B6E880",
           "#FF97FF",
           "#FECB52"
          ],
          "font": {
           "color": "#2a3f5f"
          },
          "geo": {
           "bgcolor": "white",
           "lakecolor": "white",
           "landcolor": "#E5ECF6",
           "showlakes": true,
           "showland": true,
           "subunitcolor": "white"
          },
          "hoverlabel": {
           "align": "left"
          },
          "hovermode": "closest",
          "mapbox": {
           "style": "light"
          },
          "paper_bgcolor": "white",
          "plot_bgcolor": "#E5ECF6",
          "polar": {
           "angularaxis": {
            "gridcolor": "white",
            "linecolor": "white",
            "ticks": ""
           },
           "bgcolor": "#E5ECF6",
           "radialaxis": {
            "gridcolor": "white",
            "linecolor": "white",
            "ticks": ""
           }
          },
          "scene": {
           "xaxis": {
            "backgroundcolor": "#E5ECF6",
            "gridcolor": "white",
            "gridwidth": 2,
            "linecolor": "white",
            "showbackground": true,
            "ticks": "",
            "zerolinecolor": "white"
           },
           "yaxis": {
            "backgroundcolor": "#E5ECF6",
            "gridcolor": "white",
            "gridwidth": 2,
            "linecolor": "white",
            "showbackground": true,
            "ticks": "",
            "zerolinecolor": "white"
           },
           "zaxis": {
            "backgroundcolor": "#E5ECF6",
            "gridcolor": "white",
            "gridwidth": 2,
            "linecolor": "white",
            "showbackground": true,
            "ticks": "",
            "zerolinecolor": "white"
           }
          },
          "shapedefaults": {
           "line": {
            "color": "#2a3f5f"
           }
          },
          "ternary": {
           "aaxis": {
            "gridcolor": "white",
            "linecolor": "white",
            "ticks": ""
           },
           "baxis": {
            "gridcolor": "white",
            "linecolor": "white",
            "ticks": ""
           },
           "bgcolor": "#E5ECF6",
           "caxis": {
            "gridcolor": "white",
            "linecolor": "white",
            "ticks": ""
           }
          },
          "title": {
           "x": 0.05
          },
          "xaxis": {
           "automargin": true,
           "gridcolor": "white",
           "linecolor": "white",
           "ticks": "",
           "title": {
            "standoff": 15
           },
           "zerolinecolor": "white",
           "zerolinewidth": 2
          },
          "yaxis": {
           "automargin": true,
           "gridcolor": "white",
           "linecolor": "white",
           "ticks": "",
           "title": {
            "standoff": 15
           },
           "zerolinecolor": "white",
           "zerolinewidth": 2
          }
         }
        },
        "title": {
         "text": "Воронка по количеству уникальных событий",
         "x": 0.5
        },
        "xaxis": {
         "anchor": "y",
         "autorange": true,
         "domain": [
          0,
          1
         ],
         "range": [
          -4121.666666666667,
          4121.666666666667
         ],
         "title": {
          "text": "number"
         },
         "type": "linear"
        },
        "yaxis": {
         "anchor": "x",
         "autorange": true,
         "domain": [
          0,
          1
         ],
         "range": [
          3.5,
          -0.5
         ],
         "title": {
          "text": "stage"
         },
         "type": "category"
        }
       }
      },
      "image/png": "[encoded data removed]",
      "text/html": [
       "<div>                            <div id=\"8d2d25cd-a9f8-48a1-a5f3-ac8c19c3412d\" class=\"plotly-graph-div\" style=\"height:525px; width:100%;\"></div>            <script type=\"text/javascript\">                require([\"plotly\"], function(Plotly) {                    window.PLOTLYENV=window.PLOTLYENV || {};                                    if (document.getElementById(\"8d2d25cd-a9f8-48a1-a5f3-ac8c19c3412d\")) {                    Plotly.newPlot(                        \"8d2d25cd-a9f8-48a1-a5f3-ac8c19c3412d\",                        [{\"hovertemplate\":\"number=%{x}<br>stage=%{y}<extra></extra>\",\"legendgroup\":\"\",\"marker\":{\"color\":\"#636efa\"},\"name\":\"\",\"orientation\":\"h\",\"showlegend\":false,\"x\":[7419,4593,3734,3539],\"xaxis\":\"x\",\"y\":[\"MainScreenAppear\",\"OffersScreenAppear\",\"CartScreenAppear\",\"PaymentScreenSuccessful\"],\"yaxis\":\"y\",\"type\":\"funnel\"}],                        {\"template\":{\"data\":{\"histogram2dcontour\":[{\"type\":\"histogram2dcontour\",\"colorbar\":{\"outlinewidth\":0,\"ticks\":\"\"},\"colorscale\":[[0.0,\"#0d0887\"],[0.1111111111111111,\"#46039f\"],[0.2222222222222222,\"#7201a8\"],[0.3333333333333333,\"#9c179e\"],[0.4444444444444444,\"#bd3786\"],[0.5555555555555556,\"#d8576b\"],[0.6666666666666666,\"#ed7953\"],[0.7777777777777778,\"#fb9f3a\"],[0.8888888888888888,\"#fdca26\"],[1.0,\"#f0f921\"]]}],\"choropleth\":[{\"type\":\"choropleth\",\"colorbar\":{\"outlinewidth\":0,\"ticks\":\"\"}}],\"histogram2d\":[{\"type\":\"histogram2d\",\"colorbar\":{\"outlinewidth\":0,\"ticks\":\"\"},\"colorscale\":[[0.0,\"#0d0887\"],[0.1111111111111111,\"#46039f\"],[0.2222222222222222,\"#7201a8\"],[0.3333333333333333,\"#9c179e\"],[0.4444444444444444,\"#bd3786\"],[0.5555555555555556,\"#d8576b\"],[0.6666666666666666,\"#ed7953\"],[0.7777777777777778,\"#fb9f3a\"],[0.8888888888888888,\"#fdca26\"],[1.0,\"#f0f921\"]]}],\"heatmap\":[{\"type\":\"heatmap\",\"colorbar\":{\"outlinewidth\":0,\"ticks\":\"\"},\"colorscale\":[[0.0,\"#0d0887\"],[0.1111111111111111,\"#46039f\"],[0.2222222222222222,\"#7201a8\"],[0.3333333333333333,\"#9c179e\"],[0.4444444444444444,\"#bd3786\"],[0.5555555555555556,\"#d8576b\"],[0.6666666666666666,\"#ed7953\"],[0.7777777777777778,\"#fb9f3a\"],[0.8888888888888888,\"#fdca26\"],[1.0,\"#f0f921\"]]}],\"heatmapgl\":[{\"type\":\"heatmapgl\",\"colorbar\":{\"outlinewidth\":0,\"ticks\":\"\"},\"colorscale\":[[0.0,\"#0d0887\"],[0.1111111111111111,\"#46039f\"],[0.2222222222222222,\"#7201a8\"],[0.3333333333333333,\"#9c179e\"],[0.4444444444444444,\"#bd3786\"],[0.5555555555555556,\"#d8576b\"],[0.6666666666666666,\"#ed7953\"],[0.7777777777777778,\"#fb9f3a\"],[0.8888888888888888,\"#fdca26\"],[1.0,\"#f0f921\"]]}],\"contourcarpet\":[{\"type\":\"contourcarpet\",\"colorbar\":{\"outlinewidth\":0,\"ticks\":\"\"}}],\"contour\":[{\"type\":\"contour\",\"colorbar\":{\"outlinewidth\":0,\"ticks\":\"\"},\"colorscale\":[[0.0,\"#0d0887\"],[0.1111111111111111,\"#46039f\"],[0.2222222222222222,\"#7201a8\"],[0.3333333333333333,\"#9c179e\"],[0.4444444444444444,\"#bd3786\"],[0.5555555555555556,\"#d8576b\"],[0.6666666666666666,\"#ed7953\"],[0.7777777777777778,\"#fb9f3a\"],[0.8888888888888888,\"#fdca26\"],[1.0,\"#f0f921\"]]}],\"surface\":[{\"type\":\"surface\",\"colorbar\":{\"outlinewidth\":0,\"ticks\":\"\"},\"colorscale\":[[0.0,\"#0d0887\"],[0.1111111111111111,\"#46039f\"],[0.2222222222222222,\"#7201a8\"],[0.3333333333333333,\"#9c179e\"],[0.4444444444444444,\"#bd3786\"],[0.5555555555555556,\"#d8576b\"],[0.6666666666666666,\"#ed7953\"],[0.7777777777777778,\"#fb9f3a\"],[0.8888888888888888,\"#fdca26\"],[1.0,\"#f0f921\"]]}],\"mesh3d\":[{\"type\":\"mesh3d\",\"colorbar\":{\"outlinewidth\":0,\"ticks\":\"\"}}],\"scatter\":[{\"fillpattern\":{\"fillmode\":\"overlay\",\"size\":10,\"solidity\":0.2},\"type\":\"scatter\"}],\"parcoords\":[{\"type\":\"parcoords\",\"line\":{\"colorbar\":{\"outlinewidth\":0,\"ticks\":\"\"}}}],\"scatterpolargl\":[{\"type\":\"scatterpolargl\",\"marker\":{\"colorbar\":{\"outlinewidth\":0,\"ticks\":\"\"}}}],\"bar\":[{\"error_x\":{\"color\":\"#2a3f5f\"},\"error_y\":{\"color\":\"#2a3f5f\"},\"marker\":{\"line\":{\"color\":\"#E5ECF6\",\"width\":0.5},\"pattern\":{\"fillmode\":\"overlay\",\"size\":10,\"solidity\":0.2}},\"type\":\"bar\"}],\"scattergeo\":[{\"type\":\"scattergeo\",\"marker\":{\"colorbar\":{\"outlinewidth\":0,\"ticks\":\"\"}}}],\"scatterpolar\":[{\"type\":\"scatterpolar\",\"marker\":{\"colorbar\":{\"outlinewidth\":0,\"ticks\":\"\"}}}],\"histogram\":[{\"marker\":{\"pattern\":{\"fillmode\":\"overlay\",\"size\":10,\"solidity\":0.2}},\"type\":\"histogram\"}],\"scattergl\":[{\"type\":\"scattergl\",\"marker\":{\"colorbar\":{\"outlinewidth\":0,\"ticks\":\"\"}}}],\"scatter3d\":[{\"type\":\"scatter3d\",\"line\":{\"colorbar\":{\"outlinewidth\":0,\"ticks\":\"\"}},\"marker\":{\"colorbar\":{\"outlinewidth\":0,\"ticks\":\"\"}}}],\"scattermapbox\":[{\"type\":\"scattermapbox\",\"marker\":{\"colorbar\":{\"outlinewidth\":0,\"ticks\":\"\"}}}],\"scatterternary\":[{\"type\":\"scatterternary\",\"marker\":{\"colorbar\":{\"outlinewidth\":0,\"ticks\":\"\"}}}],\"scattercarpet\":[{\"type\":\"scattercarpet\",\"marker\":{\"colorbar\":{\"outlinewidth\":0,\"ticks\":\"\"}}}],\"carpet\":[{\"aaxis\":{\"endlinecolor\":\"#2a3f5f\",\"gridcolor\":\"white\",\"linecolor\":\"white\",\"minorgridcolor\":\"white\",\"startlinecolor\":\"#2a3f5f\"},\"baxis\":{\"endlinecolor\":\"#2a3f5f\",\"gridcolor\":\"white\",\"linecolor\":\"white\",\"minorgridcolor\":\"white\",\"startlinecolor\":\"#2a3f5f\"},\"type\":\"carpet\"}],\"table\":[{\"cells\":{\"fill\":{\"color\":\"#EBF0F8\"},\"line\":{\"color\":\"white\"}},\"header\":{\"fill\":{\"color\":\"#C8D4E3\"},\"line\":{\"color\":\"white\"}},\"type\":\"table\"}],\"barpolar\":[{\"marker\":{\"line\":{\"color\":\"#E5ECF6\",\"width\":0.5},\"pattern\":{\"fillmode\":\"overlay\",\"size\":10,\"solidity\":0.2}},\"type\":\"barpolar\"}],\"pie\":[{\"automargin\":true,\"type\":\"pie\"}]},\"layout\":{\"autotypenumbers\":\"strict\",\"colorway\":[\"#636efa\",\"#EF553B\",\"#00cc96\",\"#ab63fa\",\"#FFA15A\",\"#19d3f3\",\"#FF6692\",\"#B6E880\",\"#FF97FF\",\"#FECB52\"],\"font\":{\"color\":\"#2a3f5f\"},\"hovermode\":\"closest\",\"hoverlabel\":{\"align\":\"left\"},\"paper_bgcolor\":\"white\",\"plot_bgcolor\":\"#E5ECF6\",\"polar\":{\"bgcolor\":\"#E5ECF6\",\"angularaxis\":{\"gridcolor\":\"white\",\"linecolor\":\"white\",\"ticks\":\"\"},\"radialaxis\":{\"gridcolor\":\"white\",\"linecolor\":\"white\",\"ticks\":\"\"}},\"ternary\":{\"bgcolor\":\"#E5ECF6\",\"aaxis\":{\"gridcolor\":\"white\",\"linecolor\":\"white\",\"ticks\":\"\"},\"baxis\":{\"gridcolor\":\"white\",\"linecolor\":\"white\",\"ticks\":\"\"},\"caxis\":{\"gridcolor\":\"white\",\"linecolor\":\"white\",\"ticks\":\"\"}},\"coloraxis\":{\"colorbar\":{\"outlinewidth\":0,\"ticks\":\"\"}},\"colorscale\":{\"sequential\":[[0.0,\"#0d0887\"],[0.1111111111111111,\"#46039f\"],[0.2222222222222222,\"#7201a8\"],[0.3333333333333333,\"#9c179e\"],[0.4444444444444444,\"#bd3786\"],[0.5555555555555556,\"#d8576b\"],[0.6666666666666666,\"#ed7953\"],[0.7777777777777778,\"#fb9f3a\"],[0.8888888888888888,\"#fdca26\"],[1.0,\"#f0f921\"]],\"sequentialminus\":[[0.0,\"#0d0887\"],[0.1111111111111111,\"#46039f\"],[0.2222222222222222,\"#7201a8\"],[0.3333333333333333,\"#9c179e\"],[0.4444444444444444,\"#bd3786\"],[0.5555555555555556,\"#d8576b\"],[0.6666666666666666,\"#ed7953\"],[0.7777777777777778,\"#fb9f3a\"],[0.8888888888888888,\"#fdca26\"],[1.0,\"#f0f921\"]],\"diverging\":[[0,\"#8e0152\"],[0.1,\"#c51b7d\"],[0.2,\"#de77ae\"],[0.3,\"#f1b6da\"],[0.4,\"#fde0ef\"],[0.5,\"#f7f7f7\"],[0.6,\"#e6f5d0\"],[0.7,\"#b8e186\"],[0.8,\"#7fbc41\"],[0.9,\"#4d9221\"],[1,\"#276419\"]]},\"xaxis\":{\"gridcolor\":\"white\",\"linecolor\":\"white\",\"ticks\":\"\",\"title\":{\"standoff\":15},\"zerolinecolor\":\"white\",\"automargin\":true,\"zerolinewidth\":2},\"yaxis\":{\"gridcolor\":\"white\",\"linecolor\":\"white\",\"ticks\":\"\",\"title\":{\"standoff\":15},\"zerolinecolor\":\"white\",\"automargin\":true,\"zerolinewidth\":2},\"scene\":{\"xaxis\":{\"backgroundcolor\":\"#E5ECF6\",\"gridcolor\":\"white\",\"linecolor\":\"white\",\"showbackground\":true,\"ticks\":\"\",\"zerolinecolor\":\"white\",\"gridwidth\":2},\"yaxis\":{\"backgroundcolor\":\"#E5ECF6\",\"gridcolor\":\"white\",\"linecolor\":\"white\",\"showbackground\":true,\"ticks\":\"\",\"zerolinecolor\":\"white\",\"gridwidth\":2},\"zaxis\":{\"backgroundcolor\":\"#E5ECF6\",\"gridcolor\":\"white\",\"linecolor\":\"white\",\"showbackground\":true,\"ticks\":\"\",\"zerolinecolor\":\"white\",\"gridwidth\":2}},\"shapedefaults\":{\"line\":{\"color\":\"#2a3f5f\"}},\"annotationdefaults\":{\"arrowcolor\":\"#2a3f5f\",\"arrowhead\":0,\"arrowwidth\":1},\"geo\":{\"bgcolor\":\"white\",\"landcolor\":\"#E5ECF6\",\"subunitcolor\":\"white\",\"showland\":true,\"showlakes\":true,\"lakecolor\":\"white\"},\"title\":{\"x\":0.05},\"mapbox\":{\"style\":\"light\"}}},\"xaxis\":{\"anchor\":\"y\",\"domain\":[0.0,1.0],\"title\":{\"text\":\"number\"}},\"yaxis\":{\"anchor\":\"x\",\"domain\":[0.0,1.0],\"title\":{\"text\":\"stage\"}},\"legend\":{\"tracegroupgap\":0},\"title\":{\"text\":\"\\u0412\\u043e\\u0440\\u043e\\u043d\\u043a\\u0430 \\u043f\\u043e \\u043a\\u043e\\u043b\\u0438\\u0447\\u0435\\u0441\\u0442\\u0432\\u0443 \\u0443\\u043d\\u0438\\u043a\\u0430\\u043b\\u044c\\u043d\\u044b\\u0445 \\u0441\\u043e\\u0431\\u044b\\u0442\\u0438\\u0439\",\"x\":0.5}},                        {\"responsive\": true}                    ).then(function(){\n",
       "                            \n",
       "var gd = document.getElementById('8d2d25cd-a9f8-48a1-a5f3-ac8c19c3412d');\n",
       "var x = new MutationObserver(function (mutations, observer) {{\n",
       "        var display = window.getComputedStyle(gd).display;\n",
       "        if (!display || display === 'none') {{\n",
       "            console.log([gd, 'removed!']);\n",
       "            Plotly.purge(gd);\n",
       "            observer.disconnect();\n",
       "        }}\n",
       "}});\n",
       "\n",
       "// Listen for the removal of the full notebook cells\n",
       "var notebookContainer = gd.closest('#notebook-container');\n",
       "if (notebookContainer) {{\n",
       "    x.observe(notebookContainer, {childList: true});\n",
       "}}\n",
       "\n",
       "// Listen for the clearing of the current output cell\n",
       "var outputEl = gd.closest('.output');\n",
       "if (outputEl) {{\n",
       "    x.observe(outputEl, {childList: true});\n",
       "}}\n",
       "\n",
       "                        })                };                });            </script>        </div>"
      ]
     },
     "metadata": {},
     "output_type": "display_data"
    }
   ],
   "source": [
    "# создадим списки с названиями событий и их частотой\n",
    "event_name = list(events_user_cnt.index[:4])\n",
    "event_value = list(events_user_cnt[:4])\n",
    "# создадим словарь с названиями и частотой\n",
    "voronka = dict(\n",
    "    number=event_value,\n",
    "    stage=event_name)\n",
    "fig = px.funnel(voronka, x='number', y='stage', title = 'Воронка по количеству уникальных событий')\n",
    "fig.update_layout(title_x=0.5)\n",
    "\n",
    "fig.show()"
   ]
  },
  {
   "cell_type": "code",
   "execution_count": 37,
   "id": "4cecf387-8fc3-4f4f-b603-533c804cfb8a",
   "metadata": {},
   "outputs": [
    {
     "data": {
      "application/vnd.plotly.v1+json": {
       "config": {
        "plotlyServerURL": "https://plot.ly"
       },
       "data": [
        {
         "type": "funnel",
         "x": [
          7419,
          4593,
          3734,
          3539
         ],
         "y": [
          "MainScreenAppear",
          "OffersScreenAppear",
          "CartScreenAppear",
          "PaymentScreenSuccessful"
         ]
        }
       ],
       "layout": {
        "autosize": true,
        "template": {
         "data": {
          "bar": [
           {
            "error_x": {
             "color": "#2a3f5f"
            },
            "error_y": {
             "color": "#2a3f5f"
            },
            "marker": {
             "line": {
              "color": "#E5ECF6",
              "width": 0.5
             },
             "pattern": {
              "fillmode": "overlay",
              "size": 10,
              "solidity": 0.2
             }
            },
            "type": "bar"
           }
          ],
          "barpolar": [
           {
            "marker": {
             "line": {
              "color": "#E5ECF6",
              "width": 0.5
             },
             "pattern": {
              "fillmode": "overlay",
              "size": 10,
              "solidity": 0.2
             }
            },
            "type": "barpolar"
           }
          ],
          "carpet": [
           {
            "aaxis": {
             "endlinecolor": "#2a3f5f",
             "gridcolor": "white",
             "linecolor": "white",
             "minorgridcolor": "white",
             "startlinecolor": "#2a3f5f"
            },
            "baxis": {
             "endlinecolor": "#2a3f5f",
             "gridcolor": "white",
             "linecolor": "white",
             "minorgridcolor": "white",
             "startlinecolor": "#2a3f5f"
            },
            "type": "carpet"
           }
          ],
          "choropleth": [
           {
            "colorbar": {
             "outlinewidth": 0,
             "ticks": ""
            },
            "type": "choropleth"
           }
          ],
          "contour": [
           {
            "colorbar": {
             "outlinewidth": 0,
             "ticks": ""
            },
            "colorscale": [
             [
              0,
              "#0d0887"
             ],
             [
              0.1111111111111111,
              "#46039f"
             ],
             [
              0.2222222222222222,
              "#7201a8"
             ],
             [
              0.3333333333333333,
              "#9c179e"
             ],
             [
              0.4444444444444444,
              "#bd3786"
             ],
             [
              0.5555555555555556,
              "#d8576b"
             ],
             [
              0.6666666666666666,
              "#ed7953"
             ],
             [
              0.7777777777777778,
              "#fb9f3a"
             ],
             [
              0.8888888888888888,
              "#fdca26"
             ],
             [
              1,
              "#f0f921"
             ]
            ],
            "type": "contour"
           }
          ],
          "contourcarpet": [
           {
            "colorbar": {
             "outlinewidth": 0,
             "ticks": ""
            },
            "type": "contourcarpet"
           }
          ],
          "heatmap": [
           {
            "colorbar": {
             "outlinewidth": 0,
             "ticks": ""
            },
            "colorscale": [
             [
              0,
              "#0d0887"
             ],
             [
              0.1111111111111111,
              "#46039f"
             ],
             [
              0.2222222222222222,
              "#7201a8"
             ],
             [
              0.3333333333333333,
              "#9c179e"
             ],
             [
              0.4444444444444444,
              "#bd3786"
             ],
             [
              0.5555555555555556,
              "#d8576b"
             ],
             [
              0.6666666666666666,
              "#ed7953"
             ],
             [
              0.7777777777777778,
              "#fb9f3a"
             ],
             [
              0.8888888888888888,
              "#fdca26"
             ],
             [
              1,
              "#f0f921"
             ]
            ],
            "type": "heatmap"
           }
          ],
          "heatmapgl": [
           {
            "colorbar": {
             "outlinewidth": 0,
             "ticks": ""
            },
            "colorscale": [
             [
              0,
              "#0d0887"
             ],
             [
              0.1111111111111111,
              "#46039f"
             ],
             [
              0.2222222222222222,
              "#7201a8"
             ],
             [
              0.3333333333333333,
              "#9c179e"
             ],
             [
              0.4444444444444444,
              "#bd3786"
             ],
             [
              0.5555555555555556,
              "#d8576b"
             ],
             [
              0.6666666666666666,
              "#ed7953"
             ],
             [
              0.7777777777777778,
              "#fb9f3a"
             ],
             [
              0.8888888888888888,
              "#fdca26"
             ],
             [
              1,
              "#f0f921"
             ]
            ],
            "type": "heatmapgl"
           }
          ],
          "histogram": [
           {
            "marker": {
             "pattern": {
              "fillmode": "overlay",
              "size": 10,
              "solidity": 0.2
             }
            },
            "type": "histogram"
           }
          ],
          "histogram2d": [
           {
            "colorbar": {
             "outlinewidth": 0,
             "ticks": ""
            },
            "colorscale": [
             [
              0,
              "#0d0887"
             ],
             [
              0.1111111111111111,
              "#46039f"
             ],
             [
              0.2222222222222222,
              "#7201a8"
             ],
             [
              0.3333333333333333,
              "#9c179e"
             ],
             [
              0.4444444444444444,
              "#bd3786"
             ],
             [
              0.5555555555555556,
              "#d8576b"
             ],
             [
              0.6666666666666666,
              "#ed7953"
             ],
             [
              0.7777777777777778,
              "#fb9f3a"
             ],
             [
              0.8888888888888888,
              "#fdca26"
             ],
             [
              1,
              "#f0f921"
             ]
            ],
            "type": "histogram2d"
           }
          ],
          "histogram2dcontour": [
           {
            "colorbar": {
             "outlinewidth": 0,
             "ticks": ""
            },
            "colorscale": [
             [
              0,
              "#0d0887"
             ],
             [
              0.1111111111111111,
              "#46039f"
             ],
             [
              0.2222222222222222,
              "#7201a8"
             ],
             [
              0.3333333333333333,
              "#9c179e"
             ],
             [
              0.4444444444444444,
              "#bd3786"
             ],
             [
              0.5555555555555556,
              "#d8576b"
             ],
             [
              0.6666666666666666,
              "#ed7953"
             ],
             [
              0.7777777777777778,
              "#fb9f3a"
             ],
             [
              0.8888888888888888,
              "#fdca26"
             ],
             [
              1,
              "#f0f921"
             ]
            ],
            "type": "histogram2dcontour"
           }
          ],
          "mesh3d": [
           {
            "colorbar": {
             "outlinewidth": 0,
             "ticks": ""
            },
            "type": "mesh3d"
           }
          ],
          "parcoords": [
           {
            "line": {
             "colorbar": {
              "outlinewidth": 0,
              "ticks": ""
             }
            },
            "type": "parcoords"
           }
          ],
          "pie": [
           {
            "automargin": true,
            "type": "pie"
           }
          ],
          "scatter": [
           {
            "fillpattern": {
             "fillmode": "overlay",
             "size": 10,
             "solidity": 0.2
            },
            "type": "scatter"
           }
          ],
          "scatter3d": [
           {
            "line": {
             "colorbar": {
              "outlinewidth": 0,
              "ticks": ""
             }
            },
            "marker": {
             "colorbar": {
              "outlinewidth": 0,
              "ticks": ""
             }
            },
            "type": "scatter3d"
           }
          ],
          "scattercarpet": [
           {
            "marker": {
             "colorbar": {
              "outlinewidth": 0,
              "ticks": ""
             }
            },
            "type": "scattercarpet"
           }
          ],
          "scattergeo": [
           {
            "marker": {
             "colorbar": {
              "outlinewidth": 0,
              "ticks": ""
             }
            },
            "type": "scattergeo"
           }
          ],
          "scattergl": [
           {
            "marker": {
             "colorbar": {
              "outlinewidth": 0,
              "ticks": ""
             }
            },
            "type": "scattergl"
           }
          ],
          "scattermapbox": [
           {
            "marker": {
             "colorbar": {
              "outlinewidth": 0,
              "ticks": ""
             }
            },
            "type": "scattermapbox"
           }
          ],
          "scatterpolar": [
           {
            "marker": {
             "colorbar": {
              "outlinewidth": 0,
              "ticks": ""
             }
            },
            "type": "scatterpolar"
           }
          ],
          "scatterpolargl": [
           {
            "marker": {
             "colorbar": {
              "outlinewidth": 0,
              "ticks": ""
             }
            },
            "type": "scatterpolargl"
           }
          ],
          "scatterternary": [
           {
            "marker": {
             "colorbar": {
              "outlinewidth": 0,
              "ticks": ""
             }
            },
            "type": "scatterternary"
           }
          ],
          "surface": [
           {
            "colorbar": {
             "outlinewidth": 0,
             "ticks": ""
            },
            "colorscale": [
             [
              0,
              "#0d0887"
             ],
             [
              0.1111111111111111,
              "#46039f"
             ],
             [
              0.2222222222222222,
              "#7201a8"
             ],
             [
              0.3333333333333333,
              "#9c179e"
             ],
             [
              0.4444444444444444,
              "#bd3786"
             ],
             [
              0.5555555555555556,
              "#d8576b"
             ],
             [
              0.6666666666666666,
              "#ed7953"
             ],
             [
              0.7777777777777778,
              "#fb9f3a"
             ],
             [
              0.8888888888888888,
              "#fdca26"
             ],
             [
              1,
              "#f0f921"
             ]
            ],
            "type": "surface"
           }
          ],
          "table": [
           {
            "cells": {
             "fill": {
              "color": "#EBF0F8"
             },
             "line": {
              "color": "white"
             }
            },
            "header": {
             "fill": {
              "color": "#C8D4E3"
             },
             "line": {
              "color": "white"
             }
            },
            "type": "table"
           }
          ]
         },
         "layout": {
          "annotationdefaults": {
           "arrowcolor": "#2a3f5f",
           "arrowhead": 0,
           "arrowwidth": 1
          },
          "autotypenumbers": "strict",
          "coloraxis": {
           "colorbar": {
            "outlinewidth": 0,
            "ticks": ""
           }
          },
          "colorscale": {
           "diverging": [
            [
             0,
             "#8e0152"
            ],
            [
             0.1,
             "#c51b7d"
            ],
            [
             0.2,
             "#de77ae"
            ],
            [
             0.3,
             "#f1b6da"
            ],
            [
             0.4,
             "#fde0ef"
            ],
            [
             0.5,
             "#f7f7f7"
            ],
            [
             0.6,
             "#e6f5d0"
            ],
            [
             0.7,
             "#b8e186"
            ],
            [
             0.8,
             "#7fbc41"
            ],
            [
             0.9,
             "#4d9221"
            ],
            [
             1,
             "#276419"
            ]
           ],
           "sequential": [
            [
             0,
             "#0d0887"
            ],
            [
             0.1111111111111111,
             "#46039f"
            ],
            [
             0.2222222222222222,
             "#7201a8"
            ],
            [
             0.3333333333333333,
             "#9c179e"
            ],
            [
             0.4444444444444444,
             "#bd3786"
            ],
            [
             0.5555555555555556,
             "#d8576b"
            ],
            [
             0.6666666666666666,
             "#ed7953"
            ],
            [
             0.7777777777777778,
             "#fb9f3a"
            ],
            [
             0.8888888888888888,
             "#fdca26"
            ],
            [
             1,
             "#f0f921"
            ]
           ],
           "sequentialminus": [
            [
             0,
             "#0d0887"
            ],
            [
             0.1111111111111111,
             "#46039f"
            ],
            [
             0.2222222222222222,
             "#7201a8"
            ],
            [
             0.3333333333333333,
             "#9c179e"
            ],
            [
             0.4444444444444444,
             "#bd3786"
            ],
            [
             0.5555555555555556,
             "#d8576b"
            ],
            [
             0.6666666666666666,
             "#ed7953"
            ],
            [
             0.7777777777777778,
             "#fb9f3a"
            ],
            [
             0.8888888888888888,
             "#fdca26"
            ],
            [
             1,
             "#f0f921"
            ]
           ]
          },
          "colorway": [
           "#636efa",
           "#EF553B",
           "#00cc96",
           "#ab63fa",
           "#FFA15A",
           "#19d3f3",
           "#FF6692",
           "#B6E880",
           "#FF97FF",
           "#FECB52"
          ],
          "font": {
           "color": "#2a3f5f"
          },
          "geo": {
           "bgcolor": "white",
           "lakecolor": "white",
           "landcolor": "#E5ECF6",
           "showlakes": true,
           "showland": true,
           "subunitcolor": "white"
          },
          "hoverlabel": {
           "align": "left"
          },
          "hovermode": "closest",
          "mapbox": {
           "style": "light"
          },
          "paper_bgcolor": "white",
          "plot_bgcolor": "#E5ECF6",
          "polar": {
           "angularaxis": {
            "gridcolor": "white",
            "linecolor": "white",
            "ticks": ""
           },
           "bgcolor": "#E5ECF6",
           "radialaxis": {
            "gridcolor": "white",
            "linecolor": "white",
            "ticks": ""
           }
          },
          "scene": {
           "xaxis": {
            "backgroundcolor": "#E5ECF6",
            "gridcolor": "white",
            "gridwidth": 2,
            "linecolor": "white",
            "showbackground": true,
            "ticks": "",
            "zerolinecolor": "white"
           },
           "yaxis": {
            "backgroundcolor": "#E5ECF6",
            "gridcolor": "white",
            "gridwidth": 2,
            "linecolor": "white",
            "showbackground": true,
            "ticks": "",
            "zerolinecolor": "white"
           },
           "zaxis": {
            "backgroundcolor": "#E5ECF6",
            "gridcolor": "white",
            "gridwidth": 2,
            "linecolor": "white",
            "showbackground": true,
            "ticks": "",
            "zerolinecolor": "white"
           }
          },
          "shapedefaults": {
           "line": {
            "color": "#2a3f5f"
           }
          },
          "ternary": {
           "aaxis": {
            "gridcolor": "white",
            "linecolor": "white",
            "ticks": ""
           },
           "baxis": {
            "gridcolor": "white",
            "linecolor": "white",
            "ticks": ""
           },
           "bgcolor": "#E5ECF6",
           "caxis": {
            "gridcolor": "white",
            "linecolor": "white",
            "ticks": ""
           }
          },
          "title": {
           "x": 0.05
          },
          "xaxis": {
           "automargin": true,
           "gridcolor": "white",
           "linecolor": "white",
           "ticks": "",
           "title": {
            "standoff": 15
           },
           "zerolinecolor": "white",
           "zerolinewidth": 2
          },
          "yaxis": {
           "automargin": true,
           "gridcolor": "white",
           "linecolor": "white",
           "ticks": "",
           "title": {
            "standoff": 15
           },
           "zerolinecolor": "white",
           "zerolinewidth": 2
          }
         }
        },
        "title": {
         "text": "Воронка событий",
         "x": 0.5
        },
        "xaxis": {
         "autorange": true,
         "range": [
          -4121.666666666667,
          4121.666666666667
         ],
         "type": "linear"
        },
        "yaxis": {
         "autorange": true,
         "range": [
          3.5,
          -0.5
         ],
         "type": "category"
        }
       }
      },
      "image/png": "[encoded data removed]",
      "text/html": [
       "<div>                            <div id=\"a6954ee4-6d5a-44ea-b4a0-b5c608700369\" class=\"plotly-graph-div\" style=\"height:525px; width:100%;\"></div>            <script type=\"text/javascript\">                require([\"plotly\"], function(Plotly) {                    window.PLOTLYENV=window.PLOTLYENV || {};                                    if (document.getElementById(\"a6954ee4-6d5a-44ea-b4a0-b5c608700369\")) {                    Plotly.newPlot(                        \"a6954ee4-6d5a-44ea-b4a0-b5c608700369\",                        [{\"x\":[7419,4593,3734,3539],\"y\":[\"MainScreenAppear\",\"OffersScreenAppear\",\"CartScreenAppear\",\"PaymentScreenSuccessful\"],\"type\":\"funnel\"}],                        {\"template\":{\"data\":{\"histogram2dcontour\":[{\"type\":\"histogram2dcontour\",\"colorbar\":{\"outlinewidth\":0,\"ticks\":\"\"},\"colorscale\":[[0.0,\"#0d0887\"],[0.1111111111111111,\"#46039f\"],[0.2222222222222222,\"#7201a8\"],[0.3333333333333333,\"#9c179e\"],[0.4444444444444444,\"#bd3786\"],[0.5555555555555556,\"#d8576b\"],[0.6666666666666666,\"#ed7953\"],[0.7777777777777778,\"#fb9f3a\"],[0.8888888888888888,\"#fdca26\"],[1.0,\"#f0f921\"]]}],\"choropleth\":[{\"type\":\"choropleth\",\"colorbar\":{\"outlinewidth\":0,\"ticks\":\"\"}}],\"histogram2d\":[{\"type\":\"histogram2d\",\"colorbar\":{\"outlinewidth\":0,\"ticks\":\"\"},\"colorscale\":[[0.0,\"#0d0887\"],[0.1111111111111111,\"#46039f\"],[0.2222222222222222,\"#7201a8\"],[0.3333333333333333,\"#9c179e\"],[0.4444444444444444,\"#bd3786\"],[0.5555555555555556,\"#d8576b\"],[0.6666666666666666,\"#ed7953\"],[0.7777777777777778,\"#fb9f3a\"],[0.8888888888888888,\"#fdca26\"],[1.0,\"#f0f921\"]]}],\"heatmap\":[{\"type\":\"heatmap\",\"colorbar\":{\"outlinewidth\":0,\"ticks\":\"\"},\"colorscale\":[[0.0,\"#0d0887\"],[0.1111111111111111,\"#46039f\"],[0.2222222222222222,\"#7201a8\"],[0.3333333333333333,\"#9c179e\"],[0.4444444444444444,\"#bd3786\"],[0.5555555555555556,\"#d8576b\"],[0.6666666666666666,\"#ed7953\"],[0.7777777777777778,\"#fb9f3a\"],[0.8888888888888888,\"#fdca26\"],[1.0,\"#f0f921\"]]}],\"heatmapgl\":[{\"type\":\"heatmapgl\",\"colorbar\":{\"outlinewidth\":0,\"ticks\":\"\"},\"colorscale\":[[0.0,\"#0d0887\"],[0.1111111111111111,\"#46039f\"],[0.2222222222222222,\"#7201a8\"],[0.3333333333333333,\"#9c179e\"],[0.4444444444444444,\"#bd3786\"],[0.5555555555555556,\"#d8576b\"],[0.6666666666666666,\"#ed7953\"],[0.7777777777777778,\"#fb9f3a\"],[0.8888888888888888,\"#fdca26\"],[1.0,\"#f0f921\"]]}],\"contourcarpet\":[{\"type\":\"contourcarpet\",\"colorbar\":{\"outlinewidth\":0,\"ticks\":\"\"}}],\"contour\":[{\"type\":\"contour\",\"colorbar\":{\"outlinewidth\":0,\"ticks\":\"\"},\"colorscale\":[[0.0,\"#0d0887\"],[0.1111111111111111,\"#46039f\"],[0.2222222222222222,\"#7201a8\"],[0.3333333333333333,\"#9c179e\"],[0.4444444444444444,\"#bd3786\"],[0.5555555555555556,\"#d8576b\"],[0.6666666666666666,\"#ed7953\"],[0.7777777777777778,\"#fb9f3a\"],[0.8888888888888888,\"#fdca26\"],[1.0,\"#f0f921\"]]}],\"surface\":[{\"type\":\"surface\",\"colorbar\":{\"outlinewidth\":0,\"ticks\":\"\"},\"colorscale\":[[0.0,\"#0d0887\"],[0.1111111111111111,\"#46039f\"],[0.2222222222222222,\"#7201a8\"],[0.3333333333333333,\"#9c179e\"],[0.4444444444444444,\"#bd3786\"],[0.5555555555555556,\"#d8576b\"],[0.6666666666666666,\"#ed7953\"],[0.7777777777777778,\"#fb9f3a\"],[0.8888888888888888,\"#fdca26\"],[1.0,\"#f0f921\"]]}],\"mesh3d\":[{\"type\":\"mesh3d\",\"colorbar\":{\"outlinewidth\":0,\"ticks\":\"\"}}],\"scatter\":[{\"fillpattern\":{\"fillmode\":\"overlay\",\"size\":10,\"solidity\":0.2},\"type\":\"scatter\"}],\"parcoords\":[{\"type\":\"parcoords\",\"line\":{\"colorbar\":{\"outlinewidth\":0,\"ticks\":\"\"}}}],\"scatterpolargl\":[{\"type\":\"scatterpolargl\",\"marker\":{\"colorbar\":{\"outlinewidth\":0,\"ticks\":\"\"}}}],\"bar\":[{\"error_x\":{\"color\":\"#2a3f5f\"},\"error_y\":{\"color\":\"#2a3f5f\"},\"marker\":{\"line\":{\"color\":\"#E5ECF6\",\"width\":0.5},\"pattern\":{\"fillmode\":\"overlay\",\"size\":10,\"solidity\":0.2}},\"type\":\"bar\"}],\"scattergeo\":[{\"type\":\"scattergeo\",\"marker\":{\"colorbar\":{\"outlinewidth\":0,\"ticks\":\"\"}}}],\"scatterpolar\":[{\"type\":\"scatterpolar\",\"marker\":{\"colorbar\":{\"outlinewidth\":0,\"ticks\":\"\"}}}],\"histogram\":[{\"marker\":{\"pattern\":{\"fillmode\":\"overlay\",\"size\":10,\"solidity\":0.2}},\"type\":\"histogram\"}],\"scattergl\":[{\"type\":\"scattergl\",\"marker\":{\"colorbar\":{\"outlinewidth\":0,\"ticks\":\"\"}}}],\"scatter3d\":[{\"type\":\"scatter3d\",\"line\":{\"colorbar\":{\"outlinewidth\":0,\"ticks\":\"\"}},\"marker\":{\"colorbar\":{\"outlinewidth\":0,\"ticks\":\"\"}}}],\"scattermapbox\":[{\"type\":\"scattermapbox\",\"marker\":{\"colorbar\":{\"outlinewidth\":0,\"ticks\":\"\"}}}],\"scatterternary\":[{\"type\":\"scatterternary\",\"marker\":{\"colorbar\":{\"outlinewidth\":0,\"ticks\":\"\"}}}],\"scattercarpet\":[{\"type\":\"scattercarpet\",\"marker\":{\"colorbar\":{\"outlinewidth\":0,\"ticks\":\"\"}}}],\"carpet\":[{\"aaxis\":{\"endlinecolor\":\"#2a3f5f\",\"gridcolor\":\"white\",\"linecolor\":\"white\",\"minorgridcolor\":\"white\",\"startlinecolor\":\"#2a3f5f\"},\"baxis\":{\"endlinecolor\":\"#2a3f5f\",\"gridcolor\":\"white\",\"linecolor\":\"white\",\"minorgridcolor\":\"white\",\"startlinecolor\":\"#2a3f5f\"},\"type\":\"carpet\"}],\"table\":[{\"cells\":{\"fill\":{\"color\":\"#EBF0F8\"},\"line\":{\"color\":\"white\"}},\"header\":{\"fill\":{\"color\":\"#C8D4E3\"},\"line\":{\"color\":\"white\"}},\"type\":\"table\"}],\"barpolar\":[{\"marker\":{\"line\":{\"color\":\"#E5ECF6\",\"width\":0.5},\"pattern\":{\"fillmode\":\"overlay\",\"size\":10,\"solidity\":0.2}},\"type\":\"barpolar\"}],\"pie\":[{\"automargin\":true,\"type\":\"pie\"}]},\"layout\":{\"autotypenumbers\":\"strict\",\"colorway\":[\"#636efa\",\"#EF553B\",\"#00cc96\",\"#ab63fa\",\"#FFA15A\",\"#19d3f3\",\"#FF6692\",\"#B6E880\",\"#FF97FF\",\"#FECB52\"],\"font\":{\"color\":\"#2a3f5f\"},\"hovermode\":\"closest\",\"hoverlabel\":{\"align\":\"left\"},\"paper_bgcolor\":\"white\",\"plot_bgcolor\":\"#E5ECF6\",\"polar\":{\"bgcolor\":\"#E5ECF6\",\"angularaxis\":{\"gridcolor\":\"white\",\"linecolor\":\"white\",\"ticks\":\"\"},\"radialaxis\":{\"gridcolor\":\"white\",\"linecolor\":\"white\",\"ticks\":\"\"}},\"ternary\":{\"bgcolor\":\"#E5ECF6\",\"aaxis\":{\"gridcolor\":\"white\",\"linecolor\":\"white\",\"ticks\":\"\"},\"baxis\":{\"gridcolor\":\"white\",\"linecolor\":\"white\",\"ticks\":\"\"},\"caxis\":{\"gridcolor\":\"white\",\"linecolor\":\"white\",\"ticks\":\"\"}},\"coloraxis\":{\"colorbar\":{\"outlinewidth\":0,\"ticks\":\"\"}},\"colorscale\":{\"sequential\":[[0.0,\"#0d0887\"],[0.1111111111111111,\"#46039f\"],[0.2222222222222222,\"#7201a8\"],[0.3333333333333333,\"#9c179e\"],[0.4444444444444444,\"#bd3786\"],[0.5555555555555556,\"#d8576b\"],[0.6666666666666666,\"#ed7953\"],[0.7777777777777778,\"#fb9f3a\"],[0.8888888888888888,\"#fdca26\"],[1.0,\"#f0f921\"]],\"sequentialminus\":[[0.0,\"#0d0887\"],[0.1111111111111111,\"#46039f\"],[0.2222222222222222,\"#7201a8\"],[0.3333333333333333,\"#9c179e\"],[0.4444444444444444,\"#bd3786\"],[0.5555555555555556,\"#d8576b\"],[0.6666666666666666,\"#ed7953\"],[0.7777777777777778,\"#fb9f3a\"],[0.8888888888888888,\"#fdca26\"],[1.0,\"#f0f921\"]],\"diverging\":[[0,\"#8e0152\"],[0.1,\"#c51b7d\"],[0.2,\"#de77ae\"],[0.3,\"#f1b6da\"],[0.4,\"#fde0ef\"],[0.5,\"#f7f7f7\"],[0.6,\"#e6f5d0\"],[0.7,\"#b8e186\"],[0.8,\"#7fbc41\"],[0.9,\"#4d9221\"],[1,\"#276419\"]]},\"xaxis\":{\"gridcolor\":\"white\",\"linecolor\":\"white\",\"ticks\":\"\",\"title\":{\"standoff\":15},\"zerolinecolor\":\"white\",\"automargin\":true,\"zerolinewidth\":2},\"yaxis\":{\"gridcolor\":\"white\",\"linecolor\":\"white\",\"ticks\":\"\",\"title\":{\"standoff\":15},\"zerolinecolor\":\"white\",\"automargin\":true,\"zerolinewidth\":2},\"scene\":{\"xaxis\":{\"backgroundcolor\":\"#E5ECF6\",\"gridcolor\":\"white\",\"linecolor\":\"white\",\"showbackground\":true,\"ticks\":\"\",\"zerolinecolor\":\"white\",\"gridwidth\":2},\"yaxis\":{\"backgroundcolor\":\"#E5ECF6\",\"gridcolor\":\"white\",\"linecolor\":\"white\",\"showbackground\":true,\"ticks\":\"\",\"zerolinecolor\":\"white\",\"gridwidth\":2},\"zaxis\":{\"backgroundcolor\":\"#E5ECF6\",\"gridcolor\":\"white\",\"linecolor\":\"white\",\"showbackground\":true,\"ticks\":\"\",\"zerolinecolor\":\"white\",\"gridwidth\":2}},\"shapedefaults\":{\"line\":{\"color\":\"#2a3f5f\"}},\"annotationdefaults\":{\"arrowcolor\":\"#2a3f5f\",\"arrowhead\":0,\"arrowwidth\":1},\"geo\":{\"bgcolor\":\"white\",\"landcolor\":\"#E5ECF6\",\"subunitcolor\":\"white\",\"showland\":true,\"showlakes\":true,\"lakecolor\":\"white\"},\"title\":{\"x\":0.05},\"mapbox\":{\"style\":\"light\"}}},\"title\":{\"text\":\"\\u0412\\u043e\\u0440\\u043e\\u043d\\u043a\\u0430 \\u0441\\u043e\\u0431\\u044b\\u0442\\u0438\\u0439\",\"x\":0.5}},                        {\"responsive\": true}                    ).then(function(){\n",
       "                            \n",
       "var gd = document.getElementById('a6954ee4-6d5a-44ea-b4a0-b5c608700369');\n",
       "var x = new MutationObserver(function (mutations, observer) {{\n",
       "        var display = window.getComputedStyle(gd).display;\n",
       "        if (!display || display === 'none') {{\n",
       "            console.log([gd, 'removed!']);\n",
       "            Plotly.purge(gd);\n",
       "            observer.disconnect();\n",
       "        }}\n",
       "}});\n",
       "\n",
       "// Listen for the removal of the full notebook cells\n",
       "var notebookContainer = gd.closest('#notebook-container');\n",
       "if (notebookContainer) {{\n",
       "    x.observe(notebookContainer, {childList: true});\n",
       "}}\n",
       "\n",
       "// Listen for the clearing of the current output cell\n",
       "var outputEl = gd.closest('.output');\n",
       "if (outputEl) {{\n",
       "    x.observe(outputEl, {childList: true});\n",
       "}}\n",
       "\n",
       "                        })                };                });            </script>        </div>"
      ]
     },
     "metadata": {},
     "output_type": "display_data"
    }
   ],
   "source": [
    "# второй способ построения воронки\n",
    "from plotly import graph_objects as go\n",
    "\n",
    "fig = go.Figure(go.Funnel(\n",
    "    y = event_name,\n",
    "    x = event_value))\n",
    "\n",
    "fig.update_layout(title=\"Воронка событий\", title_x=0.5)\n",
    "\n",
    "fig.show()"
   ]
  },
  {
   "cell_type": "markdown",
   "id": "d3e36925-3fd9-4c12-90f0-edefcc226104",
   "metadata": {},
   "source": [
    "**Рассчитаем конверсию пользователей от шага к шагу и узнаем, на каком этапе теряем больше всего пользователей.**"
   ]
  },
  {
   "cell_type": "code",
   "execution_count": 38,
   "id": "13ab7294-bd6d-45cb-87f8-3073a1a60ef9",
   "metadata": {},
   "outputs": [
    {
     "data": {
      "text/html": [
       "<div>\n",
       "<style scoped>\n",
       "    .dataframe tbody tr th:only-of-type {\n",
       "        vertical-align: middle;\n",
       "    }\n",
       "\n",
       "    .dataframe tbody tr th {\n",
       "        vertical-align: top;\n",
       "    }\n",
       "\n",
       "    .dataframe thead th {\n",
       "        text-align: right;\n",
       "    }\n",
       "</style>\n",
       "<table border=\"1\" class=\"dataframe\">\n",
       "  <thead>\n",
       "    <tr style=\"text-align: right;\">\n",
       "      <th></th>\n",
       "      <th>event_name</th>\n",
       "      <th>cnt_events</th>\n",
       "      <th>users_unique</th>\n",
       "      <th>total_conv_user</th>\n",
       "      <th>step_conv_user</th>\n",
       "    </tr>\n",
       "  </thead>\n",
       "  <tbody>\n",
       "    <tr>\n",
       "      <th>0</th>\n",
       "      <td>MainScreenAppear</td>\n",
       "      <td>117328</td>\n",
       "      <td>7419</td>\n",
       "      <td>100.00</td>\n",
       "      <td>100.00</td>\n",
       "    </tr>\n",
       "    <tr>\n",
       "      <th>1</th>\n",
       "      <td>OffersScreenAppear</td>\n",
       "      <td>46333</td>\n",
       "      <td>4593</td>\n",
       "      <td>61.91</td>\n",
       "      <td>61.91</td>\n",
       "    </tr>\n",
       "    <tr>\n",
       "      <th>2</th>\n",
       "      <td>CartScreenAppear</td>\n",
       "      <td>42303</td>\n",
       "      <td>3734</td>\n",
       "      <td>50.33</td>\n",
       "      <td>81.30</td>\n",
       "    </tr>\n",
       "    <tr>\n",
       "      <th>3</th>\n",
       "      <td>PaymentScreenSuccessful</td>\n",
       "      <td>33918</td>\n",
       "      <td>3539</td>\n",
       "      <td>47.70</td>\n",
       "      <td>94.78</td>\n",
       "    </tr>\n",
       "  </tbody>\n",
       "</table>\n",
       "</div>"
      ],
      "text/plain": [
       "                event_name  cnt_events  users_unique  total_conv_user  \\\n",
       "0         MainScreenAppear      117328          7419           100.00   \n",
       "1       OffersScreenAppear       46333          4593            61.91   \n",
       "2         CartScreenAppear       42303          3734            50.33   \n",
       "3  PaymentScreenSuccessful       33918          3539            47.70   \n",
       "\n",
       "   step_conv_user  \n",
       "0          100.00  \n",
       "1           61.91  \n",
       "2           81.30  \n",
       "3           94.78  "
      ]
     },
     "execution_count": 38,
     "metadata": {},
     "output_type": "execute_result"
    }
   ],
   "source": [
    "# Создадим датафрейм \"conversion\"\n",
    "conversion = data_full[data_full['event_name'] != 'Tutorial'].groupby('event_name', as_index=False).agg({'event_timestamp':'count','device_id_hash': 'nunique'})\\\n",
    "    .sort_values(by='device_id_hash', ascending=False).reset_index(drop=True).rename(columns={'event_timestamp': 'cnt_events', 'device_id_hash': 'users_unique'})\n",
    "\n",
    "conversion['total_conv_user'] = np.round((conversion['users_unique'] / conversion.loc[0, 'users_unique']) * 100, 2)\n",
    "\n",
    "for i in conversion.index:\n",
    "    if i == 0:\n",
    "        conversion['step_conv_user'] = np.round((conversion.loc[i, 'users_unique'] / conversion.loc[i, 'users_unique']) * 100, 2)\n",
    "    else:\n",
    "        conversion.loc[i, 'step_conv_user'] = np.round((conversion.loc[i, 'users_unique'] / conversion.loc[i - 1, 'users_unique']) * 100, 2)\n",
    "\n",
    "conversion"
   ]
  },
  {
   "cell_type": "code",
   "execution_count": 39,
   "id": "4927929c-b774-417a-bc50-455f8fdf3f40",
   "metadata": {},
   "outputs": [
    {
     "data": {
      "application/vnd.plotly.v1+json": {
       "config": {
        "plotlyServerURL": "https://plot.ly"
       },
       "data": [
        {
         "connector": {
          "line": {
           "color": "royalblue",
           "dash": "dot",
           "width": 3
          }
         },
         "marker": {
          "color": [
           "deepskyblue",
           "lightsalmon",
           "tan",
           "teal",
           "silver"
          ],
          "line": {
           "color": [
            "wheat",
            "wheat",
            "blue",
            "wheat",
            "wheat"
           ],
           "width": [
            4,
            2,
            2,
            3,
            1,
            1
           ]
          }
         },
         "opacity": 0.65,
         "textinfo": "value+percent previous",
         "textposition": "inside",
         "type": "funnel",
         "x": [
          7419,
          4593,
          3734,
          3539
         ],
         "y": [
          "MainScreenAppear",
          "OffersScreenAppear",
          "CartScreenAppear",
          "PaymentScreenSuccessful"
         ]
        }
       ],
       "layout": {
        "autosize": true,
        "template": {
         "data": {
          "bar": [
           {
            "error_x": {
             "color": "#2a3f5f"
            },
            "error_y": {
             "color": "#2a3f5f"
            },
            "marker": {
             "line": {
              "color": "#E5ECF6",
              "width": 0.5
             },
             "pattern": {
              "fillmode": "overlay",
              "size": 10,
              "solidity": 0.2
             }
            },
            "type": "bar"
           }
          ],
          "barpolar": [
           {
            "marker": {
             "line": {
              "color": "#E5ECF6",
              "width": 0.5
             },
             "pattern": {
              "fillmode": "overlay",
              "size": 10,
              "solidity": 0.2
             }
            },
            "type": "barpolar"
           }
          ],
          "carpet": [
           {
            "aaxis": {
             "endlinecolor": "#2a3f5f",
             "gridcolor": "white",
             "linecolor": "white",
             "minorgridcolor": "white",
             "startlinecolor": "#2a3f5f"
            },
            "baxis": {
             "endlinecolor": "#2a3f5f",
             "gridcolor": "white",
             "linecolor": "white",
             "minorgridcolor": "white",
             "startlinecolor": "#2a3f5f"
            },
            "type": "carpet"
           }
          ],
          "choropleth": [
           {
            "colorbar": {
             "outlinewidth": 0,
             "ticks": ""
            },
            "type": "choropleth"
           }
          ],
          "contour": [
           {
            "colorbar": {
             "outlinewidth": 0,
             "ticks": ""
            },
            "colorscale": [
             [
              0,
              "#0d0887"
             ],
             [
              0.1111111111111111,
              "#46039f"
             ],
             [
              0.2222222222222222,
              "#7201a8"
             ],
             [
              0.3333333333333333,
              "#9c179e"
             ],
             [
              0.4444444444444444,
              "#bd3786"
             ],
             [
              0.5555555555555556,
              "#d8576b"
             ],
             [
              0.6666666666666666,
              "#ed7953"
             ],
             [
              0.7777777777777778,
              "#fb9f3a"
             ],
             [
              0.8888888888888888,
              "#fdca26"
             ],
             [
              1,
              "#f0f921"
             ]
            ],
            "type": "contour"
           }
          ],
          "contourcarpet": [
           {
            "colorbar": {
             "outlinewidth": 0,
             "ticks": ""
            },
            "type": "contourcarpet"
           }
          ],
          "heatmap": [
           {
            "colorbar": {
             "outlinewidth": 0,
             "ticks": ""
            },
            "colorscale": [
             [
              0,
              "#0d0887"
             ],
             [
              0.1111111111111111,
              "#46039f"
             ],
             [
              0.2222222222222222,
              "#7201a8"
             ],
             [
              0.3333333333333333,
              "#9c179e"
             ],
             [
              0.4444444444444444,
              "#bd3786"
             ],
             [
              0.5555555555555556,
              "#d8576b"
             ],
             [
              0.6666666666666666,
              "#ed7953"
             ],
             [
              0.7777777777777778,
              "#fb9f3a"
             ],
             [
              0.8888888888888888,
              "#fdca26"
             ],
             [
              1,
              "#f0f921"
             ]
            ],
            "type": "heatmap"
           }
          ],
          "heatmapgl": [
           {
            "colorbar": {
             "outlinewidth": 0,
             "ticks": ""
            },
            "colorscale": [
             [
              0,
              "#0d0887"
             ],
             [
              0.1111111111111111,
              "#46039f"
             ],
             [
              0.2222222222222222,
              "#7201a8"
             ],
             [
              0.3333333333333333,
              "#9c179e"
             ],
             [
              0.4444444444444444,
              "#bd3786"
             ],
             [
              0.5555555555555556,
              "#d8576b"
             ],
             [
              0.6666666666666666,
              "#ed7953"
             ],
             [
              0.7777777777777778,
              "#fb9f3a"
             ],
             [
              0.8888888888888888,
              "#fdca26"
             ],
             [
              1,
              "#f0f921"
             ]
            ],
            "type": "heatmapgl"
           }
          ],
          "histogram": [
           {
            "marker": {
             "pattern": {
              "fillmode": "overlay",
              "size": 10,
              "solidity": 0.2
             }
            },
            "type": "histogram"
           }
          ],
          "histogram2d": [
           {
            "colorbar": {
             "outlinewidth": 0,
             "ticks": ""
            },
            "colorscale": [
             [
              0,
              "#0d0887"
             ],
             [
              0.1111111111111111,
              "#46039f"
             ],
             [
              0.2222222222222222,
              "#7201a8"
             ],
             [
              0.3333333333333333,
              "#9c179e"
             ],
             [
              0.4444444444444444,
              "#bd3786"
             ],
             [
              0.5555555555555556,
              "#d8576b"
             ],
             [
              0.6666666666666666,
              "#ed7953"
             ],
             [
              0.7777777777777778,
              "#fb9f3a"
             ],
             [
              0.8888888888888888,
              "#fdca26"
             ],
             [
              1,
              "#f0f921"
             ]
            ],
            "type": "histogram2d"
           }
          ],
          "histogram2dcontour": [
           {
            "colorbar": {
             "outlinewidth": 0,
             "ticks": ""
            },
            "colorscale": [
             [
              0,
              "#0d0887"
             ],
             [
              0.1111111111111111,
              "#46039f"
             ],
             [
              0.2222222222222222,
              "#7201a8"
             ],
             [
              0.3333333333333333,
              "#9c179e"
             ],
             [
              0.4444444444444444,
              "#bd3786"
             ],
             [
              0.5555555555555556,
              "#d8576b"
             ],
             [
              0.6666666666666666,
              "#ed7953"
             ],
             [
              0.7777777777777778,
              "#fb9f3a"
             ],
             [
              0.8888888888888888,
              "#fdca26"
             ],
             [
              1,
              "#f0f921"
             ]
            ],
            "type": "histogram2dcontour"
           }
          ],
          "mesh3d": [
           {
            "colorbar": {
             "outlinewidth": 0,
             "ticks": ""
            },
            "type": "mesh3d"
           }
          ],
          "parcoords": [
           {
            "line": {
             "colorbar": {
              "outlinewidth": 0,
              "ticks": ""
             }
            },
            "type": "parcoords"
           }
          ],
          "pie": [
           {
            "automargin": true,
            "type": "pie"
           }
          ],
          "scatter": [
           {
            "fillpattern": {
             "fillmode": "overlay",
             "size": 10,
             "solidity": 0.2
            },
            "type": "scatter"
           }
          ],
          "scatter3d": [
           {
            "line": {
             "colorbar": {
              "outlinewidth": 0,
              "ticks": ""
             }
            },
            "marker": {
             "colorbar": {
              "outlinewidth": 0,
              "ticks": ""
             }
            },
            "type": "scatter3d"
           }
          ],
          "scattercarpet": [
           {
            "marker": {
             "colorbar": {
              "outlinewidth": 0,
              "ticks": ""
             }
            },
            "type": "scattercarpet"
           }
          ],
          "scattergeo": [
           {
            "marker": {
             "colorbar": {
              "outlinewidth": 0,
              "ticks": ""
             }
            },
            "type": "scattergeo"
           }
          ],
          "scattergl": [
           {
            "marker": {
             "colorbar": {
              "outlinewidth": 0,
              "ticks": ""
             }
            },
            "type": "scattergl"
           }
          ],
          "scattermapbox": [
           {
            "marker": {
             "colorbar": {
              "outlinewidth": 0,
              "ticks": ""
             }
            },
            "type": "scattermapbox"
           }
          ],
          "scatterpolar": [
           {
            "marker": {
             "colorbar": {
              "outlinewidth": 0,
              "ticks": ""
             }
            },
            "type": "scatterpolar"
           }
          ],
          "scatterpolargl": [
           {
            "marker": {
             "colorbar": {
              "outlinewidth": 0,
              "ticks": ""
             }
            },
            "type": "scatterpolargl"
           }
          ],
          "scatterternary": [
           {
            "marker": {
             "colorbar": {
              "outlinewidth": 0,
              "ticks": ""
             }
            },
            "type": "scatterternary"
           }
          ],
          "surface": [
           {
            "colorbar": {
             "outlinewidth": 0,
             "ticks": ""
            },
            "colorscale": [
             [
              0,
              "#0d0887"
             ],
             [
              0.1111111111111111,
              "#46039f"
             ],
             [
              0.2222222222222222,
              "#7201a8"
             ],
             [
              0.3333333333333333,
              "#9c179e"
             ],
             [
              0.4444444444444444,
              "#bd3786"
             ],
             [
              0.5555555555555556,
              "#d8576b"
             ],
             [
              0.6666666666666666,
              "#ed7953"
             ],
             [
              0.7777777777777778,
              "#fb9f3a"
             ],
             [
              0.8888888888888888,
              "#fdca26"
             ],
             [
              1,
              "#f0f921"
             ]
            ],
            "type": "surface"
           }
          ],
          "table": [
           {
            "cells": {
             "fill": {
              "color": "#EBF0F8"
             },
             "line": {
              "color": "white"
             }
            },
            "header": {
             "fill": {
              "color": "#C8D4E3"
             },
             "line": {
              "color": "white"
             }
            },
            "type": "table"
           }
          ]
         },
         "layout": {
          "annotationdefaults": {
           "arrowcolor": "#2a3f5f",
           "arrowhead": 0,
           "arrowwidth": 1
          },
          "autotypenumbers": "strict",
          "coloraxis": {
           "colorbar": {
            "outlinewidth": 0,
            "ticks": ""
           }
          },
          "colorscale": {
           "diverging": [
            [
             0,
             "#8e0152"
            ],
            [
             0.1,
             "#c51b7d"
            ],
            [
             0.2,
             "#de77ae"
            ],
            [
             0.3,
             "#f1b6da"
            ],
            [
             0.4,
             "#fde0ef"
            ],
            [
             0.5,
             "#f7f7f7"
            ],
            [
             0.6,
             "#e6f5d0"
            ],
            [
             0.7,
             "#b8e186"
            ],
            [
             0.8,
             "#7fbc41"
            ],
            [
             0.9,
             "#4d9221"
            ],
            [
             1,
             "#276419"
            ]
           ],
           "sequential": [
            [
             0,
             "#0d0887"
            ],
            [
             0.1111111111111111,
             "#46039f"
            ],
            [
             0.2222222222222222,
             "#7201a8"
            ],
            [
             0.3333333333333333,
             "#9c179e"
            ],
            [
             0.4444444444444444,
             "#bd3786"
            ],
            [
             0.5555555555555556,
             "#d8576b"
            ],
            [
             0.6666666666666666,
             "#ed7953"
            ],
            [
             0.7777777777777778,
             "#fb9f3a"
            ],
            [
             0.8888888888888888,
             "#fdca26"
            ],
            [
             1,
             "#f0f921"
            ]
           ],
           "sequentialminus": [
            [
             0,
             "#0d0887"
            ],
            [
             0.1111111111111111,
             "#46039f"
            ],
            [
             0.2222222222222222,
             "#7201a8"
            ],
            [
             0.3333333333333333,
             "#9c179e"
            ],
            [
             0.4444444444444444,
             "#bd3786"
            ],
            [
             0.5555555555555556,
             "#d8576b"
            ],
            [
             0.6666666666666666,
             "#ed7953"
            ],
            [
             0.7777777777777778,
             "#fb9f3a"
            ],
            [
             0.8888888888888888,
             "#fdca26"
            ],
            [
             1,
             "#f0f921"
            ]
           ]
          },
          "colorway": [
           "#636efa",
           "#EF553B",
           "#00cc96",
           "#ab63fa",
           "#FFA15A",
           "#19d3f3",
           "#FF6692",
           "#B6E880",
           "#FF97FF",
           "#FECB52"
          ],
          "font": {
           "color": "#2a3f5f"
          },
          "geo": {
           "bgcolor": "white",
           "lakecolor": "white",
           "landcolor": "#E5ECF6",
           "showlakes": true,
           "showland": true,
           "subunitcolor": "white"
          },
          "hoverlabel": {
           "align": "left"
          },
          "hovermode": "closest",
          "mapbox": {
           "style": "light"
          },
          "paper_bgcolor": "white",
          "plot_bgcolor": "#E5ECF6",
          "polar": {
           "angularaxis": {
            "gridcolor": "white",
            "linecolor": "white",
            "ticks": ""
           },
           "bgcolor": "#E5ECF6",
           "radialaxis": {
            "gridcolor": "white",
            "linecolor": "white",
            "ticks": ""
           }
          },
          "scene": {
           "xaxis": {
            "backgroundcolor": "#E5ECF6",
            "gridcolor": "white",
            "gridwidth": 2,
            "linecolor": "white",
            "showbackground": true,
            "ticks": "",
            "zerolinecolor": "white"
           },
           "yaxis": {
            "backgroundcolor": "#E5ECF6",
            "gridcolor": "white",
            "gridwidth": 2,
            "linecolor": "white",
            "showbackground": true,
            "ticks": "",
            "zerolinecolor": "white"
           },
           "zaxis": {
            "backgroundcolor": "#E5ECF6",
            "gridcolor": "white",
            "gridwidth": 2,
            "linecolor": "white",
            "showbackground": true,
            "ticks": "",
            "zerolinecolor": "white"
           }
          },
          "shapedefaults": {
           "line": {
            "color": "#2a3f5f"
           }
          },
          "ternary": {
           "aaxis": {
            "gridcolor": "white",
            "linecolor": "white",
            "ticks": ""
           },
           "baxis": {
            "gridcolor": "white",
            "linecolor": "white",
            "ticks": ""
           },
           "bgcolor": "#E5ECF6",
           "caxis": {
            "gridcolor": "white",
            "linecolor": "white",
            "ticks": ""
           }
          },
          "title": {
           "x": 0.05
          },
          "xaxis": {
           "automargin": true,
           "gridcolor": "white",
           "linecolor": "white",
           "ticks": "",
           "title": {
            "standoff": 15
           },
           "zerolinecolor": "white",
           "zerolinewidth": 2
          },
          "yaxis": {
           "automargin": true,
           "gridcolor": "white",
           "linecolor": "white",
           "ticks": "",
           "title": {
            "standoff": 15
           },
           "zerolinecolor": "white",
           "zerolinewidth": 2
          }
         }
        },
        "title": {
         "text": "Воронка событий с процентами шаг к шагу",
         "x": 0.53
        },
        "xaxis": {
         "autorange": true,
         "range": [
          -4121.666666666667,
          4121.666666666667
         ],
         "type": "linear"
        },
        "yaxis": {
         "autorange": true,
         "range": [
          3.5,
          -0.5
         ],
         "type": "category"
        }
       }
      },
      "image/png": "[encoded data removed]",
      "text/html": [
       "<div>                            <div id=\"0113a94c-e878-4fd5-951e-d5a0a4a59854\" class=\"plotly-graph-div\" style=\"height:525px; width:100%;\"></div>            <script type=\"text/javascript\">                require([\"plotly\"], function(Plotly) {                    window.PLOTLYENV=window.PLOTLYENV || {};                                    if (document.getElementById(\"0113a94c-e878-4fd5-951e-d5a0a4a59854\")) {                    Plotly.newPlot(                        \"0113a94c-e878-4fd5-951e-d5a0a4a59854\",                        [{\"connector\":{\"line\":{\"color\":\"royalblue\",\"dash\":\"dot\",\"width\":3}},\"marker\":{\"color\":[\"deepskyblue\",\"lightsalmon\",\"tan\",\"teal\",\"silver\"],\"line\":{\"color\":[\"wheat\",\"wheat\",\"blue\",\"wheat\",\"wheat\"],\"width\":[4,2,2,3,1,1]}},\"opacity\":0.65,\"textinfo\":\"value+percent previous\",\"textposition\":\"inside\",\"x\":[7419,4593,3734,3539],\"y\":[\"MainScreenAppear\",\"OffersScreenAppear\",\"CartScreenAppear\",\"PaymentScreenSuccessful\"],\"type\":\"funnel\"}],                        {\"template\":{\"data\":{\"histogram2dcontour\":[{\"type\":\"histogram2dcontour\",\"colorbar\":{\"outlinewidth\":0,\"ticks\":\"\"},\"colorscale\":[[0.0,\"#0d0887\"],[0.1111111111111111,\"#46039f\"],[0.2222222222222222,\"#7201a8\"],[0.3333333333333333,\"#9c179e\"],[0.4444444444444444,\"#bd3786\"],[0.5555555555555556,\"#d8576b\"],[0.6666666666666666,\"#ed7953\"],[0.7777777777777778,\"#fb9f3a\"],[0.8888888888888888,\"#fdca26\"],[1.0,\"#f0f921\"]]}],\"choropleth\":[{\"type\":\"choropleth\",\"colorbar\":{\"outlinewidth\":0,\"ticks\":\"\"}}],\"histogram2d\":[{\"type\":\"histogram2d\",\"colorbar\":{\"outlinewidth\":0,\"ticks\":\"\"},\"colorscale\":[[0.0,\"#0d0887\"],[0.1111111111111111,\"#46039f\"],[0.2222222222222222,\"#7201a8\"],[0.3333333333333333,\"#9c179e\"],[0.4444444444444444,\"#bd3786\"],[0.5555555555555556,\"#d8576b\"],[0.6666666666666666,\"#ed7953\"],[0.7777777777777778,\"#fb9f3a\"],[0.8888888888888888,\"#fdca26\"],[1.0,\"#f0f921\"]]}],\"heatmap\":[{\"type\":\"heatmap\",\"colorbar\":{\"outlinewidth\":0,\"ticks\":\"\"},\"colorscale\":[[0.0,\"#0d0887\"],[0.1111111111111111,\"#46039f\"],[0.2222222222222222,\"#7201a8\"],[0.3333333333333333,\"#9c179e\"],[0.4444444444444444,\"#bd3786\"],[0.5555555555555556,\"#d8576b\"],[0.6666666666666666,\"#ed7953\"],[0.7777777777777778,\"#fb9f3a\"],[0.8888888888888888,\"#fdca26\"],[1.0,\"#f0f921\"]]}],\"heatmapgl\":[{\"type\":\"heatmapgl\",\"colorbar\":{\"outlinewidth\":0,\"ticks\":\"\"},\"colorscale\":[[0.0,\"#0d0887\"],[0.1111111111111111,\"#46039f\"],[0.2222222222222222,\"#7201a8\"],[0.3333333333333333,\"#9c179e\"],[0.4444444444444444,\"#bd3786\"],[0.5555555555555556,\"#d8576b\"],[0.6666666666666666,\"#ed7953\"],[0.7777777777777778,\"#fb9f3a\"],[0.8888888888888888,\"#fdca26\"],[1.0,\"#f0f921\"]]}],\"contourcarpet\":[{\"type\":\"contourcarpet\",\"colorbar\":{\"outlinewidth\":0,\"ticks\":\"\"}}],\"contour\":[{\"type\":\"contour\",\"colorbar\":{\"outlinewidth\":0,\"ticks\":\"\"},\"colorscale\":[[0.0,\"#0d0887\"],[0.1111111111111111,\"#46039f\"],[0.2222222222222222,\"#7201a8\"],[0.3333333333333333,\"#9c179e\"],[0.4444444444444444,\"#bd3786\"],[0.5555555555555556,\"#d8576b\"],[0.6666666666666666,\"#ed7953\"],[0.7777777777777778,\"#fb9f3a\"],[0.8888888888888888,\"#fdca26\"],[1.0,\"#f0f921\"]]}],\"surface\":[{\"type\":\"surface\",\"colorbar\":{\"outlinewidth\":0,\"ticks\":\"\"},\"colorscale\":[[0.0,\"#0d0887\"],[0.1111111111111111,\"#46039f\"],[0.2222222222222222,\"#7201a8\"],[0.3333333333333333,\"#9c179e\"],[0.4444444444444444,\"#bd3786\"],[0.5555555555555556,\"#d8576b\"],[0.6666666666666666,\"#ed7953\"],[0.7777777777777778,\"#fb9f3a\"],[0.8888888888888888,\"#fdca26\"],[1.0,\"#f0f921\"]]}],\"mesh3d\":[{\"type\":\"mesh3d\",\"colorbar\":{\"outlinewidth\":0,\"ticks\":\"\"}}],\"scatter\":[{\"fillpattern\":{\"fillmode\":\"overlay\",\"size\":10,\"solidity\":0.2},\"type\":\"scatter\"}],\"parcoords\":[{\"type\":\"parcoords\",\"line\":{\"colorbar\":{\"outlinewidth\":0,\"ticks\":\"\"}}}],\"scatterpolargl\":[{\"type\":\"scatterpolargl\",\"marker\":{\"colorbar\":{\"outlinewidth\":0,\"ticks\":\"\"}}}],\"bar\":[{\"error_x\":{\"color\":\"#2a3f5f\"},\"error_y\":{\"color\":\"#2a3f5f\"},\"marker\":{\"line\":{\"color\":\"#E5ECF6\",\"width\":0.5},\"pattern\":{\"fillmode\":\"overlay\",\"size\":10,\"solidity\":0.2}},\"type\":\"bar\"}],\"scattergeo\":[{\"type\":\"scattergeo\",\"marker\":{\"colorbar\":{\"outlinewidth\":0,\"ticks\":\"\"}}}],\"scatterpolar\":[{\"type\":\"scatterpolar\",\"marker\":{\"colorbar\":{\"outlinewidth\":0,\"ticks\":\"\"}}}],\"histogram\":[{\"marker\":{\"pattern\":{\"fillmode\":\"overlay\",\"size\":10,\"solidity\":0.2}},\"type\":\"histogram\"}],\"scattergl\":[{\"type\":\"scattergl\",\"marker\":{\"colorbar\":{\"outlinewidth\":0,\"ticks\":\"\"}}}],\"scatter3d\":[{\"type\":\"scatter3d\",\"line\":{\"colorbar\":{\"outlinewidth\":0,\"ticks\":\"\"}},\"marker\":{\"colorbar\":{\"outlinewidth\":0,\"ticks\":\"\"}}}],\"scattermapbox\":[{\"type\":\"scattermapbox\",\"marker\":{\"colorbar\":{\"outlinewidth\":0,\"ticks\":\"\"}}}],\"scatterternary\":[{\"type\":\"scatterternary\",\"marker\":{\"colorbar\":{\"outlinewidth\":0,\"ticks\":\"\"}}}],\"scattercarpet\":[{\"type\":\"scattercarpet\",\"marker\":{\"colorbar\":{\"outlinewidth\":0,\"ticks\":\"\"}}}],\"carpet\":[{\"aaxis\":{\"endlinecolor\":\"#2a3f5f\",\"gridcolor\":\"white\",\"linecolor\":\"white\",\"minorgridcolor\":\"white\",\"startlinecolor\":\"#2a3f5f\"},\"baxis\":{\"endlinecolor\":\"#2a3f5f\",\"gridcolor\":\"white\",\"linecolor\":\"white\",\"minorgridcolor\":\"white\",\"startlinecolor\":\"#2a3f5f\"},\"type\":\"carpet\"}],\"table\":[{\"cells\":{\"fill\":{\"color\":\"#EBF0F8\"},\"line\":{\"color\":\"white\"}},\"header\":{\"fill\":{\"color\":\"#C8D4E3\"},\"line\":{\"color\":\"white\"}},\"type\":\"table\"}],\"barpolar\":[{\"marker\":{\"line\":{\"color\":\"#E5ECF6\",\"width\":0.5},\"pattern\":{\"fillmode\":\"overlay\",\"size\":10,\"solidity\":0.2}},\"type\":\"barpolar\"}],\"pie\":[{\"automargin\":true,\"type\":\"pie\"}]},\"layout\":{\"autotypenumbers\":\"strict\",\"colorway\":[\"#636efa\",\"#EF553B\",\"#00cc96\",\"#ab63fa\",\"#FFA15A\",\"#19d3f3\",\"#FF6692\",\"#B6E880\",\"#FF97FF\",\"#FECB52\"],\"font\":{\"color\":\"#2a3f5f\"},\"hovermode\":\"closest\",\"hoverlabel\":{\"align\":\"left\"},\"paper_bgcolor\":\"white\",\"plot_bgcolor\":\"#E5ECF6\",\"polar\":{\"bgcolor\":\"#E5ECF6\",\"angularaxis\":{\"gridcolor\":\"white\",\"linecolor\":\"white\",\"ticks\":\"\"},\"radialaxis\":{\"gridcolor\":\"white\",\"linecolor\":\"white\",\"ticks\":\"\"}},\"ternary\":{\"bgcolor\":\"#E5ECF6\",\"aaxis\":{\"gridcolor\":\"white\",\"linecolor\":\"white\",\"ticks\":\"\"},\"baxis\":{\"gridcolor\":\"white\",\"linecolor\":\"white\",\"ticks\":\"\"},\"caxis\":{\"gridcolor\":\"white\",\"linecolor\":\"white\",\"ticks\":\"\"}},\"coloraxis\":{\"colorbar\":{\"outlinewidth\":0,\"ticks\":\"\"}},\"colorscale\":{\"sequential\":[[0.0,\"#0d0887\"],[0.1111111111111111,\"#46039f\"],[0.2222222222222222,\"#7201a8\"],[0.3333333333333333,\"#9c179e\"],[0.4444444444444444,\"#bd3786\"],[0.5555555555555556,\"#d8576b\"],[0.6666666666666666,\"#ed7953\"],[0.7777777777777778,\"#fb9f3a\"],[0.8888888888888888,\"#fdca26\"],[1.0,\"#f0f921\"]],\"sequentialminus\":[[0.0,\"#0d0887\"],[0.1111111111111111,\"#46039f\"],[0.2222222222222222,\"#7201a8\"],[0.3333333333333333,\"#9c179e\"],[0.4444444444444444,\"#bd3786\"],[0.5555555555555556,\"#d8576b\"],[0.6666666666666666,\"#ed7953\"],[0.7777777777777778,\"#fb9f3a\"],[0.8888888888888888,\"#fdca26\"],[1.0,\"#f0f921\"]],\"diverging\":[[0,\"#8e0152\"],[0.1,\"#c51b7d\"],[0.2,\"#de77ae\"],[0.3,\"#f1b6da\"],[0.4,\"#fde0ef\"],[0.5,\"#f7f7f7\"],[0.6,\"#e6f5d0\"],[0.7,\"#b8e186\"],[0.8,\"#7fbc41\"],[0.9,\"#4d9221\"],[1,\"#276419\"]]},\"xaxis\":{\"gridcolor\":\"white\",\"linecolor\":\"white\",\"ticks\":\"\",\"title\":{\"standoff\":15},\"zerolinecolor\":\"white\",\"automargin\":true,\"zerolinewidth\":2},\"yaxis\":{\"gridcolor\":\"white\",\"linecolor\":\"white\",\"ticks\":\"\",\"title\":{\"standoff\":15},\"zerolinecolor\":\"white\",\"automargin\":true,\"zerolinewidth\":2},\"scene\":{\"xaxis\":{\"backgroundcolor\":\"#E5ECF6\",\"gridcolor\":\"white\",\"linecolor\":\"white\",\"showbackground\":true,\"ticks\":\"\",\"zerolinecolor\":\"white\",\"gridwidth\":2},\"yaxis\":{\"backgroundcolor\":\"#E5ECF6\",\"gridcolor\":\"white\",\"linecolor\":\"white\",\"showbackground\":true,\"ticks\":\"\",\"zerolinecolor\":\"white\",\"gridwidth\":2},\"zaxis\":{\"backgroundcolor\":\"#E5ECF6\",\"gridcolor\":\"white\",\"linecolor\":\"white\",\"showbackground\":true,\"ticks\":\"\",\"zerolinecolor\":\"white\",\"gridwidth\":2}},\"shapedefaults\":{\"line\":{\"color\":\"#2a3f5f\"}},\"annotationdefaults\":{\"arrowcolor\":\"#2a3f5f\",\"arrowhead\":0,\"arrowwidth\":1},\"geo\":{\"bgcolor\":\"white\",\"landcolor\":\"#E5ECF6\",\"subunitcolor\":\"white\",\"showland\":true,\"showlakes\":true,\"lakecolor\":\"white\"},\"title\":{\"x\":0.05},\"mapbox\":{\"style\":\"light\"}}},\"title\":{\"text\":\"\\u0412\\u043e\\u0440\\u043e\\u043d\\u043a\\u0430 \\u0441\\u043e\\u0431\\u044b\\u0442\\u0438\\u0439 \\u0441 \\u043f\\u0440\\u043e\\u0446\\u0435\\u043d\\u0442\\u0430\\u043c\\u0438 \\u0448\\u0430\\u0433 \\u043a \\u0448\\u0430\\u0433\\u0443\",\"x\":0.53}},                        {\"responsive\": true}                    ).then(function(){\n",
       "                            \n",
       "var gd = document.getElementById('0113a94c-e878-4fd5-951e-d5a0a4a59854');\n",
       "var x = new MutationObserver(function (mutations, observer) {{\n",
       "        var display = window.getComputedStyle(gd).display;\n",
       "        if (!display || display === 'none') {{\n",
       "            console.log([gd, 'removed!']);\n",
       "            Plotly.purge(gd);\n",
       "            observer.disconnect();\n",
       "        }}\n",
       "}});\n",
       "\n",
       "// Listen for the removal of the full notebook cells\n",
       "var notebookContainer = gd.closest('#notebook-container');\n",
       "if (notebookContainer) {{\n",
       "    x.observe(notebookContainer, {childList: true});\n",
       "}}\n",
       "\n",
       "// Listen for the clearing of the current output cell\n",
       "var outputEl = gd.closest('.output');\n",
       "if (outputEl) {{\n",
       "    x.observe(outputEl, {childList: true});\n",
       "}}\n",
       "\n",
       "                        })                };                });            </script>        </div>"
      ]
     },
     "metadata": {},
     "output_type": "display_data"
    }
   ],
   "source": [
    "# воронка с процентами шаг к шагу\n",
    "fig = go.Figure(go.Funnel(\n",
    "    y = event_name,\n",
    "    x = event_value,\n",
    "    textposition = \"inside\",\n",
    "    textinfo = \"value+percent previous\",\n",
    "    opacity = 0.65, marker = {\"color\": [\"deepskyblue\", \"lightsalmon\", \"tan\", \"teal\", \"silver\"],\n",
    "    \"line\": {\"width\": [4, 2, 2, 3, 1, 1], \"color\": [\"wheat\", \"wheat\", \"blue\", \"wheat\", \"wheat\"]}},\n",
    "    connector = {\"line\": {\"color\": \"royalblue\", \"dash\": \"dot\", \"width\": 3}})\n",
    "    )\n",
    "\n",
    "fig.update_layout(title=\"Воронка событий с процентами шаг к шагу\", title_x=0.53)\n",
    "\n",
    "fig.show()"
   ]
  },
  {
   "cell_type": "markdown",
   "id": "2b935ad8-9fc9-4d7f-b2a1-49fdf56e7b73",
   "metadata": {},
   "source": [
    "*Больше всего пользователей теряется на этапе перехода от события с главным экраном* **\"MainScreenAppear\"** на событие **\"OffersScreenAppear\"**, *связанное с выбором товаров.*"
   ]
  },
  {
   "cell_type": "code",
   "execution_count": 40,
   "id": "ada9f34d-9e48-4e86-b9a0-9e7c0eb731f3",
   "metadata": {},
   "outputs": [
    {
     "name": "stdout",
     "output_type": "stream",
     "text": [
      "Доля пользователей, дошедших до последнего события составляет 47.0%\n"
     ]
    }
   ],
   "source": [
    "# посчитаем долю пользователей, прошедших от первого экрана до покупки\n",
    "top_users = conversion.loc[3, 'users_unique'] / data_full['device_id_hash'].nunique()\n",
    "print(f'Доля пользователей, дошедших до последнего события составляет {top_users:.1%}')"
   ]
  },
  {
   "cell_type": "markdown",
   "id": "e4760223-8e3c-4fe5-8230-fbe21b262aa3",
   "metadata": {},
   "source": [
    "**ВЫВОД 4**\n",
    "\n",
    "В данном разделе мы выяснили, что всего событий 5:\n",
    "\n",
    "1. Основной экран **MainScreenAppear** - частота 117328, количество пользователей 7419, доля 0.984736\n",
    "2. Экран с товарами **OffersScreenAppear** - частота 46333, количество пользователей 4593, доля 0.609636\n",
    "3. Корзина **CartScreenAppear** - частота 42303, количество пользователей 3734, доля 0.495620\n",
    "4. Успешная оплата **PaymentScreenSuccessful** - частота 33918, количество пользователей 3539, доля 0.469737\n",
    "5. Инструкция **Tutorial** - частота 1005, количество пользователей 840, доля 0.111495\n",
    "\n",
    "На основании воронки было сделано предположение о том, что первые четыре события расположены в логичном порядке пути пользователя до покупки. Пятое событие-инструкцию **\"Tutorial\" решено исключить**, так как его частота чрезвычайно мала, а расположение не соответствует хронологии.\n",
    "\n",
    "**Итог**\n",
    "\n",
    "**Рассчет конверсии пользователей в шаг позволил выявить проблемное событие, на котором теряется больше всего пользователей.** Это событие **\"OffersScreenAppear\"**. Конверсия перехода на данное событие после главного экрана составляет чуть менее 62%, тогда, как на последующих этапах сохраняется не менее 80%. *Стоит обратить внимание на событие c главным экраном* **\"MainScreenAppear\"**, *так как, вероятнее всего именно на нем пользователей что-то смущает и он не переходит на экран с товарами.*\n",
    "\n",
    "Конверсия пользователей, дошедших от первого события с главным экраном до последнего события и совершивих покупку составляет 47%, что является достаточно неплохим показателем в отрыве от иных метрик."
   ]
  },
  {
   "cell_type": "markdown",
   "id": "7f5e5dcc-6292-42b6-a73a-f00c018d9b4f",
   "metadata": {},
   "source": [
    "<a class='anchor' id='5-bullet'></a>\n",
    "## Проведем эксперимент и изучим результаты"
   ]
  },
  {
   "cell_type": "markdown",
   "id": "146c86b3-148b-42e6-844d-0bc62742ee83",
   "metadata": {},
   "source": [
    "Мы уже визуализировали данные о количестве пользователей по группам. \n",
    "\n",
    "Выведем повторно количество уникальных пользователей по трем группам - 246 и 247 - контрольные, и 248 - экспериментальная."
   ]
  },
  {
   "cell_type": "code",
   "execution_count": 41,
   "id": "dd8e915f-ebfd-41be-ba5b-e85759fe9c21",
   "metadata": {},
   "outputs": [
    {
     "data": {
      "text/plain": [
       "exp_id\n",
       "246    2484\n",
       "247    2513\n",
       "248    2537\n",
       "Name: device_id_hash, dtype: int64"
      ]
     },
     "execution_count": 41,
     "metadata": {},
     "output_type": "execute_result"
    }
   ],
   "source": [
    "# Выведем количество уникальных пользователей по группам\n",
    "data_full.groupby('exp_id')['device_id_hash'].nunique()"
   ]
  },
  {
   "cell_type": "markdown",
   "id": "1984c7ee-0c0c-46d0-8007-395f24defce9",
   "metadata": {},
   "source": [
    "Теперь приступим к созданию функции для проведения A/A-эксперимента."
   ]
  },
  {
   "cell_type": "markdown",
   "id": "d1175dd9-7fbf-40a5-a477-d9da71bd250d",
   "metadata": {},
   "source": [
    "### Проверим разницу между контрольными выборками 246 и 247"
   ]
  },
  {
   "cell_type": "markdown",
   "id": "893a3996-765e-40ec-a379-182c130d6d8e",
   "metadata": {},
   "source": [
    "Для начала сформулируем гипотезы:\n",
    "\n",
    "* **Нулевая гипотеза H0** - Конверсии двух контрольных групп 246 и 247 не различимы на всех этапах пути пользователя от посещения приложения до совершения покупки.\n",
    "* **Альтернативная гипотеза H1** - Конверсии двух контрольных групп 246 и 247 различны, то есть доли пользователей на одних и тех же этапах в двух группах различны."
   ]
  },
  {
   "cell_type": "code",
   "execution_count": 42,
   "id": "24f85d3c-86ce-425c-9048-f79b2530c357",
   "metadata": {},
   "outputs": [],
   "source": [
    "alpha = 0.05\n",
    "\n",
    "# зададим функцию для статистической проверки разницы между группами по каждому событию в воронке\n",
    "def a_a_test(event, group_1, group_2, alpha):\n",
    "    \n",
    "    # Количество пользователей в каждой группе\n",
    "    users_cnt_gr1 = group_1['device_id_hash'].nunique()\n",
    "    users_cnt_gr2 = group_2['device_id_hash'].nunique()\n",
    "    \n",
    "    # Количество пользователей по событиям\n",
    "    ev_users_gr1 = group_1[group_1['event_name'] == event]['device_id_hash'].nunique()\n",
    "    ev_users_gr2 = group_2[group_2['event_name'] == event]['device_id_hash'].nunique()\n",
    "    \n",
    "    # Доля пользователей, совершивших событие\n",
    "    conversion_gr1 = ev_users_gr1 / users_cnt_gr1\n",
    "    conversion_gr2 = ev_users_gr2 / users_cnt_gr2\n",
    "    \n",
    "    # Статистическая проверка разницы пропорций между группами\n",
    "    count = np.array([ev_users_gr1, ev_users_gr2])\n",
    "    nobs = np.array([users_cnt_gr1, users_cnt_gr2])\n",
    "    z_stat, p_value = proportions_ztest(count, nobs)\n",
    "\n",
    "    res = p_value < alpha\n",
    "    \n",
    "    return {\n",
    "        'event': event,\n",
    "        'conversion_group1': conversion_gr1,\n",
    "        'conversion_group2': conversion_gr2,\n",
    "        'p_value': p_value,\n",
    "        'res': res\n",
    "    }"
   ]
  },
  {
   "cell_type": "code",
   "execution_count": 43,
   "id": "7005aaa6-56c3-4014-bdc4-a4bd20e5ccf7",
   "metadata": {},
   "outputs": [
    {
     "name": "stdout",
     "output_type": "stream",
     "text": [
      "Пара групп 246 vs 247\n"
     ]
    },
    {
     "data": {
      "text/html": [
       "<div>\n",
       "<style scoped>\n",
       "    .dataframe tbody tr th:only-of-type {\n",
       "        vertical-align: middle;\n",
       "    }\n",
       "\n",
       "    .dataframe tbody tr th {\n",
       "        vertical-align: top;\n",
       "    }\n",
       "\n",
       "    .dataframe thead th {\n",
       "        text-align: right;\n",
       "    }\n",
       "</style>\n",
       "<table border=\"1\" class=\"dataframe\">\n",
       "  <thead>\n",
       "    <tr style=\"text-align: right;\">\n",
       "      <th></th>\n",
       "      <th>event</th>\n",
       "      <th>conversion_group1</th>\n",
       "      <th>conversion_group2</th>\n",
       "      <th>p_value</th>\n",
       "      <th>res</th>\n",
       "    </tr>\n",
       "  </thead>\n",
       "  <tbody>\n",
       "    <tr>\n",
       "      <th>0</th>\n",
       "      <td>MainScreenAppear</td>\n",
       "      <td>0.986312</td>\n",
       "      <td>0.985277</td>\n",
       "      <td>0.757060</td>\n",
       "      <td>False</td>\n",
       "    </tr>\n",
       "    <tr>\n",
       "      <th>1</th>\n",
       "      <td>OffersScreenAppear</td>\n",
       "      <td>0.620773</td>\n",
       "      <td>0.604855</td>\n",
       "      <td>0.248095</td>\n",
       "      <td>False</td>\n",
       "    </tr>\n",
       "    <tr>\n",
       "      <th>2</th>\n",
       "      <td>CartScreenAppear</td>\n",
       "      <td>0.509662</td>\n",
       "      <td>0.492638</td>\n",
       "      <td>0.228834</td>\n",
       "      <td>False</td>\n",
       "    </tr>\n",
       "    <tr>\n",
       "      <th>3</th>\n",
       "      <td>PaymentScreenSuccessful</td>\n",
       "      <td>0.483092</td>\n",
       "      <td>0.460804</td>\n",
       "      <td>0.114567</td>\n",
       "      <td>False</td>\n",
       "    </tr>\n",
       "  </tbody>\n",
       "</table>\n",
       "</div>"
      ],
      "text/plain": [
       "                     event  conversion_group1  conversion_group2   p_value  \\\n",
       "0         MainScreenAppear           0.986312           0.985277  0.757060   \n",
       "1       OffersScreenAppear           0.620773           0.604855  0.248095   \n",
       "2         CartScreenAppear           0.509662           0.492638  0.228834   \n",
       "3  PaymentScreenSuccessful           0.483092           0.460804  0.114567   \n",
       "\n",
       "     res  \n",
       "0  False  \n",
       "1  False  \n",
       "2  False  \n",
       "3  False  "
      ]
     },
     "execution_count": 43,
     "metadata": {},
     "output_type": "execute_result"
    }
   ],
   "source": [
    "# разделим данные на 3 датафрейма для 3 групп\n",
    "group_246 = data_full[data_full['exp_id'] == 246]\n",
    "group_247 = data_full[data_full['exp_id'] == 247]\n",
    "group_248 = data_full[data_full['exp_id'] == 248]\n",
    "\n",
    "# проверим разницу для событий в воронке\n",
    "groups_246_247 = []\n",
    "for i in event_name:\n",
    "    groups_246_247.append(a_a_test(i, group_246, group_247, alpha))\n",
    "\n",
    "# преобразуем резльтат работы функции в датафрейм\n",
    "groups_246_247 = pd.DataFrame(groups_246_247)\n",
    "\n",
    "print('Пара групп 246 vs 247')\n",
    "groups_246_247"
   ]
  },
  {
   "cell_type": "markdown",
   "id": "eec8aaec-c9e3-4605-8be5-3f3d5b0ade89",
   "metadata": {},
   "source": [
    "**На первый взгляд конверсии двух контрольных групп идентичны.**\n",
    "\n",
    "Визуализируем конверсии на графике."
   ]
  },
  {
   "cell_type": "code",
   "execution_count": 44,
   "id": "e8886bfa-6d40-42e3-a064-a6d8c2ef7c53",
   "metadata": {},
   "outputs": [
    {
     "data": {
      "image/png": "[encoded data removed]",
      "text/plain": [
       "<Figure size 1000x500 with 1 Axes>"
      ]
     },
     "metadata": {},
     "output_type": "display_data"
    }
   ],
   "source": [
    "# построим график конверсии для групп 246 и 247\n",
    "plt.figure(figsize=(10, 5))\n",
    "\n",
    "plt.plot(groups_246_247['event'], groups_246_247['conversion_group1'], marker='o', label='Группа 246')\n",
    "plt.plot(groups_246_247['event'], groups_246_247['conversion_group2'], marker='o', label='Группа 247')\n",
    "\n",
    "plt.grid(True)\n",
    "plt.xlabel('Событие')\n",
    "plt.ylabel('Конверсия')\n",
    "plt.title('Конверсия для каждого события в воронке в группах 246 и 247')\n",
    "plt.legend()\n",
    "plt.xticks(rotation=45)\n",
    "\n",
    "plt.show()"
   ]
  },
  {
   "cell_type": "markdown",
   "id": "3c2c4522-01dd-4980-915f-5d0625b823ed",
   "metadata": {},
   "source": [
    "*Вывод 5.1*\n",
    "\n",
    "В датафрейме \"test_a_a\" собраны значения конверсии по группам 246 и 247 для каждого события, а также значения p-value.\n",
    "На графике конверсии видно, что конверсия группы 246 немного выше конверсии группы 247. Однако тест пропорций показал, что минимальный p-value, принадлежащий событию \"PaymentScreenSuccessful\" равен 0.11. Данное значение превышает уровень статистической значимости, равный 0.05.\n",
    "\n",
    "*Итог*\n",
    "\n",
    "**Нулевая гипотеза H0 о равенстве конверсий групп 246 и 247 не отвергнута, так как статистически значимых различий нет. Конверсии этих групп равны.**"
   ]
  },
  {
   "cell_type": "markdown",
   "id": "9fa728d6-2599-451d-ac81-fe5957f3f8e1",
   "metadata": {},
   "source": [
    "### Проведем A/A/B тест"
   ]
  },
  {
   "cell_type": "code",
   "execution_count": 45,
   "id": "8e25d764-c4ef-496a-bf76-107e34876d39",
   "metadata": {},
   "outputs": [
    {
     "name": "stdout",
     "output_type": "stream",
     "text": [
      "Самое популярное событие MainScreenAppear\n"
     ]
    }
   ],
   "source": [
    "# определим и выведем самое популярное событие\n",
    "most_pop_event = conversion.loc[conversion['cnt_events'] == max(conversion['cnt_events']), 'event_name'][0]\n",
    "print(f'Самое популярное событие {most_pop_event}')"
   ]
  },
  {
   "cell_type": "code",
   "execution_count": 46,
   "id": "0f1b4023-7e3d-47ab-a7c6-7a5b79238bdc",
   "metadata": {},
   "outputs": [
    {
     "name": "stdout",
     "output_type": "stream",
     "text": [
      "Количество пользователей, совершивших самое популярное событие в группе 246 равно 2450\n",
      "Количество пользователей, совершивших самое популярное событие в группе 247 равно 2476\n"
     ]
    }
   ],
   "source": [
    "# выведем число пользователей в контрольных группах 246 и 247, совершивших самые популярные события\n",
    "most_pop_event_246 = group_246.loc[group_246['event_name'] == most_pop_event, 'device_id_hash'].nunique()\n",
    "most_pop_event_247 = group_247.loc[group_247['event_name'] == most_pop_event, 'device_id_hash'].nunique()\n",
    "\n",
    "print(f'Количество пользователей, совершивших самое популярное событие в группе 246 равно {most_pop_event_246}')\n",
    "print(f'Количество пользователей, совершивших самое популярное событие в группе 247 равно {most_pop_event_247}')"
   ]
  },
  {
   "cell_type": "code",
   "execution_count": 47,
   "id": "255df851-80bf-4ec4-8083-bb2152c5c2cc",
   "metadata": {},
   "outputs": [
    {
     "name": "stdout",
     "output_type": "stream",
     "text": [
      "Доля пользователей совершивших самое популярное событие в группе 246 0.98631\n",
      "Доля пользователей совершивших самое популярное событие в группе 247 0.98528\n"
     ]
    }
   ],
   "source": [
    "# рассчитаем долю этих пользователей\n",
    "most_pop_event_ratio_246 = np.round(most_pop_event_246 / group_246['device_id_hash'].nunique(), 5)\n",
    "most_pop_event_ratio_247 = np.round(most_pop_event_247 / group_247['device_id_hash'].nunique(), 5)\n",
    "\n",
    "print(f'Доля пользователей совершивших самое популярное событие в группе 246 {most_pop_event_ratio_246}')\n",
    "print(f'Доля пользователей совершивших самое популярное событие в группе 247 {most_pop_event_ratio_247}')"
   ]
  },
  {
   "cell_type": "code",
   "execution_count": 48,
   "id": "5d84ad45-83e4-4e32-a962-bb1ba4d52d4e",
   "metadata": {},
   "outputs": [
    {
     "data": {
      "text/html": [
       "<div>\n",
       "<style scoped>\n",
       "    .dataframe tbody tr th:only-of-type {\n",
       "        vertical-align: middle;\n",
       "    }\n",
       "\n",
       "    .dataframe tbody tr th {\n",
       "        vertical-align: top;\n",
       "    }\n",
       "\n",
       "    .dataframe thead th {\n",
       "        text-align: right;\n",
       "    }\n",
       "</style>\n",
       "<table border=\"1\" class=\"dataframe\">\n",
       "  <thead>\n",
       "    <tr style=\"text-align: right;\">\n",
       "      <th></th>\n",
       "      <th>event</th>\n",
       "      <th>conversion_group1</th>\n",
       "      <th>conversion_group2</th>\n",
       "      <th>p_value</th>\n",
       "      <th>res</th>\n",
       "    </tr>\n",
       "  </thead>\n",
       "  <tbody>\n",
       "    <tr>\n",
       "      <th>0</th>\n",
       "      <td>MainScreenAppear</td>\n",
       "      <td>0.986312</td>\n",
       "      <td>0.985277</td>\n",
       "      <td>0.75706</td>\n",
       "      <td>False</td>\n",
       "    </tr>\n",
       "  </tbody>\n",
       "</table>\n",
       "</div>"
      ],
      "text/plain": [
       "              event  conversion_group1  conversion_group2  p_value    res\n",
       "0  MainScreenAppear           0.986312           0.985277  0.75706  False"
      ]
     },
     "execution_count": 48,
     "metadata": {},
     "output_type": "execute_result"
    }
   ],
   "source": [
    "# проверим разницу для самого популярного события между контрольными группами\n",
    "most_popular_event_result = a_a_test(most_pop_event, group_246, group_247, alpha)\n",
    "\n",
    "most_popular_event_result = pd.DataFrame([most_popular_event_result])\n",
    "# выведем датафрейм для самого популярного события\n",
    "most_popular_event_result"
   ]
  },
  {
   "cell_type": "markdown",
   "id": "2abc3e88-b476-43a7-b208-13946d02ea59",
   "metadata": {},
   "source": [
    "**Статистически значимых различий нет.**"
   ]
  },
  {
   "cell_type": "markdown",
   "id": "cfe99d8a-369a-49ba-b6e9-516df2018f1e",
   "metadata": {},
   "source": [
    "#### Проверка групп 246vs248 и 247vs248"
   ]
  },
  {
   "cell_type": "markdown",
   "id": "c7ef679a-b790-404d-a048-4f715900a834",
   "metadata": {},
   "source": [
    "Теперь проверим различия для каждой пары из 3 групп (246, 247 и 248).\n",
    "\n",
    "Сформулируем две новые пары гипотез.\n",
    "\n",
    "1. *Гипотеза пары 246 vs 248*\n",
    "\n",
    "* **H0 - Конверсии двух групп 246 и 248 одинаковы.**\n",
    "* **H1 - Конверсии двух групп 246 и 248 различны.**\n",
    "\n",
    "2. *Гипотеза пары 247 vs 248*\n",
    "\n",
    "* **H0 - Конверсии двух групп 247 и 248 одинаковы.**\n",
    "* **H1 - Конверсии двух групп 247 и 248 различны.**"
   ]
  },
  {
   "cell_type": "code",
   "execution_count": 49,
   "id": "bea5d46f-7116-4818-9674-4c9329863fc0",
   "metadata": {},
   "outputs": [
    {
     "name": "stdout",
     "output_type": "stream",
     "text": [
      "Пара групп 246 VS 248\n"
     ]
    },
    {
     "data": {
      "text/html": [
       "<div>\n",
       "<style scoped>\n",
       "    .dataframe tbody tr th:only-of-type {\n",
       "        vertical-align: middle;\n",
       "    }\n",
       "\n",
       "    .dataframe tbody tr th {\n",
       "        vertical-align: top;\n",
       "    }\n",
       "\n",
       "    .dataframe thead th {\n",
       "        text-align: right;\n",
       "    }\n",
       "</style>\n",
       "<table border=\"1\" class=\"dataframe\">\n",
       "  <thead>\n",
       "    <tr style=\"text-align: right;\">\n",
       "      <th></th>\n",
       "      <th>event</th>\n",
       "      <th>conversion_group1</th>\n",
       "      <th>conversion_group2</th>\n",
       "      <th>p_value</th>\n",
       "      <th>res</th>\n",
       "    </tr>\n",
       "  </thead>\n",
       "  <tbody>\n",
       "    <tr>\n",
       "      <th>0</th>\n",
       "      <td>MainScreenAppear</td>\n",
       "      <td>0.986312</td>\n",
       "      <td>0.982657</td>\n",
       "      <td>0.294972</td>\n",
       "      <td>False</td>\n",
       "    </tr>\n",
       "    <tr>\n",
       "      <th>1</th>\n",
       "      <td>OffersScreenAppear</td>\n",
       "      <td>0.620773</td>\n",
       "      <td>0.603469</td>\n",
       "      <td>0.208362</td>\n",
       "      <td>False</td>\n",
       "    </tr>\n",
       "    <tr>\n",
       "      <th>2</th>\n",
       "      <td>CartScreenAppear</td>\n",
       "      <td>0.509662</td>\n",
       "      <td>0.484825</td>\n",
       "      <td>0.078429</td>\n",
       "      <td>False</td>\n",
       "    </tr>\n",
       "    <tr>\n",
       "      <th>3</th>\n",
       "      <td>PaymentScreenSuccessful</td>\n",
       "      <td>0.483092</td>\n",
       "      <td>0.465510</td>\n",
       "      <td>0.212255</td>\n",
       "      <td>False</td>\n",
       "    </tr>\n",
       "  </tbody>\n",
       "</table>\n",
       "</div>"
      ],
      "text/plain": [
       "                     event  conversion_group1  conversion_group2   p_value  \\\n",
       "0         MainScreenAppear           0.986312           0.982657  0.294972   \n",
       "1       OffersScreenAppear           0.620773           0.603469  0.208362   \n",
       "2         CartScreenAppear           0.509662           0.484825  0.078429   \n",
       "3  PaymentScreenSuccessful           0.483092           0.465510  0.212255   \n",
       "\n",
       "     res  \n",
       "0  False  \n",
       "1  False  \n",
       "2  False  \n",
       "3  False  "
      ]
     },
     "metadata": {},
     "output_type": "display_data"
    },
    {
     "data": {
      "image/png": "[encoded data removed]",
      "text/plain": [
       "<Figure size 600x300 with 1 Axes>"
      ]
     },
     "metadata": {},
     "output_type": "display_data"
    },
    {
     "name": "stdout",
     "output_type": "stream",
     "text": [
      "Пара групп 247 VS 248\n"
     ]
    },
    {
     "data": {
      "text/html": [
       "<div>\n",
       "<style scoped>\n",
       "    .dataframe tbody tr th:only-of-type {\n",
       "        vertical-align: middle;\n",
       "    }\n",
       "\n",
       "    .dataframe tbody tr th {\n",
       "        vertical-align: top;\n",
       "    }\n",
       "\n",
       "    .dataframe thead th {\n",
       "        text-align: right;\n",
       "    }\n",
       "</style>\n",
       "<table border=\"1\" class=\"dataframe\">\n",
       "  <thead>\n",
       "    <tr style=\"text-align: right;\">\n",
       "      <th></th>\n",
       "      <th>event</th>\n",
       "      <th>conversion_group1</th>\n",
       "      <th>conversion_group2</th>\n",
       "      <th>p_value</th>\n",
       "      <th>res</th>\n",
       "    </tr>\n",
       "  </thead>\n",
       "  <tbody>\n",
       "    <tr>\n",
       "      <th>0</th>\n",
       "      <td>MainScreenAppear</td>\n",
       "      <td>0.985277</td>\n",
       "      <td>0.982657</td>\n",
       "      <td>0.458705</td>\n",
       "      <td>False</td>\n",
       "    </tr>\n",
       "    <tr>\n",
       "      <th>1</th>\n",
       "      <td>OffersScreenAppear</td>\n",
       "      <td>0.604855</td>\n",
       "      <td>0.603469</td>\n",
       "      <td>0.919782</td>\n",
       "      <td>False</td>\n",
       "    </tr>\n",
       "    <tr>\n",
       "      <th>2</th>\n",
       "      <td>CartScreenAppear</td>\n",
       "      <td>0.492638</td>\n",
       "      <td>0.484825</td>\n",
       "      <td>0.578620</td>\n",
       "      <td>False</td>\n",
       "    </tr>\n",
       "    <tr>\n",
       "      <th>3</th>\n",
       "      <td>PaymentScreenSuccessful</td>\n",
       "      <td>0.460804</td>\n",
       "      <td>0.465510</td>\n",
       "      <td>0.737342</td>\n",
       "      <td>False</td>\n",
       "    </tr>\n",
       "  </tbody>\n",
       "</table>\n",
       "</div>"
      ],
      "text/plain": [
       "                     event  conversion_group1  conversion_group2   p_value  \\\n",
       "0         MainScreenAppear           0.985277           0.982657  0.458705   \n",
       "1       OffersScreenAppear           0.604855           0.603469  0.919782   \n",
       "2         CartScreenAppear           0.492638           0.484825  0.578620   \n",
       "3  PaymentScreenSuccessful           0.460804           0.465510  0.737342   \n",
       "\n",
       "     res  \n",
       "0  False  \n",
       "1  False  \n",
       "2  False  \n",
       "3  False  "
      ]
     },
     "metadata": {},
     "output_type": "display_data"
    },
    {
     "data": {
      "image/png": "[encoded data removed]",
      "text/plain": [
       "<Figure size 600x300 with 1 Axes>"
      ]
     },
     "metadata": {},
     "output_type": "display_data"
    }
   ],
   "source": [
    "alpha = 0.05\n",
    "\n",
    "# проведем тест для пар групп 246 vs 248 и 247 vc 248\n",
    "groups_246_248 = []\n",
    "groups_247_248 = []\n",
    "for i in event_name:\n",
    "    # пара 246 vc 248\n",
    "    result_246_248 = a_a_test(i, group_246, group_248, alpha)\n",
    "    groups_246_248.append(result_246_248)\n",
    "    \n",
    "    # пара 246 vc 248\n",
    "    result_247_248 = a_a_test(i, group_247, group_248, alpha)\n",
    "    groups_247_248.append(result_247_248)\n",
    "\n",
    "\n",
    "# преобразуем резльтат работы функции в датафрейм\n",
    "groups_246_248 = pd.DataFrame(groups_246_248)\n",
    "groups_247_248 = pd.DataFrame(groups_247_248)\n",
    "\n",
    "# выведем датафрем 246 vs 248\n",
    "print('Пара групп 246 VS 248')\n",
    "display(groups_246_248)\n",
    "\n",
    "# построим график конверсии для групп 246 и 248\n",
    "plt.figure(figsize=(6, 3))\n",
    "\n",
    "plt.plot(groups_246_248['event'], groups_246_248['conversion_group1'], marker='o', label='Группа 246')\n",
    "plt.plot(groups_246_248['event'], groups_246_248['conversion_group2'], marker='o', label='Группа 248')\n",
    "\n",
    "plt.grid(True)\n",
    "plt.xlabel('Событие')\n",
    "plt.ylabel('Конверсия')\n",
    "plt.title('Конверсия для каждого события в воронке в группах 246 и 248')\n",
    "plt.legend()\n",
    "plt.xticks(rotation=45)\n",
    "\n",
    "plt.show()\n",
    "\n",
    "# выведем датафрем 247 vs 248\n",
    "print('Пара групп 247 VS 248')\n",
    "display(groups_247_248)\n",
    "\n",
    "# построим график конверсии для групп 247 и 248\n",
    "plt.figure(figsize=(6, 3))\n",
    "\n",
    "plt.plot(groups_247_248['event'], groups_247_248['conversion_group1'], marker='o', label='Группа 247')\n",
    "plt.plot(groups_247_248['event'], groups_247_248['conversion_group2'], marker='o', label='Группа 248')\n",
    "\n",
    "plt.grid(True)\n",
    "plt.xlabel('Событие')\n",
    "plt.ylabel('Конверсия')\n",
    "plt.title('Конверсия для каждого события в воронке в группах 247 и 248')\n",
    "plt.legend()\n",
    "plt.xticks(rotation=45)\n",
    "\n",
    "plt.show()"
   ]
  },
  {
   "cell_type": "markdown",
   "id": "3211953e-c1be-4285-ab63-1f0744cd05c0",
   "metadata": {},
   "source": [
    "Различия в парах между контрольной группой и экспериментальной больше, чем между двумя контрольными.\n",
    "\n",
    "Так, в паре 246 vs 248 минимальный p-value составляет 0.07 в событии \"CartScreenAppear\". Данное значение почти достигло популярного уровня статистической значимости в 0.05. Однако, ни в одной паре данный уровень так и не был достигнут.\n",
    "\n",
    "**Нулевые гипотезы пар 246 vs 248 и пары 247 vs 248 не отвергнуты, так как статистически значимых различий не наблюдается.**\n",
    "\n",
    "При этом стоит отметить, что p-value пары 246 vs 248 значительно ниже на всех событиях и не превышат отметки в 0.30. В то время, как у пары 247 vs 248 p-value не опускается ниже 0.45. *Данный факт говорит о значительно больших различиях между 246 и 248 группой, чем между 247 и 248, что подтвердили и построенные графики.*\n",
    "\n",
    "**Итог 5.2.1:**\n",
    "\n",
    "**Группы 246 и 248, а также 247 и 248 ИДЕНТИЧНЫ.**"
   ]
  },
  {
   "cell_type": "markdown",
   "id": "4ffa3d92-222f-4278-8102-86faec990eb0",
   "metadata": {},
   "source": [
    "#### Проверка групп 246+247 и 248"
   ]
  },
  {
   "cell_type": "markdown",
   "id": "c7f45444-c5c7-43c4-9da7-0c18d3f3954e",
   "metadata": {},
   "source": [
    "**Теперь сравним экспериментальную группу 248 с объединенной группой из двух контрольных 246 и 247.**\n",
    "\n",
    "*Гипотезы объеденных данных контрольных групп 246 + 247 и экспериметнальной группы 248*\n",
    "\n",
    "* **H0 - Конверсии объединенных данных контрольных групп 246 + 247 и экспериментальной группы 248 одинаковы.**\n",
    "* **H1 - Конверсии объединенных данных контрольных групп 246 + 247 и экспериментальной группы 248 различны.**"
   ]
  },
  {
   "cell_type": "code",
   "execution_count": 50,
   "id": "701294cb-38a9-4038-a297-7cf34a5ce09e",
   "metadata": {},
   "outputs": [
    {
     "name": "stdout",
     "output_type": "stream",
     "text": [
      "\n",
      "Результаты для всех событий между объединенной группой (246+247) и экспериментальной группой (248):\n"
     ]
    },
    {
     "data": {
      "text/html": [
       "<div>\n",
       "<style scoped>\n",
       "    .dataframe tbody tr th:only-of-type {\n",
       "        vertical-align: middle;\n",
       "    }\n",
       "\n",
       "    .dataframe tbody tr th {\n",
       "        vertical-align: top;\n",
       "    }\n",
       "\n",
       "    .dataframe thead th {\n",
       "        text-align: right;\n",
       "    }\n",
       "</style>\n",
       "<table border=\"1\" class=\"dataframe\">\n",
       "  <thead>\n",
       "    <tr style=\"text-align: right;\">\n",
       "      <th></th>\n",
       "      <th>event</th>\n",
       "      <th>conversion_group1</th>\n",
       "      <th>conversion_group2</th>\n",
       "      <th>p_value</th>\n",
       "      <th>res</th>\n",
       "    </tr>\n",
       "  </thead>\n",
       "  <tbody>\n",
       "    <tr>\n",
       "      <th>0</th>\n",
       "      <td>MainScreenAppear</td>\n",
       "      <td>0.985791</td>\n",
       "      <td>0.982657</td>\n",
       "      <td>0.294245</td>\n",
       "      <td>False</td>\n",
       "    </tr>\n",
       "    <tr>\n",
       "      <th>1</th>\n",
       "      <td>OffersScreenAppear</td>\n",
       "      <td>0.612768</td>\n",
       "      <td>0.603469</td>\n",
       "      <td>0.434255</td>\n",
       "      <td>False</td>\n",
       "    </tr>\n",
       "    <tr>\n",
       "      <th>2</th>\n",
       "      <td>CartScreenAppear</td>\n",
       "      <td>0.501101</td>\n",
       "      <td>0.484825</td>\n",
       "      <td>0.181759</td>\n",
       "      <td>False</td>\n",
       "    </tr>\n",
       "    <tr>\n",
       "      <th>3</th>\n",
       "      <td>PaymentScreenSuccessful</td>\n",
       "      <td>0.471883</td>\n",
       "      <td>0.465510</td>\n",
       "      <td>0.600429</td>\n",
       "      <td>False</td>\n",
       "    </tr>\n",
       "  </tbody>\n",
       "</table>\n",
       "</div>"
      ],
      "text/plain": [
       "                     event  conversion_group1  conversion_group2   p_value  \\\n",
       "0         MainScreenAppear           0.985791           0.982657  0.294245   \n",
       "1       OffersScreenAppear           0.612768           0.603469  0.434255   \n",
       "2         CartScreenAppear           0.501101           0.484825  0.181759   \n",
       "3  PaymentScreenSuccessful           0.471883           0.465510  0.600429   \n",
       "\n",
       "     res  \n",
       "0  False  \n",
       "1  False  \n",
       "2  False  \n",
       "3  False  "
      ]
     },
     "metadata": {},
     "output_type": "display_data"
    },
    {
     "data": {
      "image/png": "[encoded data removed]",
      "text/plain": [
       "<Figure size 600x300 with 1 Axes>"
      ]
     },
     "metadata": {},
     "output_type": "display_data"
    }
   ],
   "source": [
    "# объединим группы 246 и 247\n",
    "joined_246_247 = pd.concat([group_246, group_247])\n",
    "\n",
    "alpha = 0.05\n",
    "# проведем тест для объединенной группы 246 + 247 и группы 248\n",
    "joined_246_247_248 = []\n",
    "for i in event_name:\n",
    "    # Сравнение объединенной группы 246+247 с экспериментальной группой 248\n",
    "    result_joined = a_a_test(i, joined_246_247, group_248, alpha)\n",
    "    \n",
    "    joined_246_247_248.append(result_joined)\n",
    "\n",
    "# Создаем DataFrame из результатов для объединенной группы и экспериментальной группы\n",
    "joined_246_247_248 = pd.DataFrame(joined_246_247_248)\n",
    "\n",
    "# Отображаем результаты для всех событий между объединенной и экспериментальной группами\n",
    "print(\"\\nРезультаты для всех событий между объединенной группой (246+247) и экспериментальной группой (248):\")\n",
    "display(joined_246_247_248)\n",
    "\n",
    "# построим график конверсии для объединенных групп 246 + 247 и 248\n",
    "plt.figure(figsize=(6, 3))\n",
    "\n",
    "plt.plot(joined_246_247_248['event'], joined_246_247_248['conversion_group1'], marker='o', label='Группа 246 + 247')\n",
    "plt.plot(joined_246_247_248['event'], joined_246_247_248['conversion_group2'], marker='o', label='Группа 248')\n",
    "\n",
    "plt.grid(True)\n",
    "plt.xlabel('Событие')\n",
    "plt.ylabel('Конверсия')\n",
    "plt.title('Конверсия для каждого события в воронке в группах 246 + 247 и 248')\n",
    "plt.legend()\n",
    "plt.xticks(rotation=45)\n",
    "\n",
    "plt.show()"
   ]
  },
  {
   "cell_type": "markdown",
   "id": "8f22ae73-5815-49fe-b9ab-7af4952f75c8",
   "metadata": {},
   "source": [
    "P-value достигает минимума на событии \"CartScreenAppear\" и равняется 0.18, что значительно выше уровня статистической значимости alpha=0.05.\n",
    "\n",
    "**Итог: 5.2.2**\n",
    "\n",
    "**нет повода отвергать нулевую гипотезу, так между группами нет статистически значимых различий.**"
   ]
  },
  {
   "cell_type": "markdown",
   "id": "fcb03ea6-416b-4cfe-bceb-22ed3263b7f8",
   "metadata": {},
   "source": [
    "#### Проведем расчет количества тестов."
   ]
  },
  {
   "cell_type": "markdown",
   "id": "e99f1681-4f39-4c7e-9d2e-28c684e6b01e",
   "metadata": {},
   "source": [
    "Всего было проведено сравнение 4 пар групп:\n",
    "\n",
    "1. **246** vs **247**\n",
    "2. **246** vs **248**\n",
    "3. **247** vs **248**\n",
    "4. **246 + 247** vs **248**\n",
    "\n",
    "В каждой паре сравнивались конверсии по 4 событиям.\n",
    "\n",
    "**По итогу получается 16 проведенных тестов.**"
   ]
  },
  {
   "cell_type": "markdown",
   "id": "41fb7917-ced9-4237-859d-e56842c48b11",
   "metadata": {},
   "source": [
    "**Воспользуемся поправкой Холма**\n",
    "\n",
    "Примем уровень статистической значимости alpha = 0.1.\n",
    "Проведем вновь проверку наличия статистически значимых различий при количестве тестов равном 16."
   ]
  },
  {
   "cell_type": "code",
   "execution_count": 51,
   "id": "b28fe853-ff0f-4e06-8fcf-09d9a9b5fdd5",
   "metadata": {},
   "outputs": [
    {
     "data": {
      "text/html": [
       "<div>\n",
       "<style scoped>\n",
       "    .dataframe tbody tr th:only-of-type {\n",
       "        vertical-align: middle;\n",
       "    }\n",
       "\n",
       "    .dataframe tbody tr th {\n",
       "        vertical-align: top;\n",
       "    }\n",
       "\n",
       "    .dataframe thead th {\n",
       "        text-align: right;\n",
       "    }\n",
       "</style>\n",
       "<table border=\"1\" class=\"dataframe\">\n",
       "  <thead>\n",
       "    <tr style=\"text-align: right;\">\n",
       "      <th></th>\n",
       "      <th>event</th>\n",
       "      <th>conversion_group1</th>\n",
       "      <th>conversion_group2</th>\n",
       "      <th>p_value</th>\n",
       "      <th>res</th>\n",
       "      <th>gr</th>\n",
       "      <th>holma</th>\n",
       "      <th>res_holma</th>\n",
       "    </tr>\n",
       "  </thead>\n",
       "  <tbody>\n",
       "    <tr>\n",
       "      <th>0</th>\n",
       "      <td>MainScreenAppear</td>\n",
       "      <td>0.986312</td>\n",
       "      <td>0.985277</td>\n",
       "      <td>0.757060</td>\n",
       "      <td>False</td>\n",
       "      <td>246 vs 247</td>\n",
       "      <td>0.006250</td>\n",
       "      <td>False</td>\n",
       "    </tr>\n",
       "    <tr>\n",
       "      <th>1</th>\n",
       "      <td>OffersScreenAppear</td>\n",
       "      <td>0.620773</td>\n",
       "      <td>0.604855</td>\n",
       "      <td>0.248095</td>\n",
       "      <td>False</td>\n",
       "      <td>246 vs 247</td>\n",
       "      <td>0.006667</td>\n",
       "      <td>False</td>\n",
       "    </tr>\n",
       "    <tr>\n",
       "      <th>2</th>\n",
       "      <td>CartScreenAppear</td>\n",
       "      <td>0.509662</td>\n",
       "      <td>0.492638</td>\n",
       "      <td>0.228834</td>\n",
       "      <td>False</td>\n",
       "      <td>246 vs 247</td>\n",
       "      <td>0.007143</td>\n",
       "      <td>False</td>\n",
       "    </tr>\n",
       "    <tr>\n",
       "      <th>3</th>\n",
       "      <td>PaymentScreenSuccessful</td>\n",
       "      <td>0.483092</td>\n",
       "      <td>0.460804</td>\n",
       "      <td>0.114567</td>\n",
       "      <td>False</td>\n",
       "      <td>246 vs 247</td>\n",
       "      <td>0.007692</td>\n",
       "      <td>False</td>\n",
       "    </tr>\n",
       "    <tr>\n",
       "      <th>0</th>\n",
       "      <td>MainScreenAppear</td>\n",
       "      <td>0.986312</td>\n",
       "      <td>0.982657</td>\n",
       "      <td>0.294972</td>\n",
       "      <td>False</td>\n",
       "      <td>246 vs 248</td>\n",
       "      <td>0.008333</td>\n",
       "      <td>False</td>\n",
       "    </tr>\n",
       "    <tr>\n",
       "      <th>1</th>\n",
       "      <td>OffersScreenAppear</td>\n",
       "      <td>0.620773</td>\n",
       "      <td>0.603469</td>\n",
       "      <td>0.208362</td>\n",
       "      <td>False</td>\n",
       "      <td>246 vs 248</td>\n",
       "      <td>0.009091</td>\n",
       "      <td>False</td>\n",
       "    </tr>\n",
       "    <tr>\n",
       "      <th>2</th>\n",
       "      <td>CartScreenAppear</td>\n",
       "      <td>0.509662</td>\n",
       "      <td>0.484825</td>\n",
       "      <td>0.078429</td>\n",
       "      <td>True</td>\n",
       "      <td>246 vs 248</td>\n",
       "      <td>0.010000</td>\n",
       "      <td>False</td>\n",
       "    </tr>\n",
       "    <tr>\n",
       "      <th>3</th>\n",
       "      <td>PaymentScreenSuccessful</td>\n",
       "      <td>0.483092</td>\n",
       "      <td>0.465510</td>\n",
       "      <td>0.212255</td>\n",
       "      <td>False</td>\n",
       "      <td>246 vs 248</td>\n",
       "      <td>0.011111</td>\n",
       "      <td>False</td>\n",
       "    </tr>\n",
       "    <tr>\n",
       "      <th>0</th>\n",
       "      <td>MainScreenAppear</td>\n",
       "      <td>0.985277</td>\n",
       "      <td>0.982657</td>\n",
       "      <td>0.458705</td>\n",
       "      <td>False</td>\n",
       "      <td>247 vs 248</td>\n",
       "      <td>0.012500</td>\n",
       "      <td>False</td>\n",
       "    </tr>\n",
       "    <tr>\n",
       "      <th>1</th>\n",
       "      <td>OffersScreenAppear</td>\n",
       "      <td>0.604855</td>\n",
       "      <td>0.603469</td>\n",
       "      <td>0.919782</td>\n",
       "      <td>False</td>\n",
       "      <td>247 vs 248</td>\n",
       "      <td>0.014286</td>\n",
       "      <td>False</td>\n",
       "    </tr>\n",
       "    <tr>\n",
       "      <th>2</th>\n",
       "      <td>CartScreenAppear</td>\n",
       "      <td>0.492638</td>\n",
       "      <td>0.484825</td>\n",
       "      <td>0.578620</td>\n",
       "      <td>False</td>\n",
       "      <td>247 vs 248</td>\n",
       "      <td>0.016667</td>\n",
       "      <td>False</td>\n",
       "    </tr>\n",
       "    <tr>\n",
       "      <th>3</th>\n",
       "      <td>PaymentScreenSuccessful</td>\n",
       "      <td>0.460804</td>\n",
       "      <td>0.465510</td>\n",
       "      <td>0.737342</td>\n",
       "      <td>False</td>\n",
       "      <td>247 vs 248</td>\n",
       "      <td>0.020000</td>\n",
       "      <td>False</td>\n",
       "    </tr>\n",
       "    <tr>\n",
       "      <th>0</th>\n",
       "      <td>MainScreenAppear</td>\n",
       "      <td>0.985791</td>\n",
       "      <td>0.982657</td>\n",
       "      <td>0.294245</td>\n",
       "      <td>False</td>\n",
       "      <td>246 + 247 vs 248</td>\n",
       "      <td>0.025000</td>\n",
       "      <td>False</td>\n",
       "    </tr>\n",
       "    <tr>\n",
       "      <th>1</th>\n",
       "      <td>OffersScreenAppear</td>\n",
       "      <td>0.612768</td>\n",
       "      <td>0.603469</td>\n",
       "      <td>0.434255</td>\n",
       "      <td>False</td>\n",
       "      <td>246 + 247 vs 248</td>\n",
       "      <td>0.033333</td>\n",
       "      <td>False</td>\n",
       "    </tr>\n",
       "    <tr>\n",
       "      <th>2</th>\n",
       "      <td>CartScreenAppear</td>\n",
       "      <td>0.501101</td>\n",
       "      <td>0.484825</td>\n",
       "      <td>0.181759</td>\n",
       "      <td>False</td>\n",
       "      <td>246 + 247 vs 248</td>\n",
       "      <td>0.050000</td>\n",
       "      <td>False</td>\n",
       "    </tr>\n",
       "    <tr>\n",
       "      <th>3</th>\n",
       "      <td>PaymentScreenSuccessful</td>\n",
       "      <td>0.471883</td>\n",
       "      <td>0.465510</td>\n",
       "      <td>0.600429</td>\n",
       "      <td>False</td>\n",
       "      <td>246 + 247 vs 248</td>\n",
       "      <td>0.100000</td>\n",
       "      <td>False</td>\n",
       "    </tr>\n",
       "  </tbody>\n",
       "</table>\n",
       "</div>"
      ],
      "text/plain": [
       "                     event  conversion_group1  conversion_group2   p_value  \\\n",
       "0         MainScreenAppear           0.986312           0.985277  0.757060   \n",
       "1       OffersScreenAppear           0.620773           0.604855  0.248095   \n",
       "2         CartScreenAppear           0.509662           0.492638  0.228834   \n",
       "3  PaymentScreenSuccessful           0.483092           0.460804  0.114567   \n",
       "0         MainScreenAppear           0.986312           0.982657  0.294972   \n",
       "1       OffersScreenAppear           0.620773           0.603469  0.208362   \n",
       "2         CartScreenAppear           0.509662           0.484825  0.078429   \n",
       "3  PaymentScreenSuccessful           0.483092           0.465510  0.212255   \n",
       "0         MainScreenAppear           0.985277           0.982657  0.458705   \n",
       "1       OffersScreenAppear           0.604855           0.603469  0.919782   \n",
       "2         CartScreenAppear           0.492638           0.484825  0.578620   \n",
       "3  PaymentScreenSuccessful           0.460804           0.465510  0.737342   \n",
       "0         MainScreenAppear           0.985791           0.982657  0.294245   \n",
       "1       OffersScreenAppear           0.612768           0.603469  0.434255   \n",
       "2         CartScreenAppear           0.501101           0.484825  0.181759   \n",
       "3  PaymentScreenSuccessful           0.471883           0.465510  0.600429   \n",
       "\n",
       "     res                gr     holma  res_holma  \n",
       "0  False        246 vs 247  0.006250      False  \n",
       "1  False        246 vs 247  0.006667      False  \n",
       "2  False        246 vs 247  0.007143      False  \n",
       "3  False        246 vs 247  0.007692      False  \n",
       "0  False        246 vs 248  0.008333      False  \n",
       "1  False        246 vs 248  0.009091      False  \n",
       "2   True        246 vs 248  0.010000      False  \n",
       "3  False        246 vs 248  0.011111      False  \n",
       "0  False        247 vs 248  0.012500      False  \n",
       "1  False        247 vs 248  0.014286      False  \n",
       "2  False        247 vs 248  0.016667      False  \n",
       "3  False        247 vs 248  0.020000      False  \n",
       "0  False  246 + 247 vs 248  0.025000      False  \n",
       "1  False  246 + 247 vs 248  0.033333      False  \n",
       "2  False  246 + 247 vs 248  0.050000      False  \n",
       "3  False  246 + 247 vs 248  0.100000      False  "
      ]
     },
     "execution_count": 51,
     "metadata": {},
     "output_type": "execute_result"
    }
   ],
   "source": [
    "m, alpha = 16, 0.1 # число тестов и уровень значимости\n",
    "result = []\n",
    "for i in range(m): # получаем номер текущего теста и считаем коррекцию \n",
    "    result += [alpha / (m - i)] \n",
    "\n",
    "groups_246_247['gr'] = '246 vs 247'\n",
    "groups_246_248['gr'] = '246 vs 248'\n",
    "groups_247_248['gr'] = '247 vs 248'\n",
    "joined_246_247_248['gr'] = '246 + 247 vs 248'\n",
    "ob = pd.concat([groups_246_247, groups_246_248, groups_247_248, joined_246_247_248])\n",
    "ob['holma'] = result\n",
    "ob['res'] = ob['p_value'] < alpha\n",
    "ob['res_holma'] = ob['p_value'] < ob['holma']\n",
    "ob"
   ]
  },
  {
   "cell_type": "markdown",
   "id": "de6c38ad-f483-472d-a156-dfe9e830dfce",
   "metadata": {},
   "source": [
    "Примем уровень статистической значимости alpha = 0.1.\n",
    "Проведем вновь проверку наличия статистически значимых различий при количестве тестов равном 4."
   ]
  },
  {
   "cell_type": "code",
   "execution_count": 52,
   "id": "617e4e44-97b2-4c86-9e9c-18fb4737b330",
   "metadata": {},
   "outputs": [
    {
     "name": "stdout",
     "output_type": "stream",
     "text": [
      "[0.025, 0.03333333333333333, 0.05, 0.1]\n"
     ]
    },
    {
     "data": {
      "text/html": [
       "<div>\n",
       "<style scoped>\n",
       "    .dataframe tbody tr th:only-of-type {\n",
       "        vertical-align: middle;\n",
       "    }\n",
       "\n",
       "    .dataframe tbody tr th {\n",
       "        vertical-align: top;\n",
       "    }\n",
       "\n",
       "    .dataframe thead th {\n",
       "        text-align: right;\n",
       "    }\n",
       "</style>\n",
       "<table border=\"1\" class=\"dataframe\">\n",
       "  <thead>\n",
       "    <tr style=\"text-align: right;\">\n",
       "      <th></th>\n",
       "      <th>event</th>\n",
       "      <th>conversion_group1</th>\n",
       "      <th>conversion_group2</th>\n",
       "      <th>p_value</th>\n",
       "      <th>res</th>\n",
       "      <th>gr</th>\n",
       "      <th>holma</th>\n",
       "      <th>res_holma</th>\n",
       "    </tr>\n",
       "  </thead>\n",
       "  <tbody>\n",
       "    <tr>\n",
       "      <th>0</th>\n",
       "      <td>MainScreenAppear</td>\n",
       "      <td>0.986312</td>\n",
       "      <td>0.985277</td>\n",
       "      <td>0.757060</td>\n",
       "      <td>False</td>\n",
       "      <td>246 vs 247</td>\n",
       "      <td>0.025000</td>\n",
       "      <td>False</td>\n",
       "    </tr>\n",
       "    <tr>\n",
       "      <th>1</th>\n",
       "      <td>OffersScreenAppear</td>\n",
       "      <td>0.620773</td>\n",
       "      <td>0.604855</td>\n",
       "      <td>0.248095</td>\n",
       "      <td>False</td>\n",
       "      <td>246 vs 247</td>\n",
       "      <td>0.033333</td>\n",
       "      <td>False</td>\n",
       "    </tr>\n",
       "    <tr>\n",
       "      <th>2</th>\n",
       "      <td>CartScreenAppear</td>\n",
       "      <td>0.509662</td>\n",
       "      <td>0.492638</td>\n",
       "      <td>0.228834</td>\n",
       "      <td>False</td>\n",
       "      <td>246 vs 247</td>\n",
       "      <td>0.050000</td>\n",
       "      <td>False</td>\n",
       "    </tr>\n",
       "    <tr>\n",
       "      <th>3</th>\n",
       "      <td>PaymentScreenSuccessful</td>\n",
       "      <td>0.483092</td>\n",
       "      <td>0.460804</td>\n",
       "      <td>0.114567</td>\n",
       "      <td>False</td>\n",
       "      <td>246 vs 247</td>\n",
       "      <td>0.100000</td>\n",
       "      <td>False</td>\n",
       "    </tr>\n",
       "    <tr>\n",
       "      <th>0</th>\n",
       "      <td>MainScreenAppear</td>\n",
       "      <td>0.986312</td>\n",
       "      <td>0.982657</td>\n",
       "      <td>0.294972</td>\n",
       "      <td>False</td>\n",
       "      <td>246 vs 248</td>\n",
       "      <td>0.025000</td>\n",
       "      <td>False</td>\n",
       "    </tr>\n",
       "    <tr>\n",
       "      <th>1</th>\n",
       "      <td>OffersScreenAppear</td>\n",
       "      <td>0.620773</td>\n",
       "      <td>0.603469</td>\n",
       "      <td>0.208362</td>\n",
       "      <td>False</td>\n",
       "      <td>246 vs 248</td>\n",
       "      <td>0.033333</td>\n",
       "      <td>False</td>\n",
       "    </tr>\n",
       "    <tr>\n",
       "      <th>2</th>\n",
       "      <td>CartScreenAppear</td>\n",
       "      <td>0.509662</td>\n",
       "      <td>0.484825</td>\n",
       "      <td>0.078429</td>\n",
       "      <td>True</td>\n",
       "      <td>246 vs 248</td>\n",
       "      <td>0.050000</td>\n",
       "      <td>False</td>\n",
       "    </tr>\n",
       "    <tr>\n",
       "      <th>3</th>\n",
       "      <td>PaymentScreenSuccessful</td>\n",
       "      <td>0.483092</td>\n",
       "      <td>0.465510</td>\n",
       "      <td>0.212255</td>\n",
       "      <td>False</td>\n",
       "      <td>246 vs 248</td>\n",
       "      <td>0.100000</td>\n",
       "      <td>False</td>\n",
       "    </tr>\n",
       "    <tr>\n",
       "      <th>0</th>\n",
       "      <td>MainScreenAppear</td>\n",
       "      <td>0.985277</td>\n",
       "      <td>0.982657</td>\n",
       "      <td>0.458705</td>\n",
       "      <td>False</td>\n",
       "      <td>247 vs 248</td>\n",
       "      <td>0.025000</td>\n",
       "      <td>False</td>\n",
       "    </tr>\n",
       "    <tr>\n",
       "      <th>1</th>\n",
       "      <td>OffersScreenAppear</td>\n",
       "      <td>0.604855</td>\n",
       "      <td>0.603469</td>\n",
       "      <td>0.919782</td>\n",
       "      <td>False</td>\n",
       "      <td>247 vs 248</td>\n",
       "      <td>0.033333</td>\n",
       "      <td>False</td>\n",
       "    </tr>\n",
       "    <tr>\n",
       "      <th>2</th>\n",
       "      <td>CartScreenAppear</td>\n",
       "      <td>0.492638</td>\n",
       "      <td>0.484825</td>\n",
       "      <td>0.578620</td>\n",
       "      <td>False</td>\n",
       "      <td>247 vs 248</td>\n",
       "      <td>0.050000</td>\n",
       "      <td>False</td>\n",
       "    </tr>\n",
       "    <tr>\n",
       "      <th>3</th>\n",
       "      <td>PaymentScreenSuccessful</td>\n",
       "      <td>0.460804</td>\n",
       "      <td>0.465510</td>\n",
       "      <td>0.737342</td>\n",
       "      <td>False</td>\n",
       "      <td>247 vs 248</td>\n",
       "      <td>0.100000</td>\n",
       "      <td>False</td>\n",
       "    </tr>\n",
       "    <tr>\n",
       "      <th>0</th>\n",
       "      <td>MainScreenAppear</td>\n",
       "      <td>0.985791</td>\n",
       "      <td>0.982657</td>\n",
       "      <td>0.294245</td>\n",
       "      <td>False</td>\n",
       "      <td>246 + 247 vs 248</td>\n",
       "      <td>0.025000</td>\n",
       "      <td>False</td>\n",
       "    </tr>\n",
       "    <tr>\n",
       "      <th>1</th>\n",
       "      <td>OffersScreenAppear</td>\n",
       "      <td>0.612768</td>\n",
       "      <td>0.603469</td>\n",
       "      <td>0.434255</td>\n",
       "      <td>False</td>\n",
       "      <td>246 + 247 vs 248</td>\n",
       "      <td>0.033333</td>\n",
       "      <td>False</td>\n",
       "    </tr>\n",
       "    <tr>\n",
       "      <th>2</th>\n",
       "      <td>CartScreenAppear</td>\n",
       "      <td>0.501101</td>\n",
       "      <td>0.484825</td>\n",
       "      <td>0.181759</td>\n",
       "      <td>False</td>\n",
       "      <td>246 + 247 vs 248</td>\n",
       "      <td>0.050000</td>\n",
       "      <td>False</td>\n",
       "    </tr>\n",
       "    <tr>\n",
       "      <th>3</th>\n",
       "      <td>PaymentScreenSuccessful</td>\n",
       "      <td>0.471883</td>\n",
       "      <td>0.465510</td>\n",
       "      <td>0.600429</td>\n",
       "      <td>False</td>\n",
       "      <td>246 + 247 vs 248</td>\n",
       "      <td>0.100000</td>\n",
       "      <td>False</td>\n",
       "    </tr>\n",
       "  </tbody>\n",
       "</table>\n",
       "</div>"
      ],
      "text/plain": [
       "                     event  conversion_group1  conversion_group2   p_value  \\\n",
       "0         MainScreenAppear           0.986312           0.985277  0.757060   \n",
       "1       OffersScreenAppear           0.620773           0.604855  0.248095   \n",
       "2         CartScreenAppear           0.509662           0.492638  0.228834   \n",
       "3  PaymentScreenSuccessful           0.483092           0.460804  0.114567   \n",
       "0         MainScreenAppear           0.986312           0.982657  0.294972   \n",
       "1       OffersScreenAppear           0.620773           0.603469  0.208362   \n",
       "2         CartScreenAppear           0.509662           0.484825  0.078429   \n",
       "3  PaymentScreenSuccessful           0.483092           0.465510  0.212255   \n",
       "0         MainScreenAppear           0.985277           0.982657  0.458705   \n",
       "1       OffersScreenAppear           0.604855           0.603469  0.919782   \n",
       "2         CartScreenAppear           0.492638           0.484825  0.578620   \n",
       "3  PaymentScreenSuccessful           0.460804           0.465510  0.737342   \n",
       "0         MainScreenAppear           0.985791           0.982657  0.294245   \n",
       "1       OffersScreenAppear           0.612768           0.603469  0.434255   \n",
       "2         CartScreenAppear           0.501101           0.484825  0.181759   \n",
       "3  PaymentScreenSuccessful           0.471883           0.465510  0.600429   \n",
       "\n",
       "     res                gr     holma  res_holma  \n",
       "0  False        246 vs 247  0.025000      False  \n",
       "1  False        246 vs 247  0.033333      False  \n",
       "2  False        246 vs 247  0.050000      False  \n",
       "3  False        246 vs 247  0.100000      False  \n",
       "0  False        246 vs 248  0.025000      False  \n",
       "1  False        246 vs 248  0.033333      False  \n",
       "2   True        246 vs 248  0.050000      False  \n",
       "3  False        246 vs 248  0.100000      False  \n",
       "0  False        247 vs 248  0.025000      False  \n",
       "1  False        247 vs 248  0.033333      False  \n",
       "2  False        247 vs 248  0.050000      False  \n",
       "3  False        247 vs 248  0.100000      False  \n",
       "0  False  246 + 247 vs 248  0.025000      False  \n",
       "1  False  246 + 247 vs 248  0.033333      False  \n",
       "2  False  246 + 247 vs 248  0.050000      False  \n",
       "3  False  246 + 247 vs 248  0.100000      False  "
      ]
     },
     "execution_count": 52,
     "metadata": {},
     "output_type": "execute_result"
    }
   ],
   "source": [
    "m, alpha = 4, 0.1 # число тестов и уровень значимости\n",
    "result = []\n",
    "for i in range(m): # получаем номер текущего теста и считаем коррекцию \n",
    "    result += [alpha / (m - i)]\n",
    "print(result) \n",
    "\n",
    "ob = pd.concat([groups_246_247, groups_246_248, groups_247_248, joined_246_247_248])\n",
    "ob['holma'] = result * 4\n",
    "ob['res'] = ob['p_value'] < alpha\n",
    "ob['res_holma'] = ob['p_value'] < ob['holma']\n",
    "ob"
   ]
  },
  {
   "cell_type": "markdown",
   "id": "a5b42992-c240-4ff0-a069-0c048b933056",
   "metadata": {},
   "source": [
    "**Подитог**\n",
    "\n",
    "При изменении уровня статистической значимости до alpha = 0.1 появилось отвержение нулевой гипотезы о равенстве групп 246 и 248, причем и в случае с 16 тестами, и в случае 4 тестов. Однако, применение поправки на множественную проверку гипотез Холма данного отвержения не произошло. Получается, мы избегаем совершения *ошибки 1 рода*, когда нулевая гипотеза неверно отвергается."
   ]
  },
  {
   "cell_type": "markdown",
   "id": "102fb401-d5f5-4cb6-b910-abacea577f72",
   "metadata": {},
   "source": [
    "**ВЫВОД 5**\n",
    "\n",
    "Наиболее популярным событием ожидаемо оказался *\"MainScreenAppear\"*.\n",
    "Процент пользователей, совершивших данное действие составляет более 98%. А между контрольными группами статистически значимого различия выявлено не было (p-value = 0.75)\n",
    "\n",
    "На основании 3 групп были сформулированы гипотезы и проведены тесты по каждому из 4 событий. Уровень статистической значимости был выбран равным 0.05.\n",
    "\n",
    "1. **H0 - Конверсии группы 246 и 247 равны.** Отвергнуть данную гипотезу не удалось. Минимальный p-value составил 0.11.\n",
    "2. **H0 - Конверсия группы 246 и 248 равны.** Отвергнуть данную гипотезу не удалось. Минимальный p-value составил 0.07.\n",
    "3. **H0 - Конверсии группы 247 и 248 равны.** Отвергнуть данную гипотезу не удалось. Минимальный p-value составил 0.45.\n",
    "4. **H0 - Конверсии объединенных групп 246 + 247 и 248 равны.** Отвергнуть данную гипотезу не удалось. Минимальный p-value составил 0.18.\n",
    "\n",
    "Тестов было много, поэтому я решил провести поправку на множественную проверку гипотез методом Холма, а также изменить уровень значимости на 0.1, так как в одном из тестов p_value равняется 0.07. \n",
    "\n",
    "После повышения alpha до 0.1 произошла ошибка 1 рода - нулевая гипотеза была неверно отвергнута. Понять это помогла поправка Холма, согласно которой во всех тестах статистически значимых различий не наблюдается."
   ]
  },
  {
   "cell_type": "markdown",
   "id": "542d0893-ccda-49fd-b4fb-b487f5790d4c",
   "metadata": {},
   "source": [
    "<a class='anchor' id='6-bullet'></a>\n",
    "## ОБЩИЙ ВЫВОД\n",
    "\n",
    "1. При выполнении проектной работы был проведен **исследовательский анализ данных**:\n",
    "    1) *Стало известно следующее:*\n",
    "       * Начальные данные охватывают период с25-07-2019 по 07-08-2019. \n",
    "       * Общее количество событий в логе составляет 243713\n",
    "       * Количество уникальных событий составляет 5\n",
    "       * Общее количество уникальных пользователей составляет 7551\n",
    "       * В среднем на пользователя приходится 32.3 событий\n",
    "       * Медианное значение количества событий на пользователя равно 20\n",
    "       * Нормальным диапазоном значений количества событий на пользователя признан следующий: от 1 до 80 событий.\n",
    "    3) *Построение столбчатых графиков показало:*\n",
    "       * Количество событий распределено практически равномерно по группам. Однако, группа 248 отличается наибольшим количеством событий (85582), за ней расположилась группа 246 (80181 событий) и 247 (77950) - самая немногочисленная.\n",
    "       * По количеству пользователей на первом месте также группа 248 (2542 пользователя), затем группа 247 (2520) и 246 (2489 пользователей).\n",
    "       * По количеству событий на пользователя лидирует группа 248 (33.7), затем группа 246 (32.2) и 247 (30.9).\n",
    "    4) *Столбчатый график динамики изменения количества событий по дням и группам показал*, что полнота данных начинается лишь с 01-08-2019. По этой причине мы отсекли события, предшествующие этой дате, тем самым \"потеряв\" 2826 событий (лишь 1.16% данных) и 17 пользователей.\n",
    "    5) *Построение столбчатых графиков после очистки данных* также подтвердило равномерность удаленных данных, так как распределение мест по количеству событий, пользователей и событий, приходящихся на пользователей осталось прежним.\n",
    "\n",
    "    **Мы избавились от неполных данных, при этом никак не повлияв на прежнее распределение данных. Нынешний промежуток наблюдений - с 01-08-2019 по 07-08-2019.  Теперь можно смело приступать к дальнейшим исследованиям.**\n",
    "\n",
    "\n",
    "\n",
    "2. **Построение воронки событий** показало, что изначальное количество необходимо уменьшить до 4. Исключено событие \"Tutorial\", так как его частота чрезвычайно мала, а расположение не соответствует хронологии событий.\n",
    "   События расположились в следующем порядке:\n",
    "    1. Основной экран **MainScreenAppear** - частота 117328, количество пользователей 7419, доля 0.984736\n",
    "    2. Экран с товарами **OffersScreenAppear** - частота 46333, количество пользователей 4593, доля 0.609636\n",
    "    3. Корзина **CartScreenAppear** - частота 42303, количество пользователей 3734, доля 0.495620\n",
    "    4. Успешная оплата **PaymentScreenSuccessful** - частота 33918, количество пользователей 3539, доля 0.469737\n",
    "    5. Инструкция **Tutorial** - частота 1005, количество пользователей 840, доля 0.111495\n",
    "  \n",
    "Рассчет конверсии пользователей в шаг позволил выявить проблемное событие, на котором теряется больше всего пользователей. Это событие **\"OffersScreenAppear\"**. Конверсия перехода на данное событие после главного экрана составляет чуть менее 62%, тогда, как на последующих этапах сохраняется не менее 80%. **Стоит обратить внимание на событие c главным экраном **\"MainScreenAppear\"**, так как, вероятнее всего именно на нем пользователей что-то смущает и он не переходит на экран с товарами.\n",
    "\n",
    "Конверсия пользователей, дошедших от первого события с главным экраном до последнего события и совершивих покупку составляет 47%, что является достаточно неплохим показателем в отрыве от иных метрик.\n",
    "\n",
    "3. **Проведение A/A/B тестов показало следующий результат.**\n",
    "\n",
    "    Наиболее популярным событием ожидаемо оказался *\"MainScreenAppear\"*.\n",
    "    Процент пользователей, совершивших данное действие составляет более 98%. А между контрольными группами статистически значимого различия выявлено не было (p-value = 0.75)\n",
    "\n",
    "    На основании 3 групп были сформулированы гипотезы и проведены тесты по каждому из 4 событий. Уровень статистической значимости был выбран равный 0.05.\n",
    "\n",
    "    1. **H0 - Конверсии группы 246 и 247 равны.** Отвергнуть данную гипотезу не удалось. Минимальный p-value составил 0.11.\n",
    "    2. **H0 - Конверсия группы 246 и 248 равны.** Отвергнуть данную гипотезу не удалось. Минимальный p-value составил 0.07.\n",
    "    3. **H0 - Конверсии группы 247 и 248 равны.** Отвергнуть данную гипотезу не удалось. Минимальный p-value составил 0.45.\n",
    "    4. **H0 - Конверсии объединенных групп 246 + 247 и 248 равны.** Отвергнуть данную гипотезу не удалось. Минимальный p-value составил 0.18.\n",
    "\n",
    "    Тестов было много, поэтому я решил провести поправку на множественную проверку гипотез методом Холма, а также изменить уровень значимости на 0.1, так как в одном из тестов p_value равняется 0.07. \n",
    "\n",
    "    После повышения alpha до 0.1 произошла ошибка 1 рода - нулевая гипотеза была неверно отвергнута. Понять это помогла поправка Холма, согласно которой во всех тестах статистически значимых различий не наблюдается.\n",
    "\n",
    "**ИТОГ**\n",
    "<br>В ходе работы была установлена последовательность событий при продаже и построение воронки. Затем был проведен A/A/B-тест, в ходе которого было установлено, что изменение шрифта в приложении не оказывает заметного влияния на поведение пользователей. Результаты, полученные для всех групп, включая контрольную, экспериментальную, а также объединенную группы, были практически идентичными на каждом этапе воронки продаж, без каких-либо статистически значимых различий. Данный факт подтвердило и повышение уровня значимости до 0.1 и проведение поправки Холма.\n",
    "\n",
    "Это свидетельствует о том, что замена шрифта не приводит к снижению вовлеченности или конверсии. Следовательно, дизайнеры могут внедрять новый шрифт без опасений, что это негативно повлияет на пользовательский опыт. \n",
    "\n",
    "**Рекоммендации**\n",
    "<br>Для повышения уровня конверсии посетителей в покупатели стоит обратить внимание на этап перехода пользователя с главного экрана **\"MainScreenAppear\"** на экран с товарами **\"OffersScreenAppear\"**. Стоит попробовать создать более свежий, современный и понятный интерфейс главного экрана, а также проверить техническую составляющую перехода (проблема может крыться в долгой загрузке второй страницы)."
   ]
  }
 ],
 "metadata": {
  "ExecuteTimeLog": [
   {
    "duration": 1316,
    "start_time": "2024-11-30T13:21:42.375Z"
   },
   {
    "duration": 3,
    "start_time": "2024-11-30T13:21:43.693Z"
   },
   {
    "duration": 25,
    "start_time": "2024-11-30T13:21:43.697Z"
   },
   {
    "duration": 190,
    "start_time": "2024-11-30T13:21:43.724Z"
   },
   {
    "duration": 12,
    "start_time": "2024-11-30T13:21:43.916Z"
   },
   {
    "duration": 39,
    "start_time": "2024-11-30T13:21:43.929Z"
   },
   {
    "duration": 6,
    "start_time": "2024-11-30T13:21:43.970Z"
   },
   {
    "duration": 138,
    "start_time": "2024-11-30T13:21:43.978Z"
   },
   {
    "duration": 18,
    "start_time": "2024-11-30T13:21:44.117Z"
   },
   {
    "duration": 80,
    "start_time": "2024-11-30T13:21:44.136Z"
   },
   {
    "duration": 101,
    "start_time": "2024-11-30T13:21:44.217Z"
   },
   {
    "duration": 21,
    "start_time": "2024-11-30T13:21:44.320Z"
   },
   {
    "duration": 25,
    "start_time": "2024-11-30T13:21:44.343Z"
   },
   {
    "duration": 6,
    "start_time": "2024-11-30T13:21:44.371Z"
   },
   {
    "duration": 21,
    "start_time": "2024-11-30T13:21:44.378Z"
   },
   {
    "duration": 46,
    "start_time": "2024-11-30T13:21:44.401Z"
   },
   {
    "duration": 265,
    "start_time": "2024-11-30T13:21:44.449Z"
   },
   {
    "duration": 212,
    "start_time": "2024-11-30T13:21:44.715Z"
   },
   {
    "duration": 202,
    "start_time": "2024-11-30T13:21:44.928Z"
   },
   {
    "duration": 6,
    "start_time": "2024-11-30T13:21:45.132Z"
   },
   {
    "duration": 37,
    "start_time": "2024-11-30T13:21:45.140Z"
   },
   {
    "duration": 307,
    "start_time": "2024-11-30T13:21:45.178Z"
   },
   {
    "duration": 28,
    "start_time": "2024-11-30T13:21:45.487Z"
   },
   {
    "duration": 14,
    "start_time": "2024-11-30T13:21:45.517Z"
   },
   {
    "duration": 52,
    "start_time": "2024-11-30T13:21:45.533Z"
   },
   {
    "duration": 250,
    "start_time": "2024-11-30T13:21:45.587Z"
   },
   {
    "duration": 223,
    "start_time": "2024-11-30T13:21:45.839Z"
   },
   {
    "duration": 279,
    "start_time": "2024-11-30T13:21:46.064Z"
   },
   {
    "duration": 17,
    "start_time": "2024-11-30T13:21:46.345Z"
   },
   {
    "duration": 36,
    "start_time": "2024-11-30T13:21:46.363Z"
   },
   {
    "duration": 65,
    "start_time": "2024-11-30T13:21:46.400Z"
   },
   {
    "duration": 10,
    "start_time": "2024-11-30T13:21:46.466Z"
   },
   {
    "duration": 552,
    "start_time": "2024-11-30T13:21:46.477Z"
   },
   {
    "duration": 165,
    "start_time": "2024-11-30T13:21:47.031Z"
   },
   {
    "duration": 8,
    "start_time": "2024-11-30T13:21:47.198Z"
   },
   {
    "duration": 57,
    "start_time": "2024-11-30T13:21:47.207Z"
   },
   {
    "duration": 4,
    "start_time": "2024-11-30T13:21:47.266Z"
   },
   {
    "duration": 100,
    "start_time": "2024-11-30T13:21:47.272Z"
   },
   {
    "duration": 156,
    "start_time": "2024-11-30T13:21:47.374Z"
   },
   {
    "duration": 0,
    "start_time": "2024-11-30T13:21:47.532Z"
   },
   {
    "duration": 0,
    "start_time": "2024-11-30T13:21:47.533Z"
   },
   {
    "duration": 0,
    "start_time": "2024-11-30T13:21:47.534Z"
   },
   {
    "duration": 0,
    "start_time": "2024-11-30T13:21:47.535Z"
   },
   {
    "duration": 0,
    "start_time": "2024-11-30T13:21:47.536Z"
   },
   {
    "duration": 0,
    "start_time": "2024-11-30T13:21:47.537Z"
   },
   {
    "duration": 0,
    "start_time": "2024-11-30T13:21:47.538Z"
   },
   {
    "duration": 0,
    "start_time": "2024-11-30T13:21:47.539Z"
   },
   {
    "duration": 0,
    "start_time": "2024-11-30T13:21:47.540Z"
   },
   {
    "duration": 14,
    "start_time": "2024-11-30T13:40:12.024Z"
   },
   {
    "duration": 6,
    "start_time": "2024-11-30T13:40:12.040Z"
   },
   {
    "duration": 18,
    "start_time": "2024-11-30T13:40:12.047Z"
   },
   {
    "duration": 12,
    "start_time": "2024-11-30T13:40:12.067Z"
   },
   {
    "duration": 27,
    "start_time": "2024-11-30T13:40:12.080Z"
   },
   {
    "duration": 488,
    "start_time": "2024-11-30T13:40:12.108Z"
   },
   {
    "duration": 293,
    "start_time": "2024-11-30T13:40:12.597Z"
   },
   {
    "duration": 22,
    "start_time": "2024-11-30T13:40:12.892Z"
   },
   {
    "duration": 39,
    "start_time": "2024-11-30T13:40:12.916Z"
   },
   {
    "duration": 1371,
    "start_time": "2024-12-02T21:09:32.483Z"
   },
   {
    "duration": 4,
    "start_time": "2024-12-02T21:09:33.856Z"
   },
   {
    "duration": 13,
    "start_time": "2024-12-02T21:09:33.865Z"
   },
   {
    "duration": 194,
    "start_time": "2024-12-02T21:09:33.880Z"
   },
   {
    "duration": 14,
    "start_time": "2024-12-02T21:09:34.076Z"
   },
   {
    "duration": 36,
    "start_time": "2024-12-02T21:09:34.091Z"
   },
   {
    "duration": 17,
    "start_time": "2024-12-02T21:09:34.129Z"
   },
   {
    "duration": 200,
    "start_time": "2024-12-02T21:09:34.148Z"
   },
   {
    "duration": 27,
    "start_time": "2024-12-02T21:09:34.351Z"
   },
   {
    "duration": 106,
    "start_time": "2024-12-02T21:09:34.379Z"
   },
   {
    "duration": 143,
    "start_time": "2024-12-02T21:09:34.487Z"
   },
   {
    "duration": 38,
    "start_time": "2024-12-02T21:09:34.632Z"
   },
   {
    "duration": 92,
    "start_time": "2024-12-02T21:09:34.672Z"
   },
   {
    "duration": 42,
    "start_time": "2024-12-02T21:09:34.766Z"
   },
   {
    "duration": 57,
    "start_time": "2024-12-02T21:09:34.810Z"
   },
   {
    "duration": 9,
    "start_time": "2024-12-02T21:09:34.869Z"
   },
   {
    "duration": 66,
    "start_time": "2024-12-02T21:09:34.880Z"
   },
   {
    "duration": 167,
    "start_time": "2024-12-02T21:09:34.947Z"
   },
   {
    "duration": 177,
    "start_time": "2024-12-02T21:09:35.120Z"
   },
   {
    "duration": 259,
    "start_time": "2024-12-02T21:09:35.299Z"
   },
   {
    "duration": 227,
    "start_time": "2024-12-02T21:09:35.559Z"
   },
   {
    "duration": 221,
    "start_time": "2024-12-02T21:09:35.788Z"
   },
   {
    "duration": 6,
    "start_time": "2024-12-02T21:09:36.020Z"
   },
   {
    "duration": 63,
    "start_time": "2024-12-02T21:09:36.027Z"
   },
   {
    "duration": 305,
    "start_time": "2024-12-02T21:09:36.091Z"
   },
   {
    "duration": 68,
    "start_time": "2024-12-02T21:09:36.397Z"
   },
   {
    "duration": 14,
    "start_time": "2024-12-02T21:09:36.469Z"
   },
   {
    "duration": 53,
    "start_time": "2024-12-02T21:09:36.484Z"
   },
   {
    "duration": 347,
    "start_time": "2024-12-02T21:09:36.539Z"
   },
   {
    "duration": 227,
    "start_time": "2024-12-02T21:09:36.888Z"
   },
   {
    "duration": 208,
    "start_time": "2024-12-02T21:09:37.117Z"
   },
   {
    "duration": 10,
    "start_time": "2024-12-02T21:09:37.327Z"
   },
   {
    "duration": 94,
    "start_time": "2024-12-02T21:09:37.338Z"
   },
   {
    "duration": 56,
    "start_time": "2024-12-02T21:09:37.434Z"
   },
   {
    "duration": 34,
    "start_time": "2024-12-02T21:09:37.491Z"
   },
   {
    "duration": 118,
    "start_time": "2024-12-02T21:09:37.526Z"
   },
   {
    "duration": 0,
    "start_time": "2024-12-02T21:09:37.646Z"
   },
   {
    "duration": 1,
    "start_time": "2024-12-02T21:09:37.647Z"
   },
   {
    "duration": 0,
    "start_time": "2024-12-02T21:09:37.648Z"
   },
   {
    "duration": 0,
    "start_time": "2024-12-02T21:09:37.650Z"
   },
   {
    "duration": 0,
    "start_time": "2024-12-02T21:09:37.651Z"
   },
   {
    "duration": 0,
    "start_time": "2024-12-02T21:09:37.652Z"
   },
   {
    "duration": 0,
    "start_time": "2024-12-02T21:09:37.654Z"
   },
   {
    "duration": 0,
    "start_time": "2024-12-02T21:09:37.655Z"
   },
   {
    "duration": 0,
    "start_time": "2024-12-02T21:09:37.656Z"
   },
   {
    "duration": 0,
    "start_time": "2024-12-02T21:09:37.656Z"
   },
   {
    "duration": 0,
    "start_time": "2024-12-02T21:09:37.658Z"
   },
   {
    "duration": 0,
    "start_time": "2024-12-02T21:09:37.659Z"
   },
   {
    "duration": 0,
    "start_time": "2024-12-02T21:09:37.660Z"
   },
   {
    "duration": 0,
    "start_time": "2024-12-02T21:09:37.661Z"
   },
   {
    "duration": 0,
    "start_time": "2024-12-02T21:09:37.662Z"
   },
   {
    "duration": 0,
    "start_time": "2024-12-02T21:09:37.663Z"
   },
   {
    "duration": 0,
    "start_time": "2024-12-02T21:09:37.664Z"
   },
   {
    "duration": 4421,
    "start_time": "2024-12-02T21:21:57.289Z"
   },
   {
    "duration": 16,
    "start_time": "2024-12-02T21:22:01.712Z"
   },
   {
    "duration": 234,
    "start_time": "2024-12-02T21:22:01.730Z"
   },
   {
    "duration": 8,
    "start_time": "2024-12-02T21:22:01.966Z"
   },
   {
    "duration": 77,
    "start_time": "2024-12-02T21:22:01.976Z"
   },
   {
    "duration": 6,
    "start_time": "2024-12-02T21:22:02.054Z"
   },
   {
    "duration": 132,
    "start_time": "2024-12-02T21:22:02.061Z"
   },
   {
    "duration": 204,
    "start_time": "2024-12-02T21:22:02.195Z"
   },
   {
    "duration": 10,
    "start_time": "2024-12-02T21:22:02.400Z"
   },
   {
    "duration": 20,
    "start_time": "2024-12-02T21:22:02.425Z"
   },
   {
    "duration": 25,
    "start_time": "2024-12-02T21:22:02.446Z"
   },
   {
    "duration": 22,
    "start_time": "2024-12-02T21:22:02.473Z"
   },
   {
    "duration": 67,
    "start_time": "2024-12-02T21:22:02.497Z"
   },
   {
    "duration": 635,
    "start_time": "2024-12-02T21:22:02.566Z"
   },
   {
    "duration": 344,
    "start_time": "2024-12-02T21:22:03.202Z"
   },
   {
    "duration": 22,
    "start_time": "2024-12-02T21:22:03.548Z"
   },
   {
    "duration": 64,
    "start_time": "2024-12-02T21:22:03.572Z"
   }
  ],
  "kernelspec": {
   "display_name": "Python 3 (ipykernel)",
   "language": "python",
   "name": "python3"
  },
  "language_info": {
   "codemirror_mode": {
    "name": "ipython",
    "version": 3
   },
   "file_extension": ".py",
   "mimetype": "text/x-python",
   "name": "python",
   "nbconvert_exporter": "python",
   "pygments_lexer": "ipython3",
   "version": "3.11.7"
  },
  "toc": {
   "base_numbering": 1,
   "nav_menu": {},
   "number_sections": true,
   "sideBar": true,
   "skip_h1_title": true,
   "title_cell": "Table of Contents",
   "title_sidebar": "Contents",
   "toc_cell": false,
   "toc_position": {},
   "toc_section_display": true,
   "toc_window_display": false
  }
 },
 "nbformat": 4,
 "nbformat_minor": 5
}
